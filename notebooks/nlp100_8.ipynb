{
 "cells": [
  {
   "cell_type": "markdown",
   "metadata": {},
   "source": [
    "# Chapter 8: ニューラルネット\n",
    "\n",
    "第6章で取り組んだニュース記事のカテゴリ分類を題材として，ニューラルネットワークでカテゴリ分類モデルを実装する．なお，この章ではPyTorch, TensorFlow, Chainerなどの機械学習プラットフォームを活用せよ．"
   ]
  },
  {
   "cell_type": "markdown",
   "metadata": {},
   "source": [
    "## 70. 単語ベクトルの和による特徴量\n",
    "\n",
    "問題50で構築した学習データ，検証データ，評価データを行列・ベクトルに変換したい．例えば，学習データについて，すべての事例$x_i$の特徴ベクトル$\\boldsymbol{x}_i$を並べた行列$X$と，正解ラベルを並べた行列（ベクトル）$Y$を作成したい．\n",
    "\n",
    "$$\n",
    "X = \\begin{pmatrix} \n",
    "  \\boldsymbol{x}_1 \\\\ \n",
    "  \\boldsymbol{x}_2 \\\\ \n",
    "  \\dots \\\\ \n",
    "  \\boldsymbol{x}_n \\\\ \n",
    "\\end{pmatrix} \\in \\mathbb{R}^{n \\times d},\n",
    "Y = \\begin{pmatrix} \n",
    "  y_1 \\\\ \n",
    "  y_2 \\\\ \n",
    "  \\dots \\\\ \n",
    "  y_n \\\\ \n",
    "\\end{pmatrix} \\in \\mathbb{N}^{n}\n",
    "$$\n",
    "\n",
    "ここで，$n$は学習データの事例数であり，$\\boldsymbol{x}_i \\in \\mathbb{R}^d$と$y_i \\in \\mathbb{N}$はそれぞれ，$i \\in \\{1, \\dots, n\\}$番目の事例の特徴量ベクトルと正解ラベルを表す．\n",
    "なお，今回は「ビジネス」「科学技術」「エンターテイメント」「健康」の4カテゴリ分類である．$\\mathbb{N}_{<4}$で$4$未満の自然数（$0$を含む）を表すことにすれば，任意の事例の正解ラベル$y_i$は$y_i \\in \\mathbb{N}_{<4}$で表現できる．\n",
    "以降では，ラベルの種類数を$L$で表す（今回の分類タスクでは$L=4$である）．\n",
    "\n",
    "$i$番目の事例の特徴ベクトル$\\boldsymbol{x}_i$は，次式で求める．\n",
    "\n",
    "$$\n",
    "\\boldsymbol{x}_i = \\frac{1}{T_i} \\sum_{t=1}^{T_i} \\mathrm{emb}(w_{i,t})\n",
    "$$\n",
    "\n",
    "ここで，$i$番目の事例は$T_i$個の（記事見出しの）単語列$(w_{i,1}, w_{i,2}, \\dots, w_{i,T_i})$から構成され，$\\mathrm{emb}(w) \\in \\mathbb{R}^d$は単語$w$に対応する単語ベクトル（次元数は$d$）である．すなわち，$i$番目の事例の記事見出しを，その見出しに含まれる単語のベクトルの平均で表現したものが$\\boldsymbol{x}_i$である．今回は単語ベクトルとして，問題60でダウンロードしたものを用いればよい．$300$次元の単語ベクトルを用いたので，$d=300$である．\n",
    "\n",
    "$i$番目の事例のラベル$y_i$は，次のように定義する．\n",
    "\n",
    "$$\n",
    "y_i = \\begin{cases}\n",
    "0 & (\\mbox{記事}x_i\\mbox{が「ビジネス」カテゴリの場合}) \\\\\n",
    "1 & (\\mbox{記事}x_i\\mbox{が「科学技術」カテゴリの場合}) \\\\\n",
    "2 & (\\mbox{記事}x_i\\mbox{が「エンターテイメント」カテゴリの場合}) \\\\\n",
    "3 & (\\mbox{記事}x_i\\mbox{が「健康」カテゴリの場合}) \\\\\n",
    "\\end{cases}\n",
    "$$\n",
    "\n",
    "なお，カテゴリ名とラベルの番号が一対一で対応付いていれば，上式の通りの対応付けでなくてもよい．\n",
    "\n",
    "以上の仕様に基づき，以下の行列・ベクトルを作成し，ファイルに保存せよ．\n",
    "\n",
    "+ 学習データの特徴量行列: $X_{\\rm train} \\in \\mathbb{R}^{N_t \\times d}$\n",
    "+ 学習データのラベルベクトル: $Y_{\\rm train} \\in \\mathbb{N}^{N_t}$\n",
    "+ 検証データの特徴量行列: $X_{\\rm valid} \\in \\mathbb{R}^{N_v \\times d}$\n",
    "+ 検証データのラベルベクトル: $Y_{\\rm valid} \\in \\mathbb{N}^{N_v}$\n",
    "+ 評価データの特徴量行列: $X_{\\rm test} \\in \\mathbb{R}^{N_e \\times d}$\n",
    "+ 評価データのラベルベクトル: $Y_{\\rm test} \\in \\mathbb{N}^{N_e}$\n",
    "\n",
    "なお，$N_t, N_v, N_e$はそれぞれ，学習データの事例数，検証データの事例数，評価データの事例数である．"
   ]
  },
  {
   "cell_type": "code",
   "execution_count": 10,
   "metadata": {},
   "outputs": [],
   "source": [
    "import pandas as pd\n",
    "import numpy as np"
   ]
  },
  {
   "cell_type": "code",
   "execution_count": 4,
   "metadata": {},
   "outputs": [],
   "source": [
    "train_df = pd.read_table('../data/news_aggregator/train.txt')\n",
    "valid_df = pd.read_table('../data/news_aggregator/valid.txt')\n",
    "test_df = pd.read_table('../data/news_aggregator/test.txt')"
   ]
  },
  {
   "cell_type": "code",
   "execution_count": 6,
   "metadata": {},
   "outputs": [],
   "source": [
    "categories = ['b', 't', 'e', 'm']"
   ]
  },
  {
   "cell_type": "code",
   "execution_count": 7,
   "metadata": {},
   "outputs": [],
   "source": [
    "from gensim.models import KeyedVectors"
   ]
  },
  {
   "cell_type": "code",
   "execution_count": 8,
   "metadata": {},
   "outputs": [],
   "source": [
    "model = KeyedVectors.load_word2vec_format('../data/google_news.bin.gz', binary=True)"
   ]
  },
  {
   "cell_type": "code",
   "execution_count": 115,
   "metadata": {},
   "outputs": [],
   "source": [
    "# tokenize, make lowercase and make stem\n",
    "\n",
    "import re\n",
    "import string\n",
    "\n",
    "def tokenize(x):\n",
    "    table = str.maketrans(string.punctuation, ' ' * len(string.punctuation))\n",
    "    x = x.translate(table).split()\n",
    "    x = [w.lower() for w in x]\n",
    "    return x"
   ]
  },
  {
   "cell_type": "code",
   "execution_count": 116,
   "metadata": {},
   "outputs": [],
   "source": [
    "train_df['tokens'] = train_df['title'].map(tokenize)\n",
    "valid_df['tokens'] = valid_df['title'].map(tokenize)\n",
    "test_df['tokens'] = test_df['title'].map(tokenize)"
   ]
  },
  {
   "cell_type": "code",
   "execution_count": 117,
   "metadata": {},
   "outputs": [],
   "source": [
    "def labelize(x):\n",
    "    return categories.index(x)"
   ]
  },
  {
   "cell_type": "code",
   "execution_count": 118,
   "metadata": {},
   "outputs": [],
   "source": [
    "train_df['label'] = train_df['category'].map(labelize)\n",
    "valid_df['label'] = valid_df['category'].map(labelize)\n",
    "test_df['label'] = test_df['category'].map(labelize)"
   ]
  },
  {
   "cell_type": "code",
   "execution_count": 2,
   "metadata": {},
   "outputs": [],
   "source": [
    "import torch\n",
    "\n",
    "def vectorize(tokens):\n",
    "    vec = np.array([model[w] for w in tokens if w in model])\n",
    "    return torch.tensor(np.mean(vec, axis=0))"
   ]
  },
  {
   "cell_type": "code",
   "execution_count": 125,
   "metadata": {},
   "outputs": [],
   "source": [
    "X_train = torch.stack([vectorize(tokens) for tokens in train_df['tokens']])\n",
    "X_valid = torch.stack([vectorize(tokens) for tokens in valid_df['tokens']])\n",
    "X_test = torch.stack([vectorize(tokens) for tokens in test_df['tokens']])"
   ]
  },
  {
   "cell_type": "code",
   "execution_count": 122,
   "metadata": {},
   "outputs": [],
   "source": [
    "y_train = torch.tensor(train_df['label'])\n",
    "y_valid = torch.tensor(valid_df['label'])\n",
    "y_test = torch.tensor(test_df['label'])"
   ]
  },
  {
   "cell_type": "code",
   "execution_count": 129,
   "metadata": {},
   "outputs": [],
   "source": [
    "torch.save(X_train, '../data/X_train.pt')\n",
    "torch.save(X_valid, '../data/X_valid.pt')\n",
    "torch.save(X_test, '../data/X_test.pt')\n",
    "torch.save(y_train, '../data/y_train.pt')\n",
    "torch.save(y_valid, '../data/y_valid.pt')\n",
    "torch.save(y_test, '../data/y_test.pt')"
   ]
  },
  {
   "cell_type": "markdown",
   "metadata": {},
   "source": [
    "## 71. 単層ニューラルネットワークによる予測\n",
    "\n",
    "問題70で保存した行列を読み込み，学習データについて以下の計算を実行せよ．\n",
    "\n",
    "$$\n",
    "\\hat{\\boldsymbol{y}}_1 = {\\rm softmax}(\\boldsymbol{x}_1 W), \\\\\n",
    "\\hat{Y} = {\\rm softmax}(X_{[1:4]} W)\n",
    "$$\n",
    "\n",
    "ただし，${\\rm softmax}$はソフトマックス関数，$X_{[1:4]} \\in \\mathbb{R}^{4 \\times d}$は特徴ベクトル$\\boldsymbol{x}_1, \\boldsymbol{x}_2, \\boldsymbol{x}_3, \\boldsymbol{x}_4$を縦に並べた行列である．\n",
    "\n",
    "$$\n",
    "X_{[1:4]} = \\begin{pmatrix} \n",
    "  \\boldsymbol{x}_1 \\\\ \n",
    "  \\boldsymbol{x}_2 \\\\ \n",
    "  \\boldsymbol{x}_3 \\\\ \n",
    "  \\boldsymbol{x}_4 \\\\ \n",
    "\\end{pmatrix}\n",
    "$$\n",
    "\n",
    "行列$W \\in \\mathbb{R}^{d \\times L}$は単層ニューラルネットワークの重み行列で，ここではランダムな値で初期化すればよい（問題73以降で学習して求める）．なお，$\\hat{\\boldsymbol{y}}_1 \\in \\mathbb{R}^L$は未学習の行列$W$で事例$x_1$を分類したときに，各カテゴリに属する確率を表すベクトルである．\n",
    "同様に，$\\hat{Y} \\in \\mathbb{R}^{n \\times L}$は，学習データの事例$x_1, x_2, x_3, x_4$について，各カテゴリに属する確率を行列として表現している．"
   ]
  },
  {
   "cell_type": "code",
   "execution_count": 3,
   "metadata": {},
   "outputs": [],
   "source": [
    "X_train = torch.load('../data/X_train.pt')\n",
    "X_valid = torch.load('../data/X_valid.pt')\n",
    "X_test = torch.load('../data/X_test.pt')\n",
    "y_train = torch.load('../data/y_train.pt')\n",
    "y_valid = torch.load('../data/y_valid.pt')\n",
    "y_test = torch.load('../data/y_test.pt')"
   ]
  },
  {
   "cell_type": "code",
   "execution_count": 4,
   "metadata": {},
   "outputs": [],
   "source": [
    "from torch import nn\n",
    "\n",
    "class SLPNet(nn.Module):\n",
    "    def __init__(self, input_size, output_size):\n",
    "        super().__init__()\n",
    "        self.fc = nn.Linear(input_size, output_size, bias=False)\n",
    "        nn.init.normal_(self.fc.weight, 0.0, 1.0)\n",
    "    \n",
    "    def forward(self, x):\n",
    "        x = self.fc(x)\n",
    "        return x"
   ]
  },
  {
   "cell_type": "code",
   "execution_count": 5,
   "metadata": {},
   "outputs": [
    {
     "data": {
      "text/plain": [
       "tensor([[0.2459, 0.0837, 0.0331, 0.6374]], grad_fn=<SoftmaxBackward>)"
      ]
     },
     "execution_count": 5,
     "metadata": {},
     "output_type": "execute_result"
    }
   ],
   "source": [
    "model = SLPNet(300, 4)\n",
    "y_hat_1 = torch.softmax(model(X_train[:1]), dim=-1)\n",
    "y_hat_1"
   ]
  },
  {
   "cell_type": "code",
   "execution_count": 6,
   "metadata": {},
   "outputs": [
    {
     "data": {
      "text/plain": [
       "tensor([[0.2459, 0.0837, 0.0331, 0.6374],\n",
       "        [0.1812, 0.3768, 0.0854, 0.3566],\n",
       "        [0.1670, 0.7075, 0.0291, 0.0963],\n",
       "        [0.0173, 0.8451, 0.0378, 0.0999]], grad_fn=<SoftmaxBackward>)"
      ]
     },
     "execution_count": 6,
     "metadata": {},
     "output_type": "execute_result"
    }
   ],
   "source": [
    "Y_hat = torch.softmax(model(X_train[:4]), dim=-1)\n",
    "Y_hat"
   ]
  },
  {
   "cell_type": "markdown",
   "metadata": {},
   "source": [
    "## 72. 損失と勾配の計算\n",
    "\n",
    "学習データの事例$x_1$と事例集合$x_1, x_2, x_3, x_4$に対して，クロスエントロピー損失と，行列$W$に対する勾配を計算せよ．なお，ある事例$x_i$に対して損失は次式で計算される．\n",
    "\n",
    "$$\n",
    "l_i = - \\log [\\mbox{事例}x_i\\mbox{が}y_i\\mbox{に分類される確率}]\n",
    "$$\n",
    "\n",
    "ただし，事例集合に対するクロスエントロピー損失は，その集合に含まれる各事例の損失の平均とする．"
   ]
  },
  {
   "cell_type": "code",
   "execution_count": 7,
   "metadata": {},
   "outputs": [],
   "source": [
    "criterion = nn.CrossEntropyLoss()"
   ]
  },
  {
   "cell_type": "code",
   "execution_count": 8,
   "metadata": {},
   "outputs": [
    {
     "name": "stdout",
     "output_type": "stream",
     "text": [
      "損失: 1.4029898643493652\n",
      "勾配: tensor([[ 0.0230, -0.0311, -0.0346,  ..., -0.0311, -0.0035, -0.0360],\n",
      "        [-0.0026,  0.0034,  0.0038,  ...,  0.0035,  0.0004,  0.0040],\n",
      "        [-0.0010,  0.0014,  0.0015,  ...,  0.0014,  0.0002,  0.0016],\n",
      "        [-0.0195,  0.0263,  0.0293,  ...,  0.0263,  0.0029,  0.0305]])\n"
     ]
    }
   ],
   "source": [
    "loss_1 = criterion(model(X_train[:1]), y_train[:1])\n",
    "model.zero_grad()\n",
    "loss_1.backward()\n",
    "\n",
    "print(f'損失: {loss_1}')\n",
    "print(f'勾配: {model.fc.weight.grad}')"
   ]
  },
  {
   "cell_type": "code",
   "execution_count": 9,
   "metadata": {},
   "outputs": [
    {
     "name": "stdout",
     "output_type": "stream",
     "text": [
      "損失: 2.676755905151367\n",
      "勾配: tensor([[ 0.0123, -0.0212, -0.0280,  ..., -0.0171, -0.0167, -0.0125],\n",
      "        [-0.0332,  0.0424,  0.0232,  ..., -0.0134, -0.0163,  0.0346],\n",
      "        [ 0.0299, -0.0354, -0.0063,  ...,  0.0288,  0.0304, -0.0293],\n",
      "        [-0.0091,  0.0141,  0.0111,  ...,  0.0017,  0.0027,  0.0072]])\n"
     ]
    }
   ],
   "source": [
    "loss = criterion(model(X_train[:4]), y_train[:4])\n",
    "model.zero_grad()\n",
    "loss.backward()\n",
    "\n",
    "print(f'損失: {loss}')\n",
    "print(f'勾配: {model.fc.weight.grad}')"
   ]
  },
  {
   "cell_type": "markdown",
   "metadata": {},
   "source": [
    "## 73. 確率的勾配降下法による学習\n",
    "\n",
    "確率的勾配降下法（SGD: Stochastic Gradient Descent）を用いて，行列Wを学習せよ．なお，学習は適当な基準で終了させればよい（例えば「100エポックで終了」など）．"
   ]
  },
  {
   "cell_type": "code",
   "execution_count": 10,
   "metadata": {},
   "outputs": [],
   "source": [
    "from torch.utils.data import Dataset, DataLoader"
   ]
  },
  {
   "cell_type": "code",
   "execution_count": 11,
   "metadata": {},
   "outputs": [],
   "source": [
    "class NewsDataset(Dataset):\n",
    "    def __init__(self, X, y):\n",
    "        self.X = X\n",
    "        self.y = y\n",
    "        \n",
    "    def __len__(self):\n",
    "        return len(self.y)\n",
    "\n",
    "    def __getitem__(self, idx):\n",
    "        return [self.X[idx], self.y[idx]]"
   ]
  },
  {
   "cell_type": "code",
   "execution_count": 12,
   "metadata": {},
   "outputs": [],
   "source": [
    "dataset_train = NewsDataset(X_train, y_train)\n",
    "dataset_valid = NewsDataset(X_valid, y_valid)\n",
    "dataset_test = NewsDataset(X_test, y_test)"
   ]
  },
  {
   "cell_type": "code",
   "execution_count": 13,
   "metadata": {},
   "outputs": [],
   "source": [
    "dataloader_train = DataLoader(dataset_train, batch_size=1, shuffle=True)\n",
    "dataloader_valid = DataLoader(dataset_valid, batch_size=len(dataset_valid), shuffle=False)\n",
    "dataloader_test = DataLoader(dataset_test, batch_size=len(dataset_test), shuffle=False)"
   ]
  },
  {
   "cell_type": "code",
   "execution_count": 64,
   "metadata": {},
   "outputs": [],
   "source": [
    "model = SLPNet(300, 4)\n",
    "criterion = nn.CrossEntropyLoss()\n",
    "optimizer = torch.optim.SGD(model.parameters(), lr=1e-1)"
   ]
  },
  {
   "cell_type": "code",
   "execution_count": 16,
   "metadata": {},
   "outputs": [
    {
     "name": "stdout",
     "output_type": "stream",
     "text": [
      "epoch: 1, loss_train: 0.5462, loss_valid: 0.4083\n",
      "epoch: 2, loss_train: 0.3670, loss_valid: 0.3682\n",
      "epoch: 3, loss_train: 0.3350, loss_valid: 0.3521\n",
      "epoch: 4, loss_train: 0.3176, loss_valid: 0.3474\n",
      "epoch: 5, loss_train: 0.3055, loss_valid: 0.3415\n",
      "epoch: 6, loss_train: 0.2988, loss_valid: 0.3436\n",
      "epoch: 7, loss_train: 0.2923, loss_valid: 0.3366\n",
      "epoch: 8, loss_train: 0.2878, loss_valid: 0.3368\n",
      "epoch: 9, loss_train: 0.2846, loss_valid: 0.3328\n",
      "epoch: 10, loss_train: 0.2810, loss_valid: 0.3313\n",
      "epoch: 11, loss_train: 0.2784, loss_valid: 0.3340\n",
      "epoch: 12, loss_train: 0.2766, loss_valid: 0.3353\n",
      "epoch: 13, loss_train: 0.2744, loss_valid: 0.3348\n",
      "epoch: 14, loss_train: 0.2727, loss_valid: 0.3334\n",
      "epoch: 15, loss_train: 0.2714, loss_valid: 0.3354\n",
      "epoch: 16, loss_train: 0.2697, loss_valid: 0.3325\n",
      "epoch: 17, loss_train: 0.2685, loss_valid: 0.3337\n",
      "epoch: 18, loss_train: 0.2671, loss_valid: 0.3344\n",
      "epoch: 19, loss_train: 0.2661, loss_valid: 0.3323\n",
      "epoch: 20, loss_train: 0.2657, loss_valid: 0.3357\n",
      "epoch: 21, loss_train: 0.2648, loss_valid: 0.3349\n",
      "epoch: 22, loss_train: 0.2642, loss_valid: 0.3344\n",
      "epoch: 23, loss_train: 0.2629, loss_valid: 0.3401\n",
      "epoch: 24, loss_train: 0.2626, loss_valid: 0.3367\n",
      "epoch: 25, loss_train: 0.2619, loss_valid: 0.3369\n",
      "epoch: 26, loss_train: 0.2615, loss_valid: 0.3395\n",
      "epoch: 27, loss_train: 0.2607, loss_valid: 0.3416\n",
      "epoch: 28, loss_train: 0.2607, loss_valid: 0.3381\n",
      "epoch: 29, loss_train: 0.2602, loss_valid: 0.3392\n",
      "epoch: 30, loss_train: 0.2594, loss_valid: 0.3422\n",
      "epoch: 31, loss_train: 0.2594, loss_valid: 0.3406\n",
      "epoch: 32, loss_train: 0.2590, loss_valid: 0.3397\n",
      "epoch: 33, loss_train: 0.2580, loss_valid: 0.3400\n",
      "epoch: 34, loss_train: 0.2583, loss_valid: 0.3400\n",
      "epoch: 35, loss_train: 0.2578, loss_valid: 0.3403\n",
      "epoch: 36, loss_train: 0.2579, loss_valid: 0.3409\n",
      "epoch: 37, loss_train: 0.2573, loss_valid: 0.3423\n",
      "epoch: 38, loss_train: 0.2576, loss_valid: 0.3420\n",
      "epoch: 39, loss_train: 0.2570, loss_valid: 0.3439\n",
      "epoch: 40, loss_train: 0.2567, loss_valid: 0.3429\n",
      "epoch: 41, loss_train: 0.2564, loss_valid: 0.3446\n",
      "epoch: 42, loss_train: 0.2560, loss_valid: 0.3450\n",
      "epoch: 43, loss_train: 0.2558, loss_valid: 0.3436\n",
      "epoch: 44, loss_train: 0.2556, loss_valid: 0.3468\n",
      "epoch: 45, loss_train: 0.2554, loss_valid: 0.3458\n",
      "epoch: 46, loss_train: 0.2553, loss_valid: 0.3458\n",
      "epoch: 47, loss_train: 0.2550, loss_valid: 0.3481\n",
      "epoch: 48, loss_train: 0.2552, loss_valid: 0.3457\n",
      "epoch: 49, loss_train: 0.2547, loss_valid: 0.3471\n",
      "epoch: 50, loss_train: 0.2550, loss_valid: 0.3473\n",
      "epoch: 51, loss_train: 0.2548, loss_valid: 0.3468\n",
      "epoch: 52, loss_train: 0.2546, loss_valid: 0.3469\n",
      "epoch: 53, loss_train: 0.2543, loss_valid: 0.3480\n",
      "epoch: 54, loss_train: 0.2542, loss_valid: 0.3509\n",
      "epoch: 55, loss_train: 0.2539, loss_valid: 0.3531\n",
      "epoch: 56, loss_train: 0.2542, loss_valid: 0.3515\n",
      "epoch: 57, loss_train: 0.2541, loss_valid: 0.3512\n",
      "epoch: 58, loss_train: 0.2539, loss_valid: 0.3488\n",
      "epoch: 59, loss_train: 0.2537, loss_valid: 0.3491\n",
      "epoch: 60, loss_train: 0.2537, loss_valid: 0.3501\n",
      "epoch: 61, loss_train: 0.2538, loss_valid: 0.3521\n",
      "epoch: 62, loss_train: 0.2529, loss_valid: 0.3518\n",
      "epoch: 63, loss_train: 0.2532, loss_valid: 0.3496\n",
      "epoch: 64, loss_train: 0.2537, loss_valid: 0.3520\n",
      "epoch: 65, loss_train: 0.2534, loss_valid: 0.3512\n",
      "epoch: 66, loss_train: 0.2530, loss_valid: 0.3529\n",
      "epoch: 67, loss_train: 0.2534, loss_valid: 0.3524\n",
      "epoch: 68, loss_train: 0.2529, loss_valid: 0.3509\n",
      "epoch: 69, loss_train: 0.2523, loss_valid: 0.3529\n",
      "epoch: 70, loss_train: 0.2531, loss_valid: 0.3525\n",
      "epoch: 71, loss_train: 0.2530, loss_valid: 0.3520\n",
      "epoch: 72, loss_train: 0.2529, loss_valid: 0.3528\n",
      "epoch: 73, loss_train: 0.2528, loss_valid: 0.3518\n",
      "epoch: 74, loss_train: 0.2524, loss_valid: 0.3522\n",
      "epoch: 75, loss_train: 0.2523, loss_valid: 0.3565\n",
      "epoch: 76, loss_train: 0.2521, loss_valid: 0.3533\n",
      "epoch: 77, loss_train: 0.2523, loss_valid: 0.3548\n",
      "epoch: 78, loss_train: 0.2518, loss_valid: 0.3614\n",
      "epoch: 79, loss_train: 0.2528, loss_valid: 0.3592\n",
      "epoch: 80, loss_train: 0.2524, loss_valid: 0.3561\n",
      "epoch: 81, loss_train: 0.2521, loss_valid: 0.3562\n",
      "epoch: 82, loss_train: 0.2524, loss_valid: 0.3537\n",
      "epoch: 83, loss_train: 0.2522, loss_valid: 0.3559\n",
      "epoch: 84, loss_train: 0.2516, loss_valid: 0.3594\n",
      "epoch: 85, loss_train: 0.2524, loss_valid: 0.3547\n",
      "epoch: 86, loss_train: 0.2520, loss_valid: 0.3572\n",
      "epoch: 87, loss_train: 0.2521, loss_valid: 0.3559\n",
      "epoch: 88, loss_train: 0.2519, loss_valid: 0.3557\n",
      "epoch: 89, loss_train: 0.2519, loss_valid: 0.3566\n",
      "epoch: 90, loss_train: 0.2524, loss_valid: 0.3561\n",
      "epoch: 91, loss_train: 0.2515, loss_valid: 0.3638\n",
      "epoch: 92, loss_train: 0.2521, loss_valid: 0.3558\n",
      "epoch: 93, loss_train: 0.2518, loss_valid: 0.3558\n",
      "epoch: 94, loss_train: 0.2517, loss_valid: 0.3564\n",
      "epoch: 95, loss_train: 0.2515, loss_valid: 0.3567\n",
      "epoch: 96, loss_train: 0.2519, loss_valid: 0.3606\n",
      "epoch: 97, loss_train: 0.2514, loss_valid: 0.3605\n",
      "epoch: 98, loss_train: 0.2518, loss_valid: 0.3569\n",
      "epoch: 99, loss_train: 0.2513, loss_valid: 0.3565\n",
      "epoch: 100, loss_train: 0.2509, loss_valid: 0.3593\n"
     ]
    }
   ],
   "source": [
    "num_epochs = 100\n",
    "\n",
    "for epoch in range(num_epochs):\n",
    "    model.train()\n",
    "    loss_train = 0.0\n",
    "    for i, (inputs, labels) in enumerate(dataloader_train):\n",
    "        optimizer.zero_grad()\n",
    "        \n",
    "        outputs = model(inputs)\n",
    "        loss = criterion(outputs, labels)\n",
    "        loss.backward()\n",
    "        optimizer.step()\n",
    "        \n",
    "        loss_train += loss.item()\n",
    "    \n",
    "    loss_train = loss_train / i\n",
    "    \n",
    "    model.eval()\n",
    "    with torch.no_grad():\n",
    "        inputs, labels = next(iter(dataloader_valid))\n",
    "        outputs = model(inputs)\n",
    "        loss_valid = criterion(outputs, labels)\n",
    "        \n",
    "    print(f'epoch: {epoch + 1}, loss_train: {loss_train:.4f}, loss_valid: {loss_valid:.4f}')  "
   ]
  },
  {
   "cell_type": "markdown",
   "metadata": {},
   "source": [
    "## 74. 正解率の計測\n",
    "\n",
    "問題73で求めた行列を用いて学習データおよび評価データの事例を分類したとき，その正解率をそれぞれ求めよ．"
   ]
  },
  {
   "cell_type": "code",
   "execution_count": 110,
   "metadata": {},
   "outputs": [],
   "source": [
    "def calculate_accuracy(model, loader):\n",
    "    model.eval()\n",
    "    total = 0\n",
    "    correct = 0\n",
    "    with torch.no_grad():\n",
    "        for inputs, labels in loader:\n",
    "            inputs, labels = inputs.to(device), labels.to(device)\n",
    "            outputs = model(inputs)\n",
    "            pred = torch.argmax(outputs, dim=-1)\n",
    "            total += len(inputs)\n",
    "            correct += (pred == labels).sum().item()\n",
    "\n",
    "    return correct / total"
   ]
  },
  {
   "cell_type": "code",
   "execution_count": 18,
   "metadata": {},
   "outputs": [
    {
     "name": "stdout",
     "output_type": "stream",
     "text": [
      "train accuracy: 0.916\n",
      "test accuracy: 0.895\n"
     ]
    }
   ],
   "source": [
    "acc_train = calculate_accuracy(model, dataloader_train)\n",
    "acc_test = calculate_accuracy(model, dataloader_test)\n",
    "print(f'train accuracy: {acc_train:.3f}')\n",
    "print(f'test accuracy: {acc_test:.3f}')"
   ]
  },
  {
   "cell_type": "markdown",
   "metadata": {},
   "source": [
    "## 75. 損失と正解率のプロット\n",
    "\n",
    "問題73のコードを改変し，各エポックのパラメータ更新が完了するたびに，訓練データでの損失，正解率，検証データでの損失，正解率をグラフにプロットし，学習の進捗状況を確認できるようにせよ．"
   ]
  },
  {
   "cell_type": "code",
   "execution_count": 53,
   "metadata": {},
   "outputs": [],
   "source": [
    "import matplotlib.pyplot as plt\n",
    "from IPython.display import clear_output\n",
    "%matplotlib inline"
   ]
  },
  {
   "cell_type": "code",
   "execution_count": 63,
   "metadata": {},
   "outputs": [
    {
     "data": {
      "image/png": "[encoded data removed]",
      "text/plain": [
       "<Figure size 1152x432 with 2 Axes>"
      ]
     },
     "metadata": {},
     "output_type": "display_data"
    },
    {
     "name": "stderr",
     "output_type": "stream",
     "text": [
      "100%|██████████| 100/100 [07:40<00:00,  4.60s/it]\n"
     ]
    }
   ],
   "source": [
    "accuracy_res = {\n",
    "    'train': [],\n",
    "    'valid': []\n",
    "}\n",
    "\n",
    "loss_res = {\n",
    "    'train': [],\n",
    "    'valid': []\n",
    "}\n",
    "\n",
    "fig = plt.figure(figsize=(16, 6))\n",
    "ax1 = fig.add_subplot(1, 2, 1)\n",
    "ax2 = fig.add_subplot(1, 2, 2, sharey=ax1)\n",
    "ax1.set_xlabel('Train')\n",
    "ax2.set_xlabel('Valid')\n",
    "\n",
    "num_epochs = 100\n",
    "\n",
    "for epoch in tqdm(range(num_epochs)):\n",
    "    model.train()\n",
    "    loss_train = 0.0\n",
    "    for i, (inputs, labels) in enumerate(dataloader_train):\n",
    "        optimizer.zero_grad()\n",
    "        \n",
    "        outputs = model(inputs)\n",
    "        loss = criterion(outputs, labels)\n",
    "        loss.backward()\n",
    "        optimizer.step()\n",
    "        \n",
    "        loss_train += loss.item()\n",
    "    \n",
    "    loss_train = loss_train / i\n",
    "    \n",
    "    model.eval()\n",
    "    with torch.no_grad():\n",
    "        inputs, labels = next(iter(dataloader_valid))\n",
    "        outputs = model(inputs)\n",
    "        loss_valid = criterion(outputs, labels)\n",
    "        \n",
    "    train_accuracy = calculate_accuracy(model, dataloader_train)\n",
    "    valid_accuracy = calculate_accuracy(model, dataloader_valid)\n",
    "\n",
    "    accuracy_res['train'].append(train_accuracy)\n",
    "    accuracy_res['valid'].append(valid_accuracy)\n",
    "\n",
    "    loss_res['train'].append(loss_train)\n",
    "    loss_res['valid'].append(loss_valid)\n",
    "\n",
    "    \n",
    "    clear_output(wait=True)\n",
    "    \n",
    "    line1, = ax1.plot(range(1, epoch + 2), loss_res['train'], label='loss', color='royalblue')\n",
    "    line2, = ax1.plot(range(1, epoch + 2), accuracy_res['train'], label='train', color='darkorange')\n",
    "\n",
    "    line3, = ax2.plot(range(1, epoch + 2), loss_res['valid'], label='loss', color='royalblue')\n",
    "    line4, = ax2.plot(range(1, epoch + 2), accuracy_res['valid'], label='accuracy', color='darkorange')\n",
    "    \n",
    "    display(fig)\n",
    "    \n",
    "    line1.remove()\n",
    "    line2.remove()\n",
    "    line3.remove()\n",
    "    line4.remove()\n",
    "    \n",
    "plt.close(fig)"
   ]
  },
  {
   "cell_type": "markdown",
   "metadata": {},
   "source": [
    "## 76. チェックポイント\n",
    "\n",
    "問題75のコードを改変し，各エポックのパラメータ更新が完了するたびに，チェックポイント（学習途中のパラメータ（重み行列など）の値や最適化アルゴリズムの内部状態）をファイルに書き出せ．"
   ]
  },
  {
   "cell_type": "code",
   "execution_count": 66,
   "metadata": {},
   "outputs": [
    {
     "data": {
      "image/png": "[encoded data removed]",
      "text/plain": [
       "<Figure size 1152x432 with 2 Axes>"
      ]
     },
     "metadata": {},
     "output_type": "display_data"
    },
    {
     "name": "stderr",
     "output_type": "stream",
     "text": [
      "100%|██████████| 5/5 [00:23<00:00,  4.60s/it]\n"
     ]
    }
   ],
   "source": [
    "accuracy_res = {\n",
    "    'train': [],\n",
    "    'valid': []\n",
    "}\n",
    "\n",
    "loss_res = {\n",
    "    'train': [],\n",
    "    'valid': []\n",
    "}\n",
    "\n",
    "fig = plt.figure(figsize=(16, 6))\n",
    "ax1 = fig.add_subplot(1, 2, 1)\n",
    "ax2 = fig.add_subplot(1, 2, 2, sharey=ax1)\n",
    "ax1.set_xlabel('Train')\n",
    "ax2.set_xlabel('Valid')\n",
    "\n",
    "num_epochs = 5\n",
    "\n",
    "for epoch in tqdm(range(num_epochs)):\n",
    "    model.train()\n",
    "    loss_train = 0.0\n",
    "    for i, (inputs, labels) in enumerate(dataloader_train):\n",
    "        optimizer.zero_grad()\n",
    "        \n",
    "        outputs = model(inputs)\n",
    "        loss = criterion(outputs, labels)\n",
    "        loss.backward()\n",
    "        optimizer.step()\n",
    "        \n",
    "        loss_train += loss.item()\n",
    "    \n",
    "    loss_train = loss_train / i\n",
    "    \n",
    "    model.eval()\n",
    "    with torch.no_grad():\n",
    "        inputs, labels = next(iter(dataloader_valid))\n",
    "        outputs = model(inputs)\n",
    "        loss_valid = criterion(outputs, labels)\n",
    "        \n",
    "    train_accuracy = calculate_accuracy(model, dataloader_train)\n",
    "    valid_accuracy = calculate_accuracy(model, dataloader_valid)\n",
    "\n",
    "    accuracy_res['train'].append(train_accuracy)\n",
    "    accuracy_res['valid'].append(valid_accuracy)\n",
    "\n",
    "    loss_res['train'].append(loss_train)\n",
    "    loss_res['valid'].append(loss_valid)\n",
    "\n",
    "    \n",
    "    clear_output(wait=True)\n",
    "    \n",
    "    line1, = ax1.plot(range(1, epoch + 2), loss_res['train'], label='loss', color='royalblue')\n",
    "    line2, = ax1.plot(range(1, epoch + 2), accuracy_res['train'], label='train', color='darkorange')\n",
    "\n",
    "    line3, = ax2.plot(range(1, epoch + 2), loss_res['valid'], label='loss', color='royalblue')\n",
    "    line4, = ax2.plot(range(1, epoch + 2), accuracy_res['valid'], label='accuracy', color='darkorange')\n",
    "    \n",
    "    display(fig)\n",
    "    \n",
    "    line1.remove()\n",
    "    line2.remove()\n",
    "    line3.remove()\n",
    "    line4.remove()\n",
    "    \n",
    "    torch.save({\n",
    "        'epoch': 'epoch',\n",
    "        'model_state_dict': model.state_dict(),\n",
    "        'optimizer_state_dict': optimizer.state_dict()\n",
    "    }, f'../data/checkpoints/checkpoint_{epoch}.pt')\n",
    "    \n",
    "plt.close(fig)"
   ]
  },
  {
   "cell_type": "markdown",
   "metadata": {},
   "source": [
    "## 77. ミニバッチ化\n",
    "\n",
    "問題76のコードを改変し，$B$事例ごとに損失・勾配を計算し，行列$W$の値を更新せよ（ミニバッチ化）．$B$の値を$1, 2, 4, 8, \\dots$と変化させながら，1エポックの学習に要する時間を比較せよ．"
   ]
  },
  {
   "cell_type": "code",
   "execution_count": 79,
   "metadata": {},
   "outputs": [],
   "source": [
    "import datetime"
   ]
  },
  {
   "cell_type": "code",
   "execution_count": 101,
   "metadata": {},
   "outputs": [
    {
     "data": {
      "image/png": "[encoded data removed]",
      "text/plain": [
       "<Figure size 576x432 with 1 Axes>"
      ]
     },
     "metadata": {},
     "output_type": "display_data"
    }
   ],
   "source": [
    "batch_sizes = [2 ** x for x in range(8)]\n",
    "times = []\n",
    "\n",
    "fig = plt.figure(figsize=(8, 6))\n",
    "ax = fig.add_subplot(1, 1, 1)\n",
    "ax.set_xlabel('Epoch')\n",
    "ax.set_ylabel('Seconds/Epoch')\n",
    "\n",
    "num_epochs = 5\n",
    "\n",
    "for idx, batch_size in enumerate(batch_sizes):\n",
    "    dataloader_train = DataLoader(dataset_train, batch_size=batch_size, shuffle=True)\n",
    "    \n",
    "    model = SLPNet(300, 4)\n",
    "    criterion = nn.CrossEntropyLoss()\n",
    "    optimizer = torch.optim.SGD(model.parameters(), lr=1e-1)\n",
    "    \n",
    "    start_time = datetime.datetime.now()\n",
    "    for epoch in tqdm(range(num_epochs)):\n",
    "        model.train()\n",
    "        loss_train = 0.0\n",
    "        for i, (inputs, labels) in enumerate(dataloader_train):\n",
    "            optimizer.zero_grad()\n",
    "\n",
    "            outputs = model(inputs)\n",
    "            loss = criterion(outputs, labels)\n",
    "            loss.backward()\n",
    "            optimizer.step()\n",
    "\n",
    "            loss_train += loss.item()\n",
    "\n",
    "        loss_train = loss_train / i\n",
    "\n",
    "        model.eval()\n",
    "        with torch.no_grad():\n",
    "            inputs, labels = next(iter(dataloader_valid))\n",
    "            outputs = model(inputs)\n",
    "            loss_valid = criterion(outputs, labels)\n",
    "\n",
    "        \n",
    "    \n",
    "    end_time = datetime.datetime.now()\n",
    "    average_time = (end_time - start_time) / num_epochs\n",
    "    times.append(average_time.seconds)\n",
    "    \n",
    "    clear_output(wait=True)\n",
    "    try:\n",
    "        line.remove()\n",
    "    except:\n",
    "        pass\n",
    "\n",
    "    line, = ax.plot(batch_sizes[:idx+1], times, color='royalblue')\n",
    "    \n",
    "    display(fig)\n",
    "    \n",
    "plt.close(fig)"
   ]
  },
  {
   "cell_type": "markdown",
   "metadata": {},
   "source": [
    "## 78. GPU上での学習\n",
    "\n",
    "問題77のコードを改変し，GPU上で学習を実行せよ．"
   ]
  },
  {
   "cell_type": "code",
   "execution_count": 112,
   "metadata": {},
   "outputs": [],
   "source": [
    "device = torch.device('cuda:0' if torch.cuda.is_available() else 'cpu')"
   ]
  },
  {
   "cell_type": "code",
   "execution_count": 122,
   "metadata": {},
   "outputs": [],
   "source": [
    "dataloader_train = DataLoader(dataset_train, batch_size=5, shuffle=True)\n",
    "dataloader_valid = DataLoader(dataset_valid, batch_size=len(dataset_valid), shuffle=False)\n",
    "dataloader_test = DataLoader(dataset_test, batch_size=len(dataset_test), shuffle=False)"
   ]
  },
  {
   "cell_type": "code",
   "execution_count": 123,
   "metadata": {},
   "outputs": [],
   "source": [
    "model = SLPNet(300, 4).to(device)\n",
    "criterion = nn.CrossEntropyLoss()\n",
    "optimizer = torch.optim.SGD(model.parameters(), lr=1e-1)"
   ]
  },
  {
   "cell_type": "code",
   "execution_count": 124,
   "metadata": {},
   "outputs": [
    {
     "data": {
      "image/png": "[encoded data removed]",
      "text/plain": [
       "<Figure size 1152x432 with 2 Axes>"
      ]
     },
     "metadata": {},
     "output_type": "display_data"
    },
    {
     "name": "stderr",
     "output_type": "stream",
     "text": [
      "100%|██████████| 100/100 [05:51<00:00,  3.52s/it]\n"
     ]
    }
   ],
   "source": [
    "accuracy_res = {\n",
    "    'train': [],\n",
    "    'valid': []\n",
    "}\n",
    "\n",
    "loss_res = {\n",
    "    'train': [],\n",
    "    'valid': []\n",
    "}\n",
    "\n",
    "fig = plt.figure(figsize=(16, 6))\n",
    "ax1 = fig.add_subplot(1, 2, 1)\n",
    "ax2 = fig.add_subplot(1, 2, 2, sharey=ax1)\n",
    "ax1.set_xlabel('Train')\n",
    "ax2.set_xlabel('Valid')\n",
    "\n",
    "num_epochs = 100\n",
    "\n",
    "for epoch in tqdm(range(num_epochs)):\n",
    "    model.train()\n",
    "    loss_train = 0.0\n",
    "    for i, (inputs, labels) in enumerate(dataloader_train):\n",
    "        optimizer.zero_grad()\n",
    "        \n",
    "        inputs, labels = inputs.to(device), labels.to(device)\n",
    "        outputs = model(inputs)\n",
    "        loss = criterion(outputs, labels)\n",
    "        loss.backward()\n",
    "        optimizer.step()\n",
    "        \n",
    "        loss_train += loss.item()\n",
    "    \n",
    "    loss_train = loss_train / i\n",
    "    \n",
    "    model.eval()\n",
    "    with torch.no_grad():\n",
    "        inputs, labels = next(iter(dataloader_valid))\n",
    "        inputs, labels = inputs.to(device), labels.to(device)\n",
    "        outputs = model(inputs)\n",
    "        loss_valid = criterion(outputs, labels)\n",
    "        \n",
    "    train_accuracy = calculate_accuracy(model, dataloader_train)\n",
    "    valid_accuracy = calculate_accuracy(model, dataloader_valid)\n",
    "\n",
    "    accuracy_res['train'].append(train_accuracy)\n",
    "    accuracy_res['valid'].append(valid_accuracy)\n",
    "\n",
    "    loss_res['train'].append(loss_train)\n",
    "    loss_res['valid'].append(loss_valid)\n",
    "\n",
    "    \n",
    "    clear_output(wait=True)\n",
    "    \n",
    "    line1, = ax1.plot(range(1, epoch + 2), loss_res['train'], label='loss', color='royalblue')\n",
    "    line2, = ax1.plot(range(1, epoch + 2), accuracy_res['train'], label='train', color='darkorange')\n",
    "\n",
    "    line3, = ax2.plot(range(1, epoch + 2), loss_res['valid'], label='loss', color='royalblue')\n",
    "    line4, = ax2.plot(range(1, epoch + 2), accuracy_res['valid'], label='accuracy', color='darkorange')\n",
    "    \n",
    "    display(fig)\n",
    "    \n",
    "    line1.remove()\n",
    "    line2.remove()\n",
    "    line3.remove()\n",
    "    line4.remove()\n",
    "    \n",
    "plt.close(fig)"
   ]
  },
  {
   "cell_type": "markdown",
   "metadata": {},
   "source": [
    "## 79. 多層ニューラルネットワーク\n",
    "\n",
    "問題78のコードを改変し，バイアス項の導入や多層化など，ニューラルネットワークの形状を変更しながら，高性能なカテゴリ分類器を構築せよ．"
   ]
  },
  {
   "cell_type": "code",
   "execution_count": 141,
   "metadata": {},
   "outputs": [],
   "source": [
    "from torch import nn\n",
    "\n",
    "class MLPNet(nn.Module):\n",
    "    def __init__(self, input_size, output_size):\n",
    "        super().__init__()\n",
    "        self.fc1 = nn.Linear(input_size, 512, bias=True)\n",
    "        self.fc2 = nn.Linear(512, 128, bias=True)\n",
    "        self.fc3 = nn.Linear(128, output_size, bias=True)\n",
    "        self.relu = nn.ReLU()\n",
    "        self.dropout = nn.Dropout(0.2)\n",
    "        nn.init.kaiming_normal_(self.fc1.weight)\n",
    "        nn.init.kaiming_normal_(self.fc2.weight)\n",
    "        nn.init.kaiming_normal_(self.fc3.weight)\n",
    "    \n",
    "    def forward(self, x):\n",
    "        x = self.fc1(x)\n",
    "        x = self.relu(x)\n",
    "        x = self.fc2(x)\n",
    "        x = self.relu(x)\n",
    "        x = self.dropout(x)\n",
    "        x = self.fc3(x)\n",
    "        \n",
    "        return x"
   ]
  },
  {
   "cell_type": "code",
   "execution_count": 142,
   "metadata": {},
   "outputs": [],
   "source": [
    "dataloader_train = DataLoader(dataset_train, batch_size=20, shuffle=True)\n",
    "dataloader_valid = DataLoader(dataset_valid, batch_size=len(dataset_valid), shuffle=False)\n",
    "dataloader_test = DataLoader(dataset_test, batch_size=len(dataset_test), shuffle=False)"
   ]
  },
  {
   "cell_type": "code",
   "execution_count": 143,
   "metadata": {},
   "outputs": [],
   "source": [
    "model = MLPNet(300, 4).to(device)\n",
    "criterion = nn.CrossEntropyLoss()\n",
    "optimizer = torch.optim.SGD(model.parameters(), lr=1e-1)"
   ]
  },
  {
   "cell_type": "code",
   "execution_count": 144,
   "metadata": {},
   "outputs": [
    {
     "data": {
      "image/png": "[encoded data removed]",
      "text/plain": [
       "<Figure size 1152x432 with 2 Axes>"
      ]
     },
     "metadata": {},
     "output_type": "display_data"
    },
    {
     "name": "stderr",
     "output_type": "stream",
     "text": [
      "100%|██████████| 50/50 [01:43<00:00,  2.08s/it]\n"
     ]
    }
   ],
   "source": [
    "accuracy_res = {\n",
    "    'train': [],\n",
    "    'valid': []\n",
    "}\n",
    "\n",
    "loss_res = {\n",
    "    'train': [],\n",
    "    'valid': []\n",
    "}\n",
    "\n",
    "fig = plt.figure(figsize=(16, 6))\n",
    "ax1 = fig.add_subplot(1, 2, 1)\n",
    "ax2 = fig.add_subplot(1, 2, 2, sharey=ax1)\n",
    "ax1.set_xlabel('Train')\n",
    "ax2.set_xlabel('Valid')\n",
    "\n",
    "num_epochs = 50\n",
    "\n",
    "for epoch in tqdm(range(num_epochs)):\n",
    "    model.train()\n",
    "    loss_train = 0.0\n",
    "    for i, (inputs, labels) in enumerate(dataloader_train):\n",
    "        optimizer.zero_grad()\n",
    "        \n",
    "        inputs, labels = inputs.to(device), labels.to(device)\n",
    "        outputs = model(inputs)\n",
    "        loss = criterion(outputs, labels)\n",
    "        loss.backward()\n",
    "        optimizer.step()\n",
    "        \n",
    "        loss_train += loss.item()\n",
    "    \n",
    "    loss_train = loss_train / i\n",
    "    \n",
    "    model.eval()\n",
    "    with torch.no_grad():\n",
    "        inputs, labels = next(iter(dataloader_valid))\n",
    "        inputs, labels = inputs.to(device), labels.to(device)\n",
    "        outputs = model(inputs)\n",
    "        loss_valid = criterion(outputs, labels)\n",
    "        \n",
    "    train_accuracy = calculate_accuracy(model, dataloader_train)\n",
    "    valid_accuracy = calculate_accuracy(model, dataloader_valid)\n",
    "\n",
    "    accuracy_res['train'].append(train_accuracy)\n",
    "    accuracy_res['valid'].append(valid_accuracy)\n",
    "\n",
    "    loss_res['train'].append(loss_train)\n",
    "    loss_res['valid'].append(loss_valid)\n",
    "\n",
    "    \n",
    "    clear_output(wait=True)\n",
    "    \n",
    "    line1, = ax1.plot(range(1, epoch + 2), loss_res['train'], label='loss', color='royalblue')\n",
    "    line2, = ax1.plot(range(1, epoch + 2), accuracy_res['train'], label='train', color='darkorange')\n",
    "\n",
    "    line3, = ax2.plot(range(1, epoch + 2), loss_res['valid'], label='loss', color='royalblue')\n",
    "    line4, = ax2.plot(range(1, epoch + 2), accuracy_res['valid'], label='accuracy', color='darkorange')\n",
    "    \n",
    "    display(fig)\n",
    "    \n",
    "    line1.remove()\n",
    "    line2.remove()\n",
    "    line3.remove()\n",
    "    line4.remove()\n",
    "    \n",
    "plt.close(fig)"
   ]
  },
  {
   "cell_type": "code",
   "execution_count": 145,
   "metadata": {},
   "outputs": [
    {
     "name": "stdout",
     "output_type": "stream",
     "text": [
      "train accuracy: 0.999\n",
      "test accuracy: 0.910\n"
     ]
    }
   ],
   "source": [
    "acc_train = calculate_accuracy(model, dataloader_train)\n",
    "acc_test = calculate_accuracy(model, dataloader_test)\n",
    "print(f'train accuracy: {acc_train:.3f}')\n",
    "print(f'test accuracy: {acc_test:.3f}')"
   ]
  }
 ],
 "metadata": {
  "kernelspec": {
   "display_name": "Python 3",
   "language": "python",
   "name": "python3"
  },
  "language_info": {
   "codemirror_mode": {
    "name": "ipython",
    "version": 3
   },
   "file_extension": ".py",
   "mimetype": "text/x-python",
   "name": "python",
   "nbconvert_exporter": "python",
   "pygments_lexer": "ipython3",
   "version": "3.8.3"
  }
 },
 "nbformat": 4,
 "nbformat_minor": 4
}
