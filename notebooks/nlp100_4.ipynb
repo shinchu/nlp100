{
 "cells": [
  {
   "cell_type": "markdown",
   "metadata": {},
   "source": [
    "# Chapter 4: 形態素解析"
   ]
  },
  {
   "cell_type": "markdown",
   "metadata": {},
   "source": [
    "夏目漱石の小説『吾輩は猫である』の文章（[neko.txt](https://nlp100.github.io/data/neko.txt)）をMeCabを使って形態素解析し，その結果をneko.txt.mecabというファイルに保存せよ．このファイルを用いて，以下の問に対応するプログラムを実装せよ．\n",
    "\n",
    "なお，問題37, 38, 39はmatplotlibもしくはGnuplotを用いるとよい．"
   ]
  },
  {
   "cell_type": "code",
   "execution_count": 1,
   "metadata": {},
   "outputs": [
    {
     "name": "stdout",
     "output_type": "stream",
     "text": [
      "--2020-07-05 15:50:02--  https://nlp100.github.io/data/neko.txt\n",
      "Resolving nlp100.github.io (nlp100.github.io)... 185.199.109.153, 185.199.110.153, 185.199.111.153, ...\n",
      "Connecting to nlp100.github.io (nlp100.github.io)|185.199.109.153|:443... connected.\n",
      "HTTP request sent, awaiting response... 200 OK\n",
      "Length: 975789 (953K) [text/plain]\n",
      "Saving to: ‘../data/neko.txt’\n",
      "\n",
      "neko.txt            100%[===================>] 952.92K  1.09MB/s    in 0.9s    \n",
      "\n",
      "2020-07-05 15:50:04 (1.09 MB/s) - ‘../data/neko.txt’ saved [975789/975789]\n",
      "\n"
     ]
    }
   ],
   "source": [
    "!wget https://nlp100.github.io/data/neko.txt -P ../data/"
   ]
  },
  {
   "cell_type": "code",
   "execution_count": 7,
   "metadata": {},
   "outputs": [],
   "source": [
    "# !brew install mecab mecab-ipadic\n",
    "# !git clone --depth 1 git@github.com:neologd/mecab-ipadic-neologd.git\n",
    "# !cd mecab-ipadic-neologd\n",
    "# !./bin/install-mecab-ipadic-neologd -n"
   ]
  },
  {
   "cell_type": "code",
   "execution_count": 2,
   "metadata": {},
   "outputs": [
    {
     "name": "stdout",
     "output_type": "stream",
     "text": [
      "/usr/local/lib/mecab/dic/mecab-ipadic-neologd\n"
     ]
    }
   ],
   "source": [
    "!echo `mecab-config --dicdir`\"/mecab-ipadic-neologd\""
   ]
  },
  {
   "cell_type": "code",
   "execution_count": 3,
   "metadata": {},
   "outputs": [],
   "source": [
    "# !mecab ../data/neko.txt -d /usr/local/lib/mecab/dic/mecab-ipadic-neologd -o ../data/neko.txt.mecab\n",
    "!mecab ../data/neko.txt -o ../data/neko.txt.mecab"
   ]
  },
  {
   "cell_type": "code",
   "execution_count": 4,
   "metadata": {},
   "outputs": [
    {
     "name": "stdout",
     "output_type": "stream",
     "text": [
      "一\t名詞,数,*,*,*,*,一,イチ,イチ\n",
      "\t記号,一般,*,*,*,*,*\n",
      "EOS\n",
      "\t記号,一般,*,*,*,*,*\n",
      "EOS\n",
      "　\t記号,空白,*,*,*,*,　,　,　\n",
      "吾輩\t名詞,代名詞,一般,*,*,*,吾輩,ワガハイ,ワガハイ\n",
      "は\t助詞,係助詞,*,*,*,*,は,ハ,ワ\n",
      "猫\t名詞,一般,*,*,*,*,猫,ネコ,ネコ\n",
      "で\t助動詞,*,*,*,特殊・ダ,連用形,だ,デ,デ\n",
      "ある\t助動詞,*,*,*,五段・ラ行アル,基本形,ある,アル,アル\n",
      "。\t記号,句点,*,*,*,*,。,。,。\n",
      "\t記号,一般,*,*,*,*,*\n",
      "EOS\n",
      "名前\t名詞,一般,*,*,*,*,名前,ナマエ,ナマエ\n",
      "は\t助詞,係助詞,*,*,*,*,は,ハ,ワ\n",
      "まだ\t副詞,助詞類接続,*,*,*,*,まだ,マダ,マダ\n",
      "無い\t形容詞,自立,*,*,形容詞・アウオ段,基本形,無い,ナイ,ナイ\n",
      "。\t記号,句点,*,*,*,*,。,。,。\n",
      "\t記号,一般,*,*,*,*,*\n"
     ]
    }
   ],
   "source": [
    "!head -20 ../data/neko.txt.mecab"
   ]
  },
  {
   "cell_type": "markdown",
   "metadata": {},
   "source": [
    "## 30. 形態素解析結果の読み込み"
   ]
  },
  {
   "cell_type": "markdown",
   "metadata": {},
   "source": [
    "形態素解析結果（neko.txt.mecab）を読み込むプログラムを実装せよ．ただし，各形態素は表層形（surface），基本形（base），品詞（pos），品詞細分類1（pos1）をキーとするマッピング型に格納し，1文を形態素（マッピング型）のリストとして表現せよ．第4章の残りの問題では，ここで作ったプログラムを活用せよ．"
   ]
  },
  {
   "cell_type": "code",
   "execution_count": 1,
   "metadata": {},
   "outputs": [],
   "source": [
    "import re\n",
    "\n",
    "class POS:\n",
    "    def __init__(self, file):\n",
    "        self._doc = []\n",
    "        \n",
    "        lines = []\n",
    "        with open(file, \"r\") as f:\n",
    "            for line in f.readlines():\n",
    "                if not re.match(\"\\n\", line):\n",
    "                    if re.match(\"EOS\", line):\n",
    "                        if lines:\n",
    "                            self._doc.append(lines)\n",
    "                            lines = []\n",
    "                    else:\n",
    "                        try:\n",
    "                            surface, rest = line.split(\"\\t\")\n",
    "                        except Exception as e:\n",
    "                            print(e)\n",
    "                        \n",
    "                        if len(rest.split(\",\")) == 9:\n",
    "                            pos, pos1, _, _, _, _, base, _, _ = rest.split(\",\")\n",
    "                        else:\n",
    "                            pos, pos1, _, _, _, _, base = rest.split(\",\")\n",
    "\n",
    "                        dic = {\n",
    "                                \"surface\": surface.strip(),\n",
    "                                \"base\": base.strip(),\n",
    "                                \"pos\": pos.strip(),\n",
    "                                \"pos1\": pos1.strip()\n",
    "                            }\n",
    "\n",
    "                        lines.append(dic)\n",
    "        \n",
    "    def head(self, n=10):\n",
    "        print(self._doc[:n])\n",
    "        \n",
    "    def doc(self):\n",
    "        return self._doc"
   ]
  },
  {
   "cell_type": "code",
   "execution_count": 2,
   "metadata": {},
   "outputs": [],
   "source": [
    "pos = POS(\"../data/neko.txt.mecab\")"
   ]
  },
  {
   "cell_type": "markdown",
   "metadata": {},
   "source": [
    "## 31. 動詞"
   ]
  },
  {
   "cell_type": "markdown",
   "metadata": {},
   "source": [
    "動詞の表層形をすべて抽出せよ．"
   ]
  },
  {
   "cell_type": "code",
   "execution_count": 3,
   "metadata": {},
   "outputs": [
    {
     "name": "stdout",
     "output_type": "stream",
     "text": [
      "生れ つか し 泣い し いる 始め 見 聞く 捕え\n"
     ]
    }
   ],
   "source": [
    "v_surface = []\n",
    "for i in pos.doc():\n",
    "    for j in i:\n",
    "        if j[\"pos\"] == \"動詞\":\n",
    "            v_surface.append(j[\"surface\"])\n",
    "            \n",
    "print(\" \".join(v_surface[:10]))"
   ]
  },
  {
   "cell_type": "markdown",
   "metadata": {},
   "source": [
    "## 32. 動詞の原形"
   ]
  },
  {
   "cell_type": "markdown",
   "metadata": {},
   "source": [
    "動詞の原形をすべて抽出せよ．"
   ]
  },
  {
   "cell_type": "code",
   "execution_count": 4,
   "metadata": {},
   "outputs": [
    {
     "name": "stdout",
     "output_type": "stream",
     "text": [
      "生れる つく する 泣く する いる 始める 見る 聞く 捕える\n"
     ]
    }
   ],
   "source": [
    "v_base = []\n",
    "for i in pos.doc():\n",
    "    for j in i:\n",
    "        if j[\"pos\"] == \"動詞\":\n",
    "            v_base.append(j[\"base\"])\n",
    "            \n",
    "print(\" \".join(v_base[:10]))"
   ]
  },
  {
   "cell_type": "markdown",
   "metadata": {},
   "source": [
    "## 33. 「AのB」"
   ]
  },
  {
   "cell_type": "markdown",
   "metadata": {},
   "source": [
    "2つの名詞が「の」で連結されている名詞句を抽出せよ．"
   ]
  },
  {
   "cell_type": "code",
   "execution_count": 5,
   "metadata": {},
   "outputs": [
    {
     "name": "stdout",
     "output_type": "stream",
     "text": [
      "彼の掌 掌の上 書生の顔 はずの顔 顔の真中 穴の中 書生の掌 掌の裏 何の事 肝心の母親\n"
     ]
    }
   ],
   "source": [
    "no = []\n",
    "for p in pos.doc():\n",
    "    for i, j in enumerate(p):\n",
    "        if j[\"surface\"] == \"の\":\n",
    "            try:\n",
    "                prev = p[i-1]\n",
    "                nex = p[i+1]\n",
    "            except Exception as e:\n",
    "                print(e)\n",
    "                continue\n",
    "            \n",
    "            if prev[\"pos\"] == \"名詞\" and nex[\"pos\"] == \"名詞\":\n",
    "                no.append(prev[\"surface\"] + j[\"surface\"] + nex[\"surface\"])\n",
    "                \n",
    "print(\" \".join(no[:10]))"
   ]
  },
  {
   "cell_type": "markdown",
   "metadata": {},
   "source": [
    "## 34. 名詞の連接"
   ]
  },
  {
   "cell_type": "markdown",
   "metadata": {},
   "source": [
    "名詞の連接（連続して出現する名詞）を最長一致で抽出せよ．"
   ]
  },
  {
   "cell_type": "code",
   "execution_count": 23,
   "metadata": {},
   "outputs": [
    {
     "name": "stdout",
     "output_type": "stream",
     "text": [
      "人間中 一番獰悪 時妙 一毛 その後猫 一度 ぷうぷうと煙 邸内 三毛 書生以外 四五遍 この間おさん 三馬 御台所 まま奥 住家 終日書斎 勉強家 勉強家 勤勉家 二三ページ 主人以外 限り吾輩 朝主人 一番心持 二人 一つ床 一人 最後大変 ——猫 神経胃弱性 物指 尻ぺたをひどく 言語同断 家内総がかり 筋向 白君 度毎 白君 先日玉 四疋 三日目 四疋 白君 我等猫族 家族的生活 三毛君 所有権 我々同族間 目刺 一番先 彼等人間 我等 吾人 白君 三毛君 間違いだらけ 後架先生 宗盛 宗盛 月給日 水彩絵具 毎日毎日書斎 人の 自ら筆 眼鏡越 一室内 以太利 大家アンドレア・デル・サルト 露華 寒鴉 これ一幅 活画 翌日吾輩 一分 辛棒 今吾輩 今吾輩 波斯産 上不思議 盲猫 心中ひそか いくらアンドレア・デル・サルト 一分 あと大 壊わし 馬鹿野郎 馬鹿野郎 辛棒 馬鹿野郎呼わり 平生吾輩 馬鹿野郎 みんな増長 先どこ 数倍 十坪 腹加減 穏かな日 二時頃 昼飯後 運動かたがた 一本一本 杉垣 前後不覚 庭内 忍び入り 黒猫 柔毛 出ずるよう 猫中 杉垣 二三枚 ぐべき力 険呑 時吾輩 言葉付 誰だい 乱暴猫 同盟敬遠主義 一体車屋 大分強そう おれなんざ 茶畠 箆棒め あらら その後吾輩 車屋相当 不徳事件 日例 茶畠 何匹 近付 事彼 手柄話 欠所 三四十 二百 一人 何鼠 こん畜生 泥溝 奴め最後っ屁 二三遍 百年目 考げ ——一 五銭 壱円五十銭 胡魔化 鼠以外 水彩画 十二月一日 大分放蕩 元来放蕩家 放蕩家 水彩画 料理屋 水彩画家 水彩画 通人論 水彩画 批評眼 二日 十二月四日 水彩画 通り下手 水彩画 水彩画家 所謂通人 水彩画 翌日例 金縁眼鏡 美学者 結果今日 美学者 美学者 アンドレア・デル・サルト事件 情線 滑稽的美感 仏国革命史 日本文学会 演説会 傍聴者 百名 皆熱心 文学者 歴史小説セオファーノ 歴史小説 女主人公 鬼気人 僕同様 神経胃弱性 差支 ただ化 美学者 時ゃ別 けらけら 美学者 美学者 模様画\n"
     ]
    }
   ],
   "source": [
    "nouns = []\n",
    "\n",
    "for p in pos.doc():\n",
    "    noun = []\n",
    "    is_noun = False\n",
    "    for j in p:\n",
    "        if j[\"pos\"] == \"名詞\":\n",
    "            if not is_noun:\n",
    "                noun.append(j[\"surface\"])\n",
    "                is_noun = True\n",
    "            else:\n",
    "                noun.append(j[\"surface\"])\n",
    "        else:\n",
    "            if not is_noun:\n",
    "                continue\n",
    "            else:\n",
    "                if len(noun) > 1:\n",
    "                    nouns.append(\"\".join(noun))\n",
    "                    \n",
    "                is_noun = False\n",
    "                noun = []\n",
    "\n",
    "        \n",
    "print(\" \".join(nouns[:200]))"
   ]
  },
  {
   "cell_type": "markdown",
   "metadata": {},
   "source": [
    "## 35. 単語の出現頻度"
   ]
  },
  {
   "cell_type": "markdown",
   "metadata": {},
   "source": [
    "文章中に出現する単語とその出現頻度を求め，出現頻度の高い順に並べよ．"
   ]
  },
  {
   "cell_type": "code",
   "execution_count": 10,
   "metadata": {},
   "outputs": [],
   "source": [
    "words = []\n",
    "\n",
    "for p in pos.doc():\n",
    "    for j in p:\n",
    "        if j[\"pos\"] not in [\"記号\", \"助詞\", \"助動詞\"]:\n",
    "            if j[\"base\"] not in [\"する\", \"いる\", \"なる\", \"てる\", \"れる\", \"ある\", \"こと\", \"もの\", \"の\", \"ん\", \"ない\", \"この\", \"その\", \"よう\"]:\n",
    "                if j[\"base\"] == \"*\":\n",
    "                    words.append(j[\"surface\"])\n",
    "                else:\n",
    "                    words.append(j[\"base\"])"
   ]
  },
  {
   "cell_type": "code",
   "execution_count": 11,
   "metadata": {},
   "outputs": [
    {
     "name": "stdout",
     "output_type": "stream",
     "text": [
      "[('云う', 1408), ('事', 1207), ('君', 973), ('主人', 932), ('見る', 675), ('御', 636), ('人', 602), ('一', 554), ('そう', 546), ('何', 539), ('思う', 502), ('吾輩', 481), ('来る', 460), ('これ', 414), ('それ', 381), ('聞く', 347), ('時', 345), ('迷亭', 343), ('行く', 340), ('出来る', 324), ('三', 319), ('——', 319), ('出る', 317), ('ところ', 313), ('方', 312), ('やる', 311), ('二', 303), ('上', 294), ('いい', 294), ('寒月', 286), ('顔', 282), ('先生', 274), ('人間', 272), ('僕', 268), ('さん', 260), ('気', 250), ('猫', 248), ('また', 238), ('中', 234), ('十', 231), ('出す', 227), ('どう', 220), ('知る', 217), ('細君', 213), ('見える', 207), ('鼻', 199), ('今', 195), ('大', 195), ('者', 194), ('そんな', 194)]\n"
     ]
    }
   ],
   "source": [
    "from collections import Counter\n",
    "\n",
    "counter = Counter(words)\n",
    "print(counter.most_common()[:50])"
   ]
  },
  {
   "cell_type": "markdown",
   "metadata": {},
   "source": [
    "## 36. 頻度上位10語"
   ]
  },
  {
   "cell_type": "markdown",
   "metadata": {},
   "source": [
    "出現頻度が高い10語とその出現頻度をグラフ（例えば棒グラフなど）で表示せよ．"
   ]
  },
  {
   "cell_type": "code",
   "execution_count": 24,
   "metadata": {},
   "outputs": [
    {
     "data": {
      "text/plain": [
       "<BarContainer object of 10 artists>"
      ]
     },
     "execution_count": 24,
     "metadata": {},
     "output_type": "execute_result"
    },
    {
     "data": {
      "image/png": "[encoded data removed]",
      "text/plain": [
       "<Figure size 432x288 with 1 Axes>"
      ]
     },
     "metadata": {
      "needs_background": "light"
     },
     "output_type": "display_data"
    }
   ],
   "source": [
    "import matplotlib\n",
    "import matplotlib.pyplot as plt\n",
    "%matplotlib inline\n",
    "matplotlib.rcParams['font.family'] = 'Hiragino Sans'\n",
    "\n",
    "top = counter.most_common(10)\n",
    "keys = [x[0] for x in top]\n",
    "values = [x[1] for x in top]\n",
    "\n",
    "plt.bar(keys, values)"
   ]
  },
  {
   "cell_type": "markdown",
   "metadata": {},
   "source": [
    "## 37. 「猫」と共起頻度の高い上位10語"
   ]
  },
  {
   "cell_type": "markdown",
   "metadata": {},
   "source": [
    "「猫」とよく共起する（共起頻度が高い）10語とその出現頻度をグラフ（例えば棒グラフなど）で表示せよ．"
   ]
  },
  {
   "cell_type": "code",
   "execution_count": 14,
   "metadata": {},
   "outputs": [],
   "source": [
    "neko = []\n",
    "\n",
    "for p in pos.doc():\n",
    "    for j in p:\n",
    "        if j[\"base\"] == \"猫\":\n",
    "            neko.append(p)"
   ]
  },
  {
   "cell_type": "code",
   "execution_count": 15,
   "metadata": {},
   "outputs": [],
   "source": [
    "co = []\n",
    "\n",
    "for p in neko:\n",
    "    for j in p:\n",
    "        if j[\"pos\"] not in [\"記号\", \"助詞\", \"助動詞\"]:\n",
    "            if j[\"base\"] not in [\"する\", \"いる\", \"なる\", \"てる\", \"れる\", \"ある\", \"こと\", \"もの\", \"の\", \"ん\", \"ない\", \"この\", \"その\", \"よう\", \"猫\"]:\n",
    "                if j[\"base\"] == \"*\":\n",
    "                    co.append(j[\"surface\"])\n",
    "                else:\n",
    "                    co.append(j[\"base\"])"
   ]
  },
  {
   "cell_type": "code",
   "execution_count": 16,
   "metadata": {},
   "outputs": [
    {
     "data": {
      "text/plain": [
       "<BarContainer object of 10 artists>"
      ]
     },
     "execution_count": 16,
     "metadata": {},
     "output_type": "execute_result"
    },
    {
     "data": {
      "image/png": "[encoded data removed]",
      "text/plain": [
       "<Figure size 432x288 with 1 Axes>"
      ]
     },
     "metadata": {
      "needs_background": "light"
     },
     "output_type": "display_data"
    }
   ],
   "source": [
    "neko_counter = Counter(co)\n",
    "\n",
    "top = neko_counter.most_common(10)\n",
    "keys = [x[0] for x in top]\n",
    "values = [x[1] for x in top]\n",
    "\n",
    "plt.bar(keys, values)"
   ]
  },
  {
   "cell_type": "markdown",
   "metadata": {},
   "source": [
    "## 38. ヒストグラム"
   ]
  },
  {
   "cell_type": "markdown",
   "metadata": {},
   "source": [
    "単語の出現頻度のヒストグラムを描け．ただし，横軸は出現頻度を表し，1から単語の出現頻度の最大値までの線形目盛とする．縦軸はx軸で示される出現頻度となった単語の異なり数（種類数）である．"
   ]
  },
  {
   "cell_type": "code",
   "execution_count": 66,
   "metadata": {},
   "outputs": [
    {
     "data": {
      "text/plain": [
       "(array([1.1732e+04, 4.3000e+01, 1.7000e+01, 6.0000e+00, 3.0000e+00,\n",
       "        0.0000e+00, 2.0000e+00, 0.0000e+00, 1.0000e+00, 1.0000e+00]),\n",
       " array([1.0000e+00, 1.4170e+02, 2.8240e+02, 4.2310e+02, 5.6380e+02,\n",
       "        7.0450e+02, 8.4520e+02, 9.8590e+02, 1.1266e+03, 1.2673e+03,\n",
       "        1.4080e+03]),\n",
       " <a list of 10 Patch objects>)"
      ]
     },
     "execution_count": 66,
     "metadata": {},
     "output_type": "execute_result"
    },
    {
     "data": {
      "image/png": "[encoded data removed]",
      "text/plain": [
       "<Figure size 432x288 with 1 Axes>"
      ]
     },
     "metadata": {
      "needs_background": "light"
     },
     "output_type": "display_data"
    }
   ],
   "source": [
    "plt.hist(counter.values(), range=(1, counter.most_common()[0][1]))"
   ]
  },
  {
   "cell_type": "code",
   "execution_count": 73,
   "metadata": {},
   "outputs": [
    {
     "data": {
      "text/plain": [
       "(array([7173., 1613.,  811.,  459.,  286.,  240.,  178.,  127.,  105.,\n",
       "          88.]),\n",
       " array([ 1. ,  2.9,  4.8,  6.7,  8.6, 10.5, 12.4, 14.3, 16.2, 18.1, 20. ]),\n",
       " <a list of 10 Patch objects>)"
      ]
     },
     "execution_count": 73,
     "metadata": {},
     "output_type": "execute_result"
    },
    {
     "data": {
      "image/png": "[encoded data removed]",
      "text/plain": [
       "<Figure size 432x288 with 1 Axes>"
      ]
     },
     "metadata": {
      "needs_background": "light"
     },
     "output_type": "display_data"
    }
   ],
   "source": [
    "plt.hist(counter.values(), range=(1, 20))"
   ]
  },
  {
   "cell_type": "markdown",
   "metadata": {},
   "source": [
    "## 39. Zipfの法則"
   ]
  },
  {
   "cell_type": "markdown",
   "metadata": {},
   "source": [
    "単語の出現頻度順位を横軸，その出現頻度を縦軸として，両対数グラフをプロットせよ．"
   ]
  },
  {
   "cell_type": "code",
   "execution_count": 71,
   "metadata": {},
   "outputs": [],
   "source": [
    "l = [x[1] for x in counter.most_common()]"
   ]
  },
  {
   "cell_type": "code",
   "execution_count": 72,
   "metadata": {},
   "outputs": [
    {
     "data": {
      "text/plain": [
       "<matplotlib.collections.PathCollection at 0x105c32760>"
      ]
     },
     "execution_count": 72,
     "metadata": {},
     "output_type": "execute_result"
    },
    {
     "data": {
      "image/png": "[encoded data removed]",
      "text/plain": [
       "<Figure size 432x288 with 1 Axes>"
      ]
     },
     "metadata": {
      "needs_background": "light"
     },
     "output_type": "display_data"
    }
   ],
   "source": [
    "plt.xscale(\"log\")\n",
    "plt.yscale(\"log\")\n",
    "plt.scatter(x=range(1, len(l) + 1), y=l)"
   ]
  }
 ],
 "metadata": {
  "kernelspec": {
   "display_name": "Python 3",
   "language": "python",
   "name": "python3"
  },
  "language_info": {
   "codemirror_mode": {
    "name": "ipython",
    "version": 3
   },
   "file_extension": ".py",
   "mimetype": "text/x-python",
   "name": "python",
   "nbconvert_exporter": "python",
   "pygments_lexer": "ipython3",
   "version": "3.8.1"
  }
 },
 "nbformat": 4,
 "nbformat_minor": 4
}
