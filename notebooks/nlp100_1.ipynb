{
 "cells": [
  {
   "cell_type": "markdown",
   "metadata": {},
   "source": [
    "# Chapter 1: Warm-up"
   ]
  },
  {
   "cell_type": "markdown",
   "metadata": {},
   "source": [
    "## 00. Reversed string\n",
    "Obtain the string that arranges letters of the string “stressed” in reverse order (tail to head)."
   ]
  },
  {
   "cell_type": "code",
   "execution_count": 2,
   "metadata": {},
   "outputs": [
    {
     "name": "stdout",
     "output_type": "stream",
     "text": [
      "desserts\n"
     ]
    }
   ],
   "source": [
    "string = \"stressed\"\n",
    "print(string[-1::-1])"
   ]
  },
  {
   "cell_type": "markdown",
   "metadata": {},
   "source": [
    "## 01. “schooled”\n",
    "Obtain the string that concatenates the 1st, 3rd, 5th, and 7th letters in the string “schooled”."
   ]
  },
  {
   "cell_type": "code",
   "execution_count": 4,
   "metadata": {},
   "outputs": [
    {
     "name": "stdout",
     "output_type": "stream",
     "text": [
      "shoe\n"
     ]
    }
   ],
   "source": [
    "string = \"schooled\"\n",
    "print(string[0::2])"
   ]
  },
  {
   "cell_type": "markdown",
   "metadata": {},
   "source": [
    "## 02. “shoe” + “cold” = “schooled”\n",
    "Obtain the string “schooled” by concatenating the letters in “shoe” and “cold” one after the other from head to tail."
   ]
  },
  {
   "cell_type": "code",
   "execution_count": 5,
   "metadata": {},
   "outputs": [
    {
     "name": "stdout",
     "output_type": "stream",
     "text": [
      "schooled\n"
     ]
    }
   ],
   "source": [
    "shoe = \"shoe\"\n",
    "cold = \"cold\"\n",
    "schooled = \"\"\n",
    "for a, b in zip(shoe, cold):\n",
    "    schooled += a + b\n",
    "\n",
    "print(schooled)"
   ]
  },
  {
   "cell_type": "markdown",
   "metadata": {},
   "source": [
    "## 03. Pi\n",
    "Split the sentence “Now I need a drink, alcoholic of course, after the heavy lectures involving quantum mechanics.” into words, and create a list whose element presents the number of alphabetical letters in the corresponding word."
   ]
  },
  {
   "cell_type": "code",
   "execution_count": 1,
   "metadata": {},
   "outputs": [
    {
     "name": "stdout",
     "output_type": "stream",
     "text": [
      "['Now', 'I', 'need', 'a', 'drink', 'alcoholic', 'of', 'course', 'after', 'the', 'heavy', 'lectures', 'involving', 'quantum', 'mechanics']\n",
      "[3, 1, 4, 1, 5, 9, 2, 6, 5, 3, 5, 8, 9, 7, 9]\n"
     ]
    }
   ],
   "source": [
    "sentence = \"Now I need a drink, alcoholic of course, after the heavy lectures involving quantum mechanics.\"\n",
    "sentence = sentence.replace(\",\", \"\").replace(\".\", \"\")\n",
    "\n",
    "words = sentence.split()\n",
    "print(words)\n",
    "\n",
    "n_letters = list(map(len, words))\n",
    "print(n_letters)"
   ]
  },
  {
   "cell_type": "markdown",
   "metadata": {},
   "source": [
    "## 04. Atomic symbols\n",
    "Split the sentence “Hi He Lied Because Boron Could Not Oxidize Fluorine. New Nations Might Also Sign Peace Security Clause. Arthur King Can.” into words, and extract the first letter from the 1st, 5th, 6th, 7th, 8th, 9th, 15th, 16th, 19th words and the first two letters from the other words. Create an associative array (dictionary object or mapping object) that maps from the extracted string to the position (offset in the sentence) of the corresponding word."
   ]
  },
  {
   "cell_type": "code",
   "execution_count": 12,
   "metadata": {},
   "outputs": [
    {
     "name": "stdout",
     "output_type": "stream",
     "text": [
      "{'H': 1, 'He': 2, 'Li': 3, 'Be': 4, 'B': 5, 'C': 6, 'N': 10, 'O': 8, 'Fl': 9, 'Na': 11, 'Mi': 12, 'Al': 13, 'Si': 14, 'P': 15, 'S': 16, 'Cl': 17, 'Ar': 18, 'K': 19, 'Ca': 20}\n"
     ]
    }
   ],
   "source": [
    "sentence = \"Hi He Lied Because Boron Could Not Oxidize Fluorine. New Nations Might Also Sign Peace Security Clause. Arthur King Can.\"\n",
    "sentence = sentence.replace(\",\", \"\").replace(\".\", \"\")\n",
    "words = sentence.split()\n",
    "\n",
    "one_letter_list = [0, 4, 5, 6, 7, 9, 14, 15, 18]\n",
    "elements = {idx+1: word[:1] if idx in one_letter_list else word[:2] for idx, word in enumerate(words)}\n",
    "elements_reversed = {val: key for key, val in elements.items()}\n",
    "\n",
    "print(elements_reversed)"
   ]
  },
  {
   "cell_type": "markdown",
   "metadata": {},
   "source": [
    "## 05. n-gram\n",
    "Implement a function that obtains n-grams from a given sequence object (e.g., string and list). Use this function to obtain word bi-grams and letter bi-grams from the sentence “I am an NLPer”"
   ]
  },
  {
   "cell_type": "code",
   "execution_count": 26,
   "metadata": {},
   "outputs": [
    {
     "name": "stdout",
     "output_type": "stream",
     "text": [
      "['I ', ' a', 'am', 'm ', ' a', 'an', 'n ', ' N', 'NL', 'LP', 'Pe', 'er']\n",
      "[['I', 'am'], ['am', 'an'], ['an', 'NLPer']]\n"
     ]
    }
   ],
   "source": [
    "def ngram(n, sequence):\n",
    "    result = []\n",
    "    for i in range(0, len(sequence)-n+1):\n",
    "        result.append(sequence[i:i+n])\n",
    "    \n",
    "    return result\n",
    "\n",
    "def bigram(sequence):\n",
    "    return list(zip(sequence, sequence[1:]))\n",
    "\n",
    "def trigram(sequence):\n",
    "    return list(zip(sequence, sequence[1:], sequence[2:]))\n",
    "\n",
    "\n",
    "sentence = \"I am an NLPer\"\n",
    "words = sentence.split()\n",
    "\n",
    "print(ngram(2, sentence))\n",
    "print(ngram(2, words))"
   ]
  },
  {
   "cell_type": "markdown",
   "metadata": {},
   "source": [
    "## 06. Set\n",
    "Let the sets of letter bi-grams from the words “paraparaparadise” and “paragraph” $X$ and $Y$, respectively. Obtain the union, intersection, difference of the two sets. In addition, check whether the bigram “se” is included in the sets $X$ and $Y$"
   ]
  },
  {
   "cell_type": "code",
   "execution_count": 50,
   "metadata": {},
   "outputs": [
    {
     "name": "stdout",
     "output_type": "stream",
     "text": [
      "{'se', 'ap', 'gr', 'ph', 'ra', 'di', 'ad', 'ag', 'is', 'pa', 'ar'}\n",
      "{'ap', 'ra', 'pa', 'ar'}\n",
      "{'se', 'ad', 'di', 'is'}\n",
      "'se' in the set X: True\n",
      "'se' in the set Y: False\n"
     ]
    }
   ],
   "source": [
    "word_x = \"paraparaparadise\"\n",
    "word_y = \"paragraph\"\n",
    "\n",
    "x, y = set(ngram(2, word_x)), set(ngram(2, word_y))\n",
    "\n",
    "union = x | y\n",
    "print(union)\n",
    "\n",
    "intersection = x & y\n",
    "print(intersection)\n",
    "\n",
    "difference = x - y\n",
    "print(difference)\n",
    "\n",
    "print(f\"'se' in the set X: {'se' in x}\")\n",
    "print(f\"'se' in the set Y: {'se' in y}\")"
   ]
  },
  {
   "cell_type": "markdown",
   "metadata": {},
   "source": [
    "## 07. Template-based sentence generation\n",
    "Implement a function that receives arguments, x, y, and z and returns a string “{y} is {z} at {x}”, where “{x}”, “{y}”, and “{z}” denote the values of x, y, and z, respectively. In addition, confirm the return string by giving the arguments x=12, y=\"temperature\", and z=22.4"
   ]
  },
  {
   "cell_type": "code",
   "execution_count": 51,
   "metadata": {},
   "outputs": [
    {
     "name": "stdout",
     "output_type": "stream",
     "text": [
      "temperature is 22.4 at 12\n"
     ]
    }
   ],
   "source": [
    "def nonsensefunc(x, y, z):\n",
    "    return f\"{y} is {z} at {x}\"\n",
    "\n",
    "print(nonsensefunc(12, \"temperature\", 22.4))"
   ]
  },
  {
   "cell_type": "markdown",
   "metadata": {},
   "source": [
    "## 08. cipher text\n",
    "\n",
    "Implement a function `cipher` that converts a given string with the specification:\n",
    "\n",
    "* Every alphabetical letter `c` is converted to a letter whose ASCII code is (219 - [the ASCII code of c])\n",
    "* Keep other letters unchanged\n",
    "\n",
    "Use this function to cipher and decipher an English message."
   ]
  },
  {
   "cell_type": "code",
   "execution_count": 29,
   "metadata": {},
   "outputs": [
    {
     "name": "stdout",
     "output_type": "stream",
     "text": [
      "Nld I mvvw z wirmp, zoxlslorx lu xlfihv, zugvi gsv svzeb ovxgfivh rmeloermt jfzmgfn nvxszmrxh.\n"
     ]
    }
   ],
   "source": [
    "def cipher(sentence):\n",
    "    ciphered_sentence = \"\"\n",
    "    for letter in sentence:\n",
    "        if letter.islower():\n",
    "#         if 97 <= ord(letter) <= 122:\n",
    "            ciphered = chr(219 - ord(letter))\n",
    "        else:\n",
    "            ciphered = letter\n",
    "        \n",
    "        ciphered_sentence += ciphered\n",
    "    \n",
    "    return ciphered_sentence\n",
    "\n",
    "print(cipher(\"Now I need a drink, alcoholic of course, after the heavy lectures involving quantum mechanics.\"))"
   ]
  },
  {
   "cell_type": "markdown",
   "metadata": {},
   "source": [
    "## 09. Typoglycemia"
   ]
  },
  {
   "cell_type": "markdown",
   "metadata": {},
   "source": [
    "Write a program with the specification:\n",
    "\n",
    "* Receive a word sequence separated by space\n",
    "* For each word in the sequence:\n",
    "    * If the word is no longer than four letters, keep the word unchanged\n",
    "    * Otherwise,\n",
    "        * Keep the first and last letters unchanged\n",
    "        * Shuffle other letters in other positions (in the middle of the word)\n",
    "        \n",
    "Observe the result by giving a sentence, e.g., “I couldn’t believe that I could actually understand what I was reading : the phenomenal power of the human mind .”"
   ]
  },
  {
   "cell_type": "code",
   "execution_count": 36,
   "metadata": {},
   "outputs": [
    {
     "name": "stdout",
     "output_type": "stream",
     "text": [
      "I co’ldnut beevile that I could allacuty utadnenrsd what I was rendiag : the pmanoeehnl poewr of the huamn mind .\n"
     ]
    }
   ],
   "source": [
    "import random\n",
    "\n",
    "def typoglycemia(sentence):\n",
    "    result = []\n",
    "    words = sentence.split()\n",
    "    for word in words:\n",
    "        word_length = len(word)\n",
    "        if word_length < 5:\n",
    "            result.append(word)\n",
    "        else:\n",
    "            prefix = word[0]\n",
    "            suffix = word[-1]\n",
    "            letters = list(word[1:-1])\n",
    "            random.shuffle(letters)\n",
    "            middle = \"\".join(letters)\n",
    "            result.append(prefix + middle + suffix)\n",
    "        \n",
    "    return \" \".join(result)\n",
    "\n",
    "sentence = \"I couldn’t believe that I could actually understand what I was reading : the phenomenal power of the human mind .\"\n",
    "\n",
    "print(typoglycemia(sentence))            "
   ]
  }
 ],
 "metadata": {
  "kernelspec": {
   "display_name": "Python 3",
   "language": "python",
   "name": "python3"
  },
  "language_info": {
   "codemirror_mode": {
    "name": "ipython",
    "version": 3
   },
   "file_extension": ".py",
   "mimetype": "text/x-python",
   "name": "python",
   "nbconvert_exporter": "python",
   "pygments_lexer": "ipython3",
   "version": "3.8.1"
  }
 },
 "nbformat": 4,
 "nbformat_minor": 4
}
