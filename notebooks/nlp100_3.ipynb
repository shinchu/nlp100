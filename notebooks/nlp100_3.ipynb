{
 "cells": [
  {
   "cell_type": "markdown",
   "metadata": {},
   "source": [
    "# Chapter 3: 正規表現"
   ]
  },
  {
   "cell_type": "markdown",
   "metadata": {},
   "source": [
    "Wikipediaの記事を以下のフォーマットで書き出したファイルjawiki-country.json.gzがある．\n",
    "\n",
    "* 1行に1記事の情報がJSON形式で格納される\n",
    "* 各行には記事名が”title”キーに，記事本文が”text”キーの辞書オブジェクトに格納され，そのオブジェクトがJSON形式で書き出される\n",
    "* ファイル全体はgzipで圧縮される\n",
    "\n",
    "以下の処理を行うプログラムを作成せよ．"
   ]
  },
  {
   "cell_type": "code",
   "execution_count": 1,
   "metadata": {},
   "outputs": [
    {
     "name": "stdout",
     "output_type": "stream",
     "text": [
      "--2020-06-23 12:48:28--  https://nlp100.github.io/data/jawiki-country.json.gz\n",
      "Resolving nlp100.github.io (nlp100.github.io)... 185.199.109.153, 185.199.108.153, 185.199.110.153, ...\n",
      "Connecting to nlp100.github.io (nlp100.github.io)|185.199.109.153|:443... connected.\n",
      "HTTP request sent, awaiting response... 200 OK\n",
      "Length: 5068362 (4.8M) [application/gzip]\n",
      "Saving to: ‘../data/jawiki-country.json.gz’\n",
      "\n",
      "jawiki-country.json 100%[===================>]   4.83M  2.49MB/s    in 1.9s    \n",
      "\n",
      "2020-06-23 12:48:33 (2.49 MB/s) - ‘../data/jawiki-country.json.gz’ saved [5068362/5068362]\n",
      "\n"
     ]
    }
   ],
   "source": [
    "!wget https://nlp100.github.io/data/jawiki-country.json.gz -P ../data"
   ]
  },
  {
   "cell_type": "code",
   "execution_count": 2,
   "metadata": {},
   "outputs": [
    {
     "name": "stdout",
     "output_type": "stream",
     "text": [
      "../data/jawiki-country.json already exists -- do you wish to overwrite (y or n)? ^C\n"
     ]
    }
   ],
   "source": [
    "!gzip -d ../data/jawiki-country.json.gz"
   ]
  },
  {
   "cell_type": "markdown",
   "metadata": {},
   "source": [
    "## 20. JSONデータの読み込み"
   ]
  },
  {
   "cell_type": "markdown",
   "metadata": {},
   "source": [
    "Wikipedia記事のJSONファイルを読み込み，「イギリス」に関する記事本文を表示せよ．問題21-29では，ここで抽出した記事本文に対して実行せよ．"
   ]
  },
  {
   "cell_type": "code",
   "execution_count": 4,
   "metadata": {},
   "outputs": [],
   "source": [
    "import pandas as pd\n",
    "\n",
    "df = pd.read_json(\"../data/jawiki-country.json\", lines=True)"
   ]
  },
  {
   "cell_type": "code",
   "execution_count": 8,
   "metadata": {},
   "outputs": [],
   "source": [
    "import json\n",
    "\n",
    "with open(\"../data/jawiki-country.json\", 'r') as f:\n",
    "    for line in f:\n",
    "        data = json.loads(line)\n",
    "        if data['title'] == 'イギリス':\n",
    "            text = data['text']\n",
    "            break"
   ]
  },
  {
   "cell_type": "markdown",
   "metadata": {},
   "source": [
    "## 21. カテゴリ名を含む行を抽出"
   ]
  },
  {
   "cell_type": "markdown",
   "metadata": {},
   "source": [
    "記事中でカテゴリ名を宣言している行を抽出せよ．"
   ]
  },
  {
   "cell_type": "code",
   "execution_count": 9,
   "metadata": {},
   "outputs": [
    {
     "name": "stdout",
     "output_type": "stream",
     "text": [
      "[[Category:イギリス|*]]\n",
      "[[Category:イギリス連邦加盟国]]\n",
      "[[Category:英連邦王国|*]]\n",
      "[[Category:G8加盟国]]\n",
      "[[Category:欧州連合加盟国|元]]\n",
      "[[Category:海洋国家]]\n",
      "[[Category:現存する君主国]]\n",
      "[[Category:島国]]\n",
      "[[Category:1801年に成立した国家・領域]]\n"
     ]
    }
   ],
   "source": [
    "split_text = text.split('\\n')\n",
    "categories = []\n",
    "for line in split_text:\n",
    "    if '[[Category' in line:\n",
    "        categories.append(line)\n",
    "\n",
    "for line in categories:\n",
    "    print(line)"
   ]
  },
  {
   "cell_type": "markdown",
   "metadata": {},
   "source": [
    "## 22. カテゴリ名の抽出"
   ]
  },
  {
   "cell_type": "markdown",
   "metadata": {},
   "source": [
    "記事のカテゴリ名を（行単位ではなく名前で）抽出せよ．"
   ]
  },
  {
   "cell_type": "code",
   "execution_count": 33,
   "metadata": {},
   "outputs": [
    {
     "name": "stdout",
     "output_type": "stream",
     "text": [
      "イギリス\n",
      "イギリス連邦加盟国\n",
      "英連邦王国\n",
      "G8加盟国\n",
      "欧州連合加盟国\n",
      "海洋国家\n",
      "現存する君主国\n",
      "島国\n",
      "1801年に成立した国家・領域\n"
     ]
    }
   ],
   "source": [
    "import re\n",
    "\n",
    "for line in categories:\n",
    "    print(re.sub(r'^.*Category:(.*?)(\\|.*)?\\]\\].*$', '\\\\1', line))"
   ]
  },
  {
   "cell_type": "markdown",
   "metadata": {},
   "source": [
    "## 23. セクション構造"
   ]
  },
  {
   "cell_type": "markdown",
   "metadata": {},
   "source": [
    "記事中に含まれるセクション名とそのレベル（例えば”== セクション名 ==”なら1）を表示せよ．"
   ]
  },
  {
   "cell_type": "code",
   "execution_count": 82,
   "metadata": {},
   "outputs": [
    {
     "name": "stdout",
     "output_type": "stream",
     "text": [
      "国名 1\n",
      "歴史 1\n",
      "地理 1\n",
      "主要都市 2\n",
      "気候 2\n",
      "政治 1\n",
      "元首 2\n",
      "法 2\n",
      "内政 2\n",
      "地方行政区分 2\n",
      "外交・軍事 2\n",
      "経済 1\n",
      "鉱業 2\n",
      "農業 2\n",
      "貿易 2\n",
      "不動産 2\n",
      "エネルギー政策 2\n",
      "通貨 2\n",
      "企業 2\n",
      "通信 3\n",
      "交通 1\n",
      "道路 2\n",
      "鉄道 2\n",
      "海運 2\n",
      "航空 2\n",
      "科学技術 1\n",
      "国民 1\n",
      "言語 2\n",
      "宗教 2\n",
      "婚姻 2\n",
      "移住 2\n",
      "教育 2\n",
      "医療 2\n",
      "文化 1\n",
      "食文化 2\n",
      "文学 2\n",
      "哲学 2\n",
      "音楽 2\n",
      "ポピュラー音楽 3\n",
      "映画 2\n",
      "コメディ 2\n",
      "国花 2\n",
      "世界遺産 2\n",
      "祝祭日 2\n",
      "スポーツ 2\n",
      "サッカー 3\n",
      "クリケット 3\n",
      "競馬 3\n",
      "モータースポーツ 3\n",
      "野球 3\n",
      "カーリング 3\n",
      "自転車競技 3\n",
      "脚注 1\n",
      "関連項目 1\n",
      "外部リンク 1\n"
     ]
    }
   ],
   "source": [
    "sections = []\n",
    "for line in split_text:\n",
    "    if re.search(r'^=', line):\n",
    "        title = line.replace('=', '')\n",
    "        index = (len(line) - len(title)) / 2 - 1\n",
    "        sections.append((title.strip(), int(index)))\n",
    "        \n",
    "for section in sections:\n",
    "    print(f\"{section[0]} {section[1]}\")"
   ]
  },
  {
   "cell_type": "markdown",
   "metadata": {},
   "source": [
    "## 24. ファイル参照の抽出"
   ]
  },
  {
   "cell_type": "markdown",
   "metadata": {},
   "source": [
    "記事から参照されているメディアファイルをすべて抜き出せ．\n",
    "\n"
   ]
  },
  {
   "cell_type": "code",
   "execution_count": 111,
   "metadata": {},
   "outputs": [
    {
     "name": "stdout",
     "output_type": "stream",
     "text": [
      "Royal Coat of Arms of the United Kingdom.svg\n",
      "United States Navy Band - God Save the Queen.ogg\n",
      "Descriptio Prime Tabulae Europae.jpg\n",
      "Lenepveu, Jeanne d'Arc au siège d'Orléans.jpg\n",
      "London.bankofengland.arp.jpg\n",
      "Battle of Waterloo 1815.PNG\n",
      "Uk topo en.jpg\n",
      "BenNevis2005.jpg\n",
      "Population density UK 2011 census.png\n",
      "Birmingham Skyline from Edgbaston Cricket Ground crop.jpg\n",
      "Glasgow and the Clyde from the air (geograph 4665720).jpg\n",
      "Palace of Westminster, London - Feb 2007.jpg\n",
      "Scotland Parliament Holyrood.jpg\n",
      "Donald Trump and Theresa May (33998675310) (cropped).jpg\n",
      "Soldiers Trooping the Colour, 16th June 2007.jpg\n",
      "City of London skyline from London City Hall - Oct 2008.jpg\n",
      "Oil platform in the North SeaPros.jpg\n",
      "Eurostar at St Pancras Jan 2008.jpg\n",
      "Airbus A380-841 G-XLEB British Airways (10424102995).jpg\n",
      "UKpop.svg\n",
      "Anglospeak.svg\n",
      "Royal Aberdeen Children's Hospital.jpg\n",
      "CHANDOS3.jpg\n",
      "The Fabs.JPG\n",
      "Wembley Stadium, illuminated.jpg\n"
     ]
    }
   ],
   "source": [
    "for line in split_text:\n",
    "    if '[[ファイル' in line:\n",
    "        print(re.sub(r'.*\\[\\[ファイル:(.*\\.\\w{3})[\\|\\]].*', '\\\\1', line))"
   ]
  },
  {
   "cell_type": "markdown",
   "metadata": {},
   "source": [
    "## 25. テンプレートの抽出"
   ]
  },
  {
   "cell_type": "markdown",
   "metadata": {},
   "source": [
    "記事中に含まれる「基礎情報」テンプレートのフィールド名と値を抽出し，辞書オブジェクトとして格納せよ．"
   ]
  },
  {
   "cell_type": "code",
   "execution_count": 43,
   "metadata": {},
   "outputs": [],
   "source": [
    "import re\n",
    "\n",
    "pattern = re.compile(r\"\\n\\{\\{基礎情報.+\\n\\}\\}\", re.DOTALL)\n",
    "\n",
    "for match in pattern.finditer(text):\n",
    "    info = match.group(0)"
   ]
  },
  {
   "cell_type": "code",
   "execution_count": 44,
   "metadata": {},
   "outputs": [],
   "source": [
    "info_split = info.split('\\n|')"
   ]
  },
  {
   "cell_type": "code",
   "execution_count": 53,
   "metadata": {},
   "outputs": [],
   "source": [
    "pattern = re.compile(r\"(.*?)=(.*)\")\n",
    "\n",
    "info_dict = {}\n",
    "for info in info_split:\n",
    "    match = re.match(pattern, info)\n",
    "    if match:\n",
    "        info_dict[match.group(1).strip()] = match.group(2).strip()"
   ]
  },
  {
   "cell_type": "code",
   "execution_count": 54,
   "metadata": {},
   "outputs": [
    {
     "data": {
      "text/plain": [
       "{'略名': 'イギリス',\n",
       " '日本語国名': 'グレートブリテン及び北アイルランド連合王国',\n",
       " '公式国名': '{{lang|en|United Kingdom of Great Britain and Northern Ireland}}<ref>英語以外での正式国名:<br />',\n",
       " '国旗画像': 'Flag of the United Kingdom.svg',\n",
       " '国章画像': '[[ファイル:Royal Coat of Arms of the United Kingdom.svg|85px|イギリスの国章]]',\n",
       " '国章リンク': '（[[イギリスの国章|国章]]）',\n",
       " '標語': '{{lang|fr|[[Dieu et mon droit]]}}<br />（[[フランス語]]:[[Dieu et mon droit|神と我が権利]]）',\n",
       " '国歌': \"[[女王陛下万歳|{{lang|en|God Save the Queen}}]]{{en icon}}<br />''神よ女王を護り賜え''<br />{{center|[[ファイル:United States Navy Band - God Save the Queen.ogg]]}}\",\n",
       " '地図画像': 'Europe-UK.svg',\n",
       " '位置画像': 'United Kingdom (+overseas territories) in the World (+Antarctica claims).svg',\n",
       " '公用語': '[[英語]]',\n",
       " '首都': '[[ロンドン]]（事実上）',\n",
       " '最大都市': 'ロンドン',\n",
       " '元首等肩書': '[[イギリスの君主|女王]]',\n",
       " '元首等氏名': '[[エリザベス2世]]',\n",
       " '首相等肩書': '[[イギリスの首相|首相]]',\n",
       " '首相等氏名': '[[ボリス・ジョンソン]]',\n",
       " '他元首等肩書1': '[[貴族院 (イギリス)|貴族院議長]]',\n",
       " '他元首等氏名1': '[[:en:Norman Fowler, Baron Fowler|ノーマン・ファウラー]]',\n",
       " '他元首等肩書2': '[[庶民院 (イギリス)|庶民院議長]]',\n",
       " '他元首等氏名2': '{{仮リンク|リンゼイ・ホイル|en|Lindsay Hoyle}}',\n",
       " '他元首等肩書3': '[[連合王国最高裁判所|最高裁判所長官]]',\n",
       " '他元首等氏名3': '[[:en:Brenda Hale, Baroness Hale of Richmond|ブレンダ・ヘイル]]',\n",
       " '面積順位': '76',\n",
       " '面積大きさ': '1 E11',\n",
       " '面積値': '244,820',\n",
       " '水面積率': '1.3%',\n",
       " '人口統計年': '2018',\n",
       " '人口順位': '22',\n",
       " '人口大きさ': '1 E7',\n",
       " '人口値': '6643万5600<ref>{{Cite web|url=https://www.ons.gov.uk/peoplepopulationandcommunity/populationandmigration/populationestimates|title=Population estimates - Office for National Statistics|accessdate=2019-06-26|date=2019-06-26}}</ref>',\n",
       " '人口密度値': '271',\n",
       " 'GDP統計年元': '2012',\n",
       " 'GDP値元': '1兆5478億<ref name=\"imf-statistics-gdp\">[http://www.imf.org/external/pubs/ft/weo/2012/02/weodata/weorept.aspx?pr.x=70&pr.y=13&sy=2010&ey=2012&scsm=1&ssd=1&sort=country&ds=.&br=1&c=112&s=NGDP%2CNGDPD%2CPPPGDP%2CPPPPC&grp=0&a=IMF>Data and Statistics>World Economic Outlook Databases>By Countrise>United Kingdom]</ref>',\n",
       " 'GDP統計年MER': '2012',\n",
       " 'GDP順位MER': '6',\n",
       " 'GDP値MER': '2兆4337億<ref name=\"imf-statistics-gdp\" />',\n",
       " 'GDP統計年': '2012',\n",
       " 'GDP順位': '6',\n",
       " 'GDP値': '2兆3162億<ref name=\"imf-statistics-gdp\" />',\n",
       " 'GDP/人': '36,727<ref name=\"imf-statistics-gdp\" />',\n",
       " '建国形態': '建国',\n",
       " '確立形態1': '[[イングランド王国]]／[[スコットランド王国]]<br />（両国とも[[合同法 (1707年)|1707年合同法]]まで）',\n",
       " '確立年月日1': '927年／843年',\n",
       " '確立形態2': '[[グレートブリテン王国]]成立<br />（1707年合同法）',\n",
       " '確立年月日2': '1707年{{0}}5月{{0}}1日',\n",
       " '確立形態3': '[[グレートブリテン及びアイルランド連合王国]]成立<br />（[[合同法 (1800年)|1800年合同法]]）',\n",
       " '確立年月日3': '1801年{{0}}1月{{0}}1日',\n",
       " '確立形態4': \"現在の国号「'''グレートブリテン及び北アイルランド連合王国'''」に変更\",\n",
       " '確立年月日4': '1927年{{0}}4月12日',\n",
       " '通貨': '[[スターリング・ポンド|UKポンド]] (£)',\n",
       " '通貨コード': 'GBP',\n",
       " '時間帯': '±0',\n",
       " '夏時間': '+1',\n",
       " 'ISO 3166-1': 'GB / GBR',\n",
       " 'ccTLD': '[[.uk]] / [[.gb]]<ref>使用は.ukに比べ圧倒的少数。</ref>',\n",
       " '国際電話番号': '44',\n",
       " '注記': '<references/>'}"
      ]
     },
     "execution_count": 54,
     "metadata": {},
     "output_type": "execute_result"
    }
   ],
   "source": [
    "info_dict"
   ]
  },
  {
   "cell_type": "markdown",
   "metadata": {},
   "source": [
    "## 強調マークアップの除去"
   ]
  },
  {
   "cell_type": "markdown",
   "metadata": {},
   "source": [
    "25の処理時に，テンプレートの値からMediaWikiの強調マークアップ（弱い強調，強調，強い強調のすべて）を除去してテキストに変換せよ（参考: [マークアップ早見表](https://ja.wikipedia.org/wiki/Help:%E6%97%A9%E8%A6%8B%E8%A1%A8)）．"
   ]
  },
  {
   "cell_type": "code",
   "execution_count": 55,
   "metadata": {},
   "outputs": [
    {
     "data": {
      "text/plain": [
       "{'略名': 'イギリス',\n",
       " '日本語国名': 'グレートブリテン及び北アイルランド連合王国',\n",
       " '公式国名': '{{lang|en|United Kingdom of Great Britain and Northern Ireland}}<ref>英語以外での正式国名:<br />',\n",
       " '国旗画像': 'Flag of the United Kingdom.svg',\n",
       " '国章画像': '[[ファイル:Royal Coat of Arms of the United Kingdom.svg|85px|イギリスの国章]]',\n",
       " '国章リンク': '（[[イギリスの国章|国章]]）',\n",
       " '標語': '{{lang|fr|[[Dieu et mon droit]]}}<br />（[[フランス語]]:[[Dieu et mon droit|神と我が権利]]）',\n",
       " '国歌': '[[女王陛下万歳|{{lang|en|God Save the Queen}}]]{{en icon}}<br />神よ女王を護り賜え<br />{{center|[[ファイル:United States Navy Band - God Save the Queen.ogg]]}}',\n",
       " '地図画像': 'Europe-UK.svg',\n",
       " '位置画像': 'United Kingdom (+overseas territories) in the World (+Antarctica claims).svg',\n",
       " '公用語': '[[英語]]',\n",
       " '首都': '[[ロンドン]]（事実上）',\n",
       " '最大都市': 'ロンドン',\n",
       " '元首等肩書': '[[イギリスの君主|女王]]',\n",
       " '元首等氏名': '[[エリザベス2世]]',\n",
       " '首相等肩書': '[[イギリスの首相|首相]]',\n",
       " '首相等氏名': '[[ボリス・ジョンソン]]',\n",
       " '他元首等肩書1': '[[貴族院 (イギリス)|貴族院議長]]',\n",
       " '他元首等氏名1': '[[:en:Norman Fowler, Baron Fowler|ノーマン・ファウラー]]',\n",
       " '他元首等肩書2': '[[庶民院 (イギリス)|庶民院議長]]',\n",
       " '他元首等氏名2': '{{仮リンク|リンゼイ・ホイル|en|Lindsay Hoyle}}',\n",
       " '他元首等肩書3': '[[連合王国最高裁判所|最高裁判所長官]]',\n",
       " '他元首等氏名3': '[[:en:Brenda Hale, Baroness Hale of Richmond|ブレンダ・ヘイル]]',\n",
       " '面積順位': '76',\n",
       " '面積大きさ': '1 E11',\n",
       " '面積値': '244,820',\n",
       " '水面積率': '1.3%',\n",
       " '人口統計年': '2018',\n",
       " '人口順位': '22',\n",
       " '人口大きさ': '1 E7',\n",
       " '人口値': '6643万5600<ref>{{Cite web|url=https://www.ons.gov.uk/peoplepopulationandcommunity/populationandmigration/populationestimates|title=Population estimates - Office for National Statistics|accessdate=2019-06-26|date=2019-06-26}}</ref>',\n",
       " '人口密度値': '271',\n",
       " 'GDP統計年元': '2012',\n",
       " 'GDP値元': '1兆5478億<ref name=\"imf-statistics-gdp\">[http://www.imf.org/external/pubs/ft/weo/2012/02/weodata/weorept.aspx?pr.x=70&pr.y=13&sy=2010&ey=2012&scsm=1&ssd=1&sort=country&ds=.&br=1&c=112&s=NGDP%2CNGDPD%2CPPPGDP%2CPPPPC&grp=0&a=IMF>Data and Statistics>World Economic Outlook Databases>By Countrise>United Kingdom]</ref>',\n",
       " 'GDP統計年MER': '2012',\n",
       " 'GDP順位MER': '6',\n",
       " 'GDP値MER': '2兆4337億<ref name=\"imf-statistics-gdp\" />',\n",
       " 'GDP統計年': '2012',\n",
       " 'GDP順位': '6',\n",
       " 'GDP値': '2兆3162億<ref name=\"imf-statistics-gdp\" />',\n",
       " 'GDP/人': '36,727<ref name=\"imf-statistics-gdp\" />',\n",
       " '建国形態': '建国',\n",
       " '確立形態1': '[[イングランド王国]]／[[スコットランド王国]]<br />（両国とも[[合同法 (1707年)|1707年合同法]]まで）',\n",
       " '確立年月日1': '927年／843年',\n",
       " '確立形態2': '[[グレートブリテン王国]]成立<br />（1707年合同法）',\n",
       " '確立年月日2': '1707年{{0}}5月{{0}}1日',\n",
       " '確立形態3': '[[グレートブリテン及びアイルランド連合王国]]成立<br />（[[合同法 (1800年)|1800年合同法]]）',\n",
       " '確立年月日3': '1801年{{0}}1月{{0}}1日',\n",
       " '確立形態4': '現在の国号「グレートブリテン及び北アイルランド連合王国」に変更',\n",
       " '確立年月日4': '1927年{{0}}4月12日',\n",
       " '通貨': '[[スターリング・ポンド|UKポンド]] (£)',\n",
       " '通貨コード': 'GBP',\n",
       " '時間帯': '±0',\n",
       " '夏時間': '+1',\n",
       " 'ISO 3166-1': 'GB / GBR',\n",
       " 'ccTLD': '[[.uk]] / [[.gb]]<ref>使用は.ukに比べ圧倒的少数。</ref>',\n",
       " '国際電話番号': '44',\n",
       " '注記': '<references/>'}"
      ]
     },
     "execution_count": 55,
     "metadata": {},
     "output_type": "execute_result"
    }
   ],
   "source": [
    "for key in info_dict:\n",
    "    info_dict[key] = info_dict[key].replace(\"'\", \"\")\n",
    "    \n",
    "info_dict"
   ]
  },
  {
   "cell_type": "markdown",
   "metadata": {},
   "source": [
    "## 27. 内部リンクの除去"
   ]
  },
  {
   "cell_type": "markdown",
   "metadata": {},
   "source": [
    "26の処理に加えて，テンプレートの値からMediaWikiの内部リンクマークアップを除去し，テキストに変換せよ（参考: [マークアップ早見表](https://ja.wikipedia.org/wiki/Help:%E6%97%A9%E8%A6%8B%E8%A1%A8)）．"
   ]
  },
  {
   "cell_type": "code",
   "execution_count": 107,
   "metadata": {},
   "outputs": [
    {
     "name": "stdout",
     "output_type": "stream",
     "text": [
      "['']\n",
      "['']\n",
      "['']\n",
      "['']\n",
      "['']\n",
      "['']\n",
      "['']\n",
      "['']\n",
      "['']\n",
      "['']\n",
      "['']\n",
      "['']\n",
      "['']\n",
      "['']\n",
      "['']\n",
      "['']\n",
      "['']\n",
      "['']\n",
      "['']\n",
      "['']\n",
      "['']\n"
     ]
    }
   ],
   "source": [
    "pattern = re.compile(r'\\[\\[?.*\\|*(.*)?\\]\\]?')\n",
    "\n",
    "for key, val in info_dict.items():\n",
    "    res = re.findall(pattern, val)\n",
    "    if res:\n",
    "        print(res)\n",
    "    "
   ]
  },
  {
   "cell_type": "markdown",
   "metadata": {},
   "source": [
    "## 28. MediaWikiマークアップの除去"
   ]
  },
  {
   "cell_type": "markdown",
   "metadata": {},
   "source": [
    "27の処理に加えて，テンプレートの値からMediaWikiマークアップを可能な限り除去し，国の基本情報を整形せよ．"
   ]
  },
  {
   "cell_type": "markdown",
   "metadata": {},
   "source": [
    "## 29. 国旗画像のURLを取得する"
   ]
  },
  {
   "cell_type": "markdown",
   "metadata": {},
   "source": [
    "テンプレートの内容を利用し，国旗画像のURLを取得せよ．（ヒント: [MediaWiki API](https://www.mediawiki.org/wiki/API:Main_page/ja)の[imageinfo](https://www.mediawiki.org/wiki/API:Imageinfo)を呼び出して，ファイル参照をURLに変換すればよい）"
   ]
  }
 ],
 "metadata": {
  "kernelspec": {
   "display_name": "Python 3",
   "language": "python",
   "name": "python3"
  },
  "language_info": {
   "codemirror_mode": {
    "name": "ipython",
    "version": 3
   },
   "file_extension": ".py",
   "mimetype": "text/x-python",
   "name": "python",
   "nbconvert_exporter": "python",
   "pygments_lexer": "ipython3",
   "version": "3.8.1"
  }
 },
 "nbformat": 4,
 "nbformat_minor": 4
}
