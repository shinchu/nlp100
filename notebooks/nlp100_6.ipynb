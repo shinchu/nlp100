{
 "cells": [
  {
   "cell_type": "markdown",
   "metadata": {},
   "source": [
    "# Chapter 6: 機械学習"
   ]
  },
  {
   "cell_type": "markdown",
   "metadata": {},
   "source": [
    "本章では，Fabio Gasparetti氏が公開している[News Aggregator Data Set](https://archive.ics.uci.edu/ml/datasets/News+Aggregator)を用い，ニュース記事の見出しを「ビジネス」「科学技術」「エンターテイメント」「健康」のカテゴリに分類するタスク（カテゴリ分類）に取り組む．"
   ]
  },
  {
   "cell_type": "markdown",
   "metadata": {},
   "source": [
    "## 50. データの入手・整形"
   ]
  },
  {
   "cell_type": "markdown",
   "metadata": {},
   "source": [
    "News Aggregator Data Setをダウンロードし、以下の要領で学習データ（train.txt），検証データ（valid.txt），評価データ（test.txt）を作成せよ．\n",
    "\n",
    "1. ダウンロードしたzipファイルを解凍し，readme.txtの説明を読む．\n",
    "2. 情報源（publisher）が”Reuters”, “Huffington Post”, “Businessweek”, “Contactmusic.com”, “Daily Mail”の事例（記事）のみを抽出する．\n",
    "3. 抽出された事例をランダムに並び替える．\n",
    "4. 抽出された事例の80%を学習データ，残りの10%ずつを検証データと評価データに分割し，それぞれtrain.txt，valid.txt，test.txtというファイル名で保存する．ファイルには，１行に１事例を書き出すこととし，カテゴリ名と記事見出しのタブ区切り形式とせよ（このファイルは後に問題70で再利用する）．\n",
    "\n",
    "学習データと評価データを作成したら，各カテゴリの事例数を確認せよ．"
   ]
  },
  {
   "cell_type": "code",
   "execution_count": 4,
   "metadata": {},
   "outputs": [
    {
     "name": "stdout",
     "output_type": "stream",
     "text": [
      "--2020-11-02 12:15:22--  https://archive.ics.uci.edu/ml/machine-learning-databases/00359/NewsAggregatorDataset.zip\n",
      "Resolving archive.ics.uci.edu (archive.ics.uci.edu)... 128.195.10.252\n",
      "Connecting to archive.ics.uci.edu (archive.ics.uci.edu)|128.195.10.252|:443... connected.\n",
      "HTTP request sent, awaiting response... 200 OK\n",
      "Length: 29224203 (28M) [application/x-httpd-php]\n",
      "Saving to: ‘../data/NewsAggregatorDataset.zip’\n",
      "\n",
      "NewsAggregatorDatas 100%[===================>]  27.87M  13.8MB/s    in 2.0s    \n",
      "\n",
      "2020-11-02 12:15:24 (13.8 MB/s) - ‘../data/NewsAggregatorDataset.zip’ saved [29224203/29224203]\n",
      "\n"
     ]
    }
   ],
   "source": [
    "!wget https://archive.ics.uci.edu/ml/machine-learning-databases/00359/NewsAggregatorDataset.zip -P ../data/"
   ]
  },
  {
   "cell_type": "code",
   "execution_count": 5,
   "metadata": {},
   "outputs": [
    {
     "name": "stdout",
     "output_type": "stream",
     "text": [
      "Archive:  ../data/NewsAggregatorDataset.zip\n",
      "  inflating: ../data/news_aggregator/2pageSessions.csv  \n",
      "   creating: ../data/news_aggregator/__MACOSX/\n",
      "  inflating: ../data/news_aggregator/__MACOSX/._2pageSessions.csv  \n",
      "  inflating: ../data/news_aggregator/newsCorpora.csv  \n",
      "  inflating: ../data/news_aggregator/__MACOSX/._newsCorpora.csv  \n",
      "  inflating: ../data/news_aggregator/readme.txt  \n",
      "  inflating: ../data/news_aggregator/__MACOSX/._readme.txt  \n"
     ]
    }
   ],
   "source": [
    "!unzip ../data/NewsAggregatorDataset.zip -d ../data/news_aggregator"
   ]
  },
  {
   "cell_type": "code",
   "execution_count": 6,
   "metadata": {},
   "outputs": [
    {
     "name": "stdout",
     "output_type": "stream",
     "text": [
      "SUMMARY: Dataset of references (urls) to news web pages\n",
      "\n",
      "DESCRIPTION: Dataset of references to news web pages collected from an online aggregator in the period from March 10 to August 10 of 2014. The resources are grouped into clusters that represent pages discussing the same news story. The dataset includes also references to web pages that point (has a link to) one of the news page in the collection.\n",
      "\n",
      "TAGS: web pages, news, aggregator, classification, clustering\n",
      "\n",
      "LICENSE: Public domain - Due to restrictions on content and use of the news sources, the corpus is limited to web references (urls) to web pages and does not include any text content. The references have been retrieved from the news aggregator through traditional web browsers. \n",
      "\n",
      "FILE ENCODING: UTF-8\n",
      "\n",
      "FORMAT: Tab delimited CSV files. \n",
      "\n",
      "DATA SHAPE AND STATS: 422937 news pages and divided up into:\n",
      "\n",
      "152746 \tnews of business category\n",
      "108465 \tnews of science and technology category\n",
      "115920 \tnews of business category\n",
      " 45615 \tnews of health category\n",
      "\n",
      "2076 clusters of similar news for entertainment category\n",
      "1789 clusters of similar news for science and technology category\n",
      "2019 clusters of similar news for business category\n",
      "1347 clusters of similar news for health category\n",
      "\n",
      "References to web pages containing a link to one news included in the collection are also included. They are represented as pairs of urls corresponding to 2-page browsing sessions. The collection includes 15516 2-page browsing sessions covering 946 distinct clusters divided up into:\n",
      "\n",
      "6091 2-page sessions for business category\n",
      "9425 2-page sessions for entertainment category\n",
      "\n",
      " \n",
      "\n",
      "CONTENT\n",
      "=======\n",
      "\n",
      "FILENAME #1: newsCorpora.csv (102.297.000 bytes)\n",
      "DESCRIPTION: News pages\n",
      "FORMAT: ID \\t TITLE \\t URL \\t PUBLISHER \\t CATEGORY \\t STORY \\t HOSTNAME \\t TIMESTAMP\n",
      "\n",
      "where:\n",
      "ID\t\tNumeric ID\n",
      "TITLE\t\tNews title \n",
      "URL\t\tUrl\n",
      "PUBLISHER\tPublisher name\n",
      "CATEGORY\tNews category (b = business, t = science and technology, e = entertainment, m = health)\n",
      "STORY\t\tAlphanumeric ID of the cluster that includes news about the same story\n",
      "HOSTNAME\tUrl hostname\n",
      "TIMESTAMP \tApproximate time the news was published, as the number of milliseconds since the epoch 00:00:00 GMT, January 1, 1970\n",
      "\n",
      "\n",
      "FILENAME #2: 2pageSessions.csv (3.049.986 bytes)\n",
      "DESCRIPTION: 2-page sessions\n",
      "FORMAT: STORY \\t HOSTNAME \\t CATEGORY \\t URL\n",
      "\n",
      "where:\n",
      "STORY\t\tAlphanumeric ID of the cluster that includes news about the same story\n",
      "HOSTNAME\tUrl hostname\n",
      "CATEGORY\tNews category (b = business, t = science and technology, e = entertainment, m = health)\n",
      "URL\t\tTwo space-delimited urls representing a browsing session\n"
     ]
    }
   ],
   "source": [
    "!cat ../data/news_aggregator/readme.txt"
   ]
  },
  {
   "cell_type": "code",
   "execution_count": 7,
   "metadata": {},
   "outputs": [],
   "source": [
    "import pandas as pd"
   ]
  },
  {
   "cell_type": "code",
   "execution_count": 8,
   "metadata": {},
   "outputs": [],
   "source": [
    "df = pd.read_table('../data/news_aggregator/newsCorpora.csv', header=None)"
   ]
  },
  {
   "cell_type": "code",
   "execution_count": 9,
   "metadata": {},
   "outputs": [],
   "source": [
    "df.columns = ['id', 'title', 'url', 'publisher', 'category', 'story', 'hostname', 'timestamp']"
   ]
  },
  {
   "cell_type": "code",
   "execution_count": 10,
   "metadata": {},
   "outputs": [],
   "source": [
    "news_df = df[df['publisher'].isin(['Reuters', 'Huffington Post', 'Businessweek', 'Contactmusic.com', 'Daily Mail'])]"
   ]
  },
  {
   "cell_type": "code",
   "execution_count": 11,
   "metadata": {},
   "outputs": [],
   "source": [
    "news_df = news_df.sample(frac=1)"
   ]
  },
  {
   "cell_type": "code",
   "execution_count": 12,
   "metadata": {},
   "outputs": [],
   "source": [
    "from sklearn.model_selection import train_test_split"
   ]
  },
  {
   "cell_type": "code",
   "execution_count": 13,
   "metadata": {},
   "outputs": [],
   "source": [
    "train_df, test_df = train_test_split(news_df, test_size=.2, random_state=1)"
   ]
  },
  {
   "cell_type": "code",
   "execution_count": 14,
   "metadata": {},
   "outputs": [],
   "source": [
    "test_df, val_df = train_test_split(test_df, test_size=.5, random_state=1)"
   ]
  },
  {
   "cell_type": "code",
   "execution_count": 15,
   "metadata": {},
   "outputs": [],
   "source": [
    "train_df.to_csv('../data/news_aggregator/train.txt', sep='\\t', index=False)"
   ]
  },
  {
   "cell_type": "code",
   "execution_count": 16,
   "metadata": {},
   "outputs": [],
   "source": [
    "val_df.to_csv('../data/news_aggregator/valid.txt', sep='\\t', index=False)"
   ]
  },
  {
   "cell_type": "code",
   "execution_count": 17,
   "metadata": {},
   "outputs": [],
   "source": [
    "test_df.to_csv('../data/news_aggregator/test.txt', sep='\\t', index=False)"
   ]
  },
  {
   "cell_type": "code",
   "execution_count": 18,
   "metadata": {},
   "outputs": [
    {
     "data": {
      "text/html": [
       "<div>\n",
       "<style scoped>\n",
       "    .dataframe tbody tr th:only-of-type {\n",
       "        vertical-align: middle;\n",
       "    }\n",
       "\n",
       "    .dataframe tbody tr th {\n",
       "        vertical-align: top;\n",
       "    }\n",
       "\n",
       "    .dataframe thead th {\n",
       "        text-align: right;\n",
       "    }\n",
       "</style>\n",
       "<table border=\"1\" class=\"dataframe\">\n",
       "  <thead>\n",
       "    <tr style=\"text-align: right;\">\n",
       "      <th></th>\n",
       "      <th>id</th>\n",
       "      <th>title</th>\n",
       "      <th>url</th>\n",
       "      <th>publisher</th>\n",
       "      <th>story</th>\n",
       "      <th>hostname</th>\n",
       "      <th>timestamp</th>\n",
       "    </tr>\n",
       "    <tr>\n",
       "      <th>category</th>\n",
       "      <th></th>\n",
       "      <th></th>\n",
       "      <th></th>\n",
       "      <th></th>\n",
       "      <th></th>\n",
       "      <th></th>\n",
       "      <th></th>\n",
       "    </tr>\n",
       "  </thead>\n",
       "  <tbody>\n",
       "    <tr>\n",
       "      <th>b</th>\n",
       "      <td>4522</td>\n",
       "      <td>4522</td>\n",
       "      <td>4522</td>\n",
       "      <td>4522</td>\n",
       "      <td>4522</td>\n",
       "      <td>4522</td>\n",
       "      <td>4522</td>\n",
       "    </tr>\n",
       "    <tr>\n",
       "      <th>e</th>\n",
       "      <td>4209</td>\n",
       "      <td>4209</td>\n",
       "      <td>4209</td>\n",
       "      <td>4209</td>\n",
       "      <td>4209</td>\n",
       "      <td>4209</td>\n",
       "      <td>4209</td>\n",
       "    </tr>\n",
       "    <tr>\n",
       "      <th>m</th>\n",
       "      <td>714</td>\n",
       "      <td>714</td>\n",
       "      <td>714</td>\n",
       "      <td>714</td>\n",
       "      <td>714</td>\n",
       "      <td>714</td>\n",
       "      <td>714</td>\n",
       "    </tr>\n",
       "    <tr>\n",
       "      <th>t</th>\n",
       "      <td>1227</td>\n",
       "      <td>1227</td>\n",
       "      <td>1227</td>\n",
       "      <td>1227</td>\n",
       "      <td>1227</td>\n",
       "      <td>1227</td>\n",
       "      <td>1227</td>\n",
       "    </tr>\n",
       "  </tbody>\n",
       "</table>\n",
       "</div>"
      ],
      "text/plain": [
       "            id  title   url  publisher  story  hostname  timestamp\n",
       "category                                                          \n",
       "b         4522   4522  4522       4522   4522      4522       4522\n",
       "e         4209   4209  4209       4209   4209      4209       4209\n",
       "m          714    714   714        714    714       714        714\n",
       "t         1227   1227  1227       1227   1227      1227       1227"
      ]
     },
     "execution_count": 18,
     "metadata": {},
     "output_type": "execute_result"
    }
   ],
   "source": [
    "train_df.groupby('category').count()"
   ]
  },
  {
   "cell_type": "code",
   "execution_count": 19,
   "metadata": {},
   "outputs": [
    {
     "data": {
      "text/html": [
       "<div>\n",
       "<style scoped>\n",
       "    .dataframe tbody tr th:only-of-type {\n",
       "        vertical-align: middle;\n",
       "    }\n",
       "\n",
       "    .dataframe tbody tr th {\n",
       "        vertical-align: top;\n",
       "    }\n",
       "\n",
       "    .dataframe thead th {\n",
       "        text-align: right;\n",
       "    }\n",
       "</style>\n",
       "<table border=\"1\" class=\"dataframe\">\n",
       "  <thead>\n",
       "    <tr style=\"text-align: right;\">\n",
       "      <th></th>\n",
       "      <th>id</th>\n",
       "      <th>title</th>\n",
       "      <th>url</th>\n",
       "      <th>publisher</th>\n",
       "      <th>story</th>\n",
       "      <th>hostname</th>\n",
       "      <th>timestamp</th>\n",
       "    </tr>\n",
       "    <tr>\n",
       "      <th>category</th>\n",
       "      <th></th>\n",
       "      <th></th>\n",
       "      <th></th>\n",
       "      <th></th>\n",
       "      <th></th>\n",
       "      <th></th>\n",
       "      <th></th>\n",
       "    </tr>\n",
       "  </thead>\n",
       "  <tbody>\n",
       "    <tr>\n",
       "      <th>b</th>\n",
       "      <td>527</td>\n",
       "      <td>527</td>\n",
       "      <td>527</td>\n",
       "      <td>527</td>\n",
       "      <td>527</td>\n",
       "      <td>527</td>\n",
       "      <td>527</td>\n",
       "    </tr>\n",
       "    <tr>\n",
       "      <th>e</th>\n",
       "      <td>554</td>\n",
       "      <td>554</td>\n",
       "      <td>554</td>\n",
       "      <td>554</td>\n",
       "      <td>554</td>\n",
       "      <td>554</td>\n",
       "      <td>554</td>\n",
       "    </tr>\n",
       "    <tr>\n",
       "      <th>m</th>\n",
       "      <td>101</td>\n",
       "      <td>101</td>\n",
       "      <td>101</td>\n",
       "      <td>101</td>\n",
       "      <td>101</td>\n",
       "      <td>101</td>\n",
       "      <td>101</td>\n",
       "    </tr>\n",
       "    <tr>\n",
       "      <th>t</th>\n",
       "      <td>152</td>\n",
       "      <td>152</td>\n",
       "      <td>152</td>\n",
       "      <td>152</td>\n",
       "      <td>152</td>\n",
       "      <td>152</td>\n",
       "      <td>152</td>\n",
       "    </tr>\n",
       "  </tbody>\n",
       "</table>\n",
       "</div>"
      ],
      "text/plain": [
       "           id  title  url  publisher  story  hostname  timestamp\n",
       "category                                                        \n",
       "b         527    527  527        527    527       527        527\n",
       "e         554    554  554        554    554       554        554\n",
       "m         101    101  101        101    101       101        101\n",
       "t         152    152  152        152    152       152        152"
      ]
     },
     "execution_count": 19,
     "metadata": {},
     "output_type": "execute_result"
    }
   ],
   "source": [
    "test_df.groupby('category').count()"
   ]
  },
  {
   "cell_type": "code",
   "execution_count": 20,
   "metadata": {},
   "outputs": [
    {
     "data": {
      "text/html": [
       "<div>\n",
       "<style scoped>\n",
       "    .dataframe tbody tr th:only-of-type {\n",
       "        vertical-align: middle;\n",
       "    }\n",
       "\n",
       "    .dataframe tbody tr th {\n",
       "        vertical-align: top;\n",
       "    }\n",
       "\n",
       "    .dataframe thead th {\n",
       "        text-align: right;\n",
       "    }\n",
       "</style>\n",
       "<table border=\"1\" class=\"dataframe\">\n",
       "  <thead>\n",
       "    <tr style=\"text-align: right;\">\n",
       "      <th></th>\n",
       "      <th>id</th>\n",
       "      <th>title</th>\n",
       "      <th>url</th>\n",
       "      <th>publisher</th>\n",
       "      <th>story</th>\n",
       "      <th>hostname</th>\n",
       "      <th>timestamp</th>\n",
       "    </tr>\n",
       "    <tr>\n",
       "      <th>category</th>\n",
       "      <th></th>\n",
       "      <th></th>\n",
       "      <th></th>\n",
       "      <th></th>\n",
       "      <th></th>\n",
       "      <th></th>\n",
       "      <th></th>\n",
       "    </tr>\n",
       "  </thead>\n",
       "  <tbody>\n",
       "    <tr>\n",
       "      <th>b</th>\n",
       "      <td>578</td>\n",
       "      <td>578</td>\n",
       "      <td>578</td>\n",
       "      <td>578</td>\n",
       "      <td>578</td>\n",
       "      <td>578</td>\n",
       "      <td>578</td>\n",
       "    </tr>\n",
       "    <tr>\n",
       "      <th>e</th>\n",
       "      <td>516</td>\n",
       "      <td>516</td>\n",
       "      <td>516</td>\n",
       "      <td>516</td>\n",
       "      <td>516</td>\n",
       "      <td>516</td>\n",
       "      <td>516</td>\n",
       "    </tr>\n",
       "    <tr>\n",
       "      <th>m</th>\n",
       "      <td>95</td>\n",
       "      <td>95</td>\n",
       "      <td>95</td>\n",
       "      <td>95</td>\n",
       "      <td>95</td>\n",
       "      <td>95</td>\n",
       "      <td>95</td>\n",
       "    </tr>\n",
       "    <tr>\n",
       "      <th>t</th>\n",
       "      <td>145</td>\n",
       "      <td>145</td>\n",
       "      <td>145</td>\n",
       "      <td>145</td>\n",
       "      <td>145</td>\n",
       "      <td>145</td>\n",
       "      <td>145</td>\n",
       "    </tr>\n",
       "  </tbody>\n",
       "</table>\n",
       "</div>"
      ],
      "text/plain": [
       "           id  title  url  publisher  story  hostname  timestamp\n",
       "category                                                        \n",
       "b         578    578  578        578    578       578        578\n",
       "e         516    516  516        516    516       516        516\n",
       "m          95     95   95         95     95        95         95\n",
       "t         145    145  145        145    145       145        145"
      ]
     },
     "execution_count": 20,
     "metadata": {},
     "output_type": "execute_result"
    }
   ],
   "source": [
    "val_df.groupby('category').count()"
   ]
  },
  {
   "cell_type": "markdown",
   "metadata": {},
   "source": [
    "## 51. 特徴量抽出\n",
    "\n",
    "学習データ，検証データ，評価データから特徴量を抽出し，それぞれ`train.feature.txt`，`valid.feature.txt`，`test.feature.txt`というファイル名で保存せよ． なお，カテゴリ分類に有用そうな特徴量は各自で自由に設計せよ．記事の見出しを単語列に変換したものが最低限のベースラインとなるであろう．"
   ]
  },
  {
   "cell_type": "code",
   "execution_count": 35,
   "metadata": {},
   "outputs": [],
   "source": [
    "train_df = pd.read_table('../data/news_aggregator/train.txt')\n",
    "val_df = pd.read_table('../data/news_aggregator/valid.txt')\n",
    "test_df = pd.read_table('../data/news_aggregator/test.txt')"
   ]
  },
  {
   "cell_type": "code",
   "execution_count": 145,
   "metadata": {},
   "outputs": [],
   "source": [
    "categories = ['b', 't', 'e', 'm']"
   ]
  },
  {
   "cell_type": "code",
   "execution_count": 112,
   "metadata": {},
   "outputs": [],
   "source": [
    "# https://qiita.com/nymwa/items/774ca6c542c1eaff160d"
   ]
  },
  {
   "cell_type": "code",
   "execution_count": 114,
   "metadata": {},
   "outputs": [],
   "source": [
    "import re\n",
    "import spacy\n",
    "import nltk"
   ]
  },
  {
   "cell_type": "code",
   "execution_count": 116,
   "metadata": {},
   "outputs": [
    {
     "name": "stdout",
     "output_type": "stream",
     "text": [
      "Collecting en_core_web_sm==2.3.1\n",
      "  Downloading https://github.com/explosion/spacy-models/releases/download/en_core_web_sm-2.3.1/en_core_web_sm-2.3.1.tar.gz (12.0 MB)\n",
      "\u001b[K     |████████████████████████████████| 12.0 MB 4.5 MB/s eta 0:00:01\n",
      "\u001b[?25hRequirement already satisfied: spacy<2.4.0,>=2.3.0 in /mnt/Storage/Users/shu/.cache/pypoetry/virtualenvs/nlp100-st2962ze-py3.8/lib/python3.8/site-packages (from en_core_web_sm==2.3.1) (2.3.2)\n",
      "Requirement already satisfied: blis<0.5.0,>=0.4.0 in /mnt/Storage/Users/shu/.cache/pypoetry/virtualenvs/nlp100-st2962ze-py3.8/lib/python3.8/site-packages (from spacy<2.4.0,>=2.3.0->en_core_web_sm==2.3.1) (0.4.1)\n",
      "Requirement already satisfied: wasabi<1.1.0,>=0.4.0 in /mnt/Storage/Users/shu/.cache/pypoetry/virtualenvs/nlp100-st2962ze-py3.8/lib/python3.8/site-packages (from spacy<2.4.0,>=2.3.0->en_core_web_sm==2.3.1) (0.8.0)\n",
      "Requirement already satisfied: setuptools in /mnt/Storage/Users/shu/.cache/pypoetry/virtualenvs/nlp100-st2962ze-py3.8/lib/python3.8/site-packages (from spacy<2.4.0,>=2.3.0->en_core_web_sm==2.3.1) (49.6.0)\n",
      "Requirement already satisfied: catalogue<1.1.0,>=0.0.7 in /mnt/Storage/Users/shu/.cache/pypoetry/virtualenvs/nlp100-st2962ze-py3.8/lib/python3.8/site-packages (from spacy<2.4.0,>=2.3.0->en_core_web_sm==2.3.1) (1.0.0)\n",
      "Requirement already satisfied: srsly<1.1.0,>=1.0.2 in /mnt/Storage/Users/shu/.cache/pypoetry/virtualenvs/nlp100-st2962ze-py3.8/lib/python3.8/site-packages (from spacy<2.4.0,>=2.3.0->en_core_web_sm==2.3.1) (1.0.2)\n",
      "Requirement already satisfied: cymem<2.1.0,>=2.0.2 in /mnt/Storage/Users/shu/.cache/pypoetry/virtualenvs/nlp100-st2962ze-py3.8/lib/python3.8/site-packages (from spacy<2.4.0,>=2.3.0->en_core_web_sm==2.3.1) (2.0.3)\n",
      "Requirement already satisfied: plac<1.2.0,>=0.9.6 in /mnt/Storage/Users/shu/.cache/pypoetry/virtualenvs/nlp100-st2962ze-py3.8/lib/python3.8/site-packages (from spacy<2.4.0,>=2.3.0->en_core_web_sm==2.3.1) (1.1.3)\n",
      "Requirement already satisfied: thinc==7.4.1 in /mnt/Storage/Users/shu/.cache/pypoetry/virtualenvs/nlp100-st2962ze-py3.8/lib/python3.8/site-packages (from spacy<2.4.0,>=2.3.0->en_core_web_sm==2.3.1) (7.4.1)\n",
      "Requirement already satisfied: tqdm<5.0.0,>=4.38.0 in /mnt/Storage/Users/shu/.cache/pypoetry/virtualenvs/nlp100-st2962ze-py3.8/lib/python3.8/site-packages (from spacy<2.4.0,>=2.3.0->en_core_web_sm==2.3.1) (4.51.0)\n",
      "Requirement already satisfied: preshed<3.1.0,>=3.0.2 in /mnt/Storage/Users/shu/.cache/pypoetry/virtualenvs/nlp100-st2962ze-py3.8/lib/python3.8/site-packages (from spacy<2.4.0,>=2.3.0->en_core_web_sm==2.3.1) (3.0.2)\n",
      "Requirement already satisfied: requests<3.0.0,>=2.13.0 in /mnt/Storage/Users/shu/.cache/pypoetry/virtualenvs/nlp100-st2962ze-py3.8/lib/python3.8/site-packages (from spacy<2.4.0,>=2.3.0->en_core_web_sm==2.3.1) (2.24.0)\n",
      "Requirement already satisfied: numpy>=1.15.0 in /mnt/Storage/Users/shu/.cache/pypoetry/virtualenvs/nlp100-st2962ze-py3.8/lib/python3.8/site-packages (from spacy<2.4.0,>=2.3.0->en_core_web_sm==2.3.1) (1.19.3)\n",
      "Requirement already satisfied: murmurhash<1.1.0,>=0.28.0 in /mnt/Storage/Users/shu/.cache/pypoetry/virtualenvs/nlp100-st2962ze-py3.8/lib/python3.8/site-packages (from spacy<2.4.0,>=2.3.0->en_core_web_sm==2.3.1) (1.0.2)\n",
      "Requirement already satisfied: certifi>=2017.4.17 in /mnt/Storage/Users/shu/.cache/pypoetry/virtualenvs/nlp100-st2962ze-py3.8/lib/python3.8/site-packages (from requests<3.0.0,>=2.13.0->spacy<2.4.0,>=2.3.0->en_core_web_sm==2.3.1) (2020.6.20)\n",
      "Requirement already satisfied: chardet<4,>=3.0.2 in /mnt/Storage/Users/shu/.cache/pypoetry/virtualenvs/nlp100-st2962ze-py3.8/lib/python3.8/site-packages (from requests<3.0.0,>=2.13.0->spacy<2.4.0,>=2.3.0->en_core_web_sm==2.3.1) (3.0.4)\n",
      "Requirement already satisfied: idna<3,>=2.5 in /mnt/Storage/Users/shu/.cache/pypoetry/virtualenvs/nlp100-st2962ze-py3.8/lib/python3.8/site-packages (from requests<3.0.0,>=2.13.0->spacy<2.4.0,>=2.3.0->en_core_web_sm==2.3.1) (2.10)\n",
      "Requirement already satisfied: urllib3!=1.25.0,!=1.25.1,<1.26,>=1.21.1 in /mnt/Storage/Users/shu/.cache/pypoetry/virtualenvs/nlp100-st2962ze-py3.8/lib/python3.8/site-packages (from requests<3.0.0,>=2.13.0->spacy<2.4.0,>=2.3.0->en_core_web_sm==2.3.1) (1.25.11)\n",
      "Building wheels for collected packages: en-core-web-sm\n",
      "  Building wheel for en-core-web-sm (setup.py) ... \u001b[?25ldone\n",
      "\u001b[?25h  Created wheel for en-core-web-sm: filename=en_core_web_sm-2.3.1-py3-none-any.whl size=12047106 sha256=7f6d2337d5d30e879df8d22f36115a6107d7311b971389533cec212634c6af84\n",
      "  Stored in directory: /tmp/pip-ephem-wheel-cache-7asqh_rs/wheels/ee/4d/f7/563214122be1540b5f9197b52cb3ddb9c4a8070808b22d5a84\n",
      "Successfully built en-core-web-sm\n",
      "Installing collected packages: en-core-web-sm\n",
      "Successfully installed en-core-web-sm-2.3.1\n",
      "\u001b[33mWARNING: You are using pip version 20.2.2; however, version 20.2.4 is available.\n",
      "You should consider upgrading via the '/mnt/Storage/Users/shu/.cache/pypoetry/virtualenvs/nlp100-st2962ze-py3.8/bin/python -m pip install --upgrade pip' command.\u001b[0m\n",
      "\u001b[38;5;2m✔ Download and installation successful\u001b[0m\n",
      "You can now load the model via spacy.load('en_core_web_sm')\n",
      "\u001b[38;5;2m✔ Linking successful\u001b[0m\n",
      "/mnt/Storage/Users/shu/.cache/pypoetry/virtualenvs/nlp100-st2962ze-py3.8/lib/python3.8/site-packages/en_core_web_sm\n",
      "-->\n",
      "/mnt/Storage/Users/shu/.cache/pypoetry/virtualenvs/nlp100-st2962ze-py3.8/lib/python3.8/site-packages/spacy/data/en\n",
      "You can now load the model via spacy.load('en')\n"
     ]
    }
   ],
   "source": [
    "!poetry run python -m spacy download en"
   ]
  },
  {
   "cell_type": "code",
   "execution_count": 123,
   "metadata": {},
   "outputs": [],
   "source": [
    "# tokenize, make lowercase and make stem\n",
    "\n",
    "nlp = spacy.load('en')\n",
    "stemmer = nltk.stem.snowball.SnowballStemmer(language='english')\n",
    "\n",
    "def tokenize(x):\n",
    "    x = re.sub(r'\\s+', ' ', x)\n",
    "    x = nlp.make_doc(x)\n",
    "    x = [stemmer.stem(doc.lemma_.lower()) for doc in x]\n",
    "    return x"
   ]
  },
  {
   "cell_type": "code",
   "execution_count": 124,
   "metadata": {},
   "outputs": [],
   "source": [
    "tokenized_train = [tokenize(line) for line in train_df['title']]\n",
    "tokenized_valid = [tokenize(line) for line in val_df['title']]\n",
    "tokenized_test = [tokenize(line) for line in test_df['title']]"
   ]
  },
  {
   "cell_type": "code",
   "execution_count": 126,
   "metadata": {},
   "outputs": [],
   "source": [
    "from collections import Counter"
   ]
  },
  {
   "cell_type": "code",
   "execution_count": 132,
   "metadata": {},
   "outputs": [
    {
     "data": {
      "text/plain": [
       "4822"
      ]
     },
     "execution_count": 132,
     "metadata": {},
     "output_type": "execute_result"
    }
   ],
   "source": [
    "# count token\n",
    "\n",
    "tokens = Counter([\n",
    "        token\n",
    "        for tokens in tokenized_train\n",
    "        for token in tokens\n",
    "    ]).most_common()\n",
    "\n",
    "vocab = [token for token, freq in tokens if 2 < freq < 300]\n",
    "\n",
    "len(vocab)"
   ]
  },
  {
   "cell_type": "code",
   "execution_count": 133,
   "metadata": {},
   "outputs": [
    {
     "data": {
      "text/plain": [
       "2993"
      ]
     },
     "execution_count": 133,
     "metadata": {},
     "output_type": "execute_result"
    }
   ],
   "source": [
    "# count bi-gram\n",
    "bi_grams = Counter([\n",
    "        bi_gram \n",
    "        for sent in tokenized_train\n",
    "        for bi_gram in zip(sent, sent[1:])\n",
    "    ]).most_common()\n",
    "\n",
    "bi_grams = [tup for tup, freq in bi_grams if freq > 4]\n",
    "\n",
    "len(bi_grams)"
   ]
  },
  {
   "cell_type": "code",
   "execution_count": 135,
   "metadata": {},
   "outputs": [],
   "source": [
    "with open('../data/vocab_news.txt', 'w') as f:\n",
    "    for token in vocab:\n",
    "        print(token, file=f)"
   ]
  },
  {
   "cell_type": "code",
   "execution_count": 136,
   "metadata": {},
   "outputs": [],
   "source": [
    "with open('../data/bi_grams_news.txt', 'w') as f:\n",
    "    for token in bi_grams:\n",
    "        print(token, file=f)"
   ]
  },
  {
   "cell_type": "code",
   "execution_count": 137,
   "metadata": {},
   "outputs": [
    {
     "data": {
      "text/plain": [
       "7815"
      ]
     },
     "execution_count": 137,
     "metadata": {},
     "output_type": "execute_result"
    }
   ],
   "source": [
    "features = vocab + [' '.join(x) for x in bi_grams]\n",
    "len(features)"
   ]
  },
  {
   "cell_type": "code",
   "execution_count": 143,
   "metadata": {},
   "outputs": [],
   "source": [
    "import numpy as np"
   ]
  },
  {
   "cell_type": "code",
   "execution_count": 144,
   "metadata": {},
   "outputs": [],
   "source": [
    "vocab_dict = {x:n for n, x in enumerate(vocab)}\n",
    "bi_gram_dict = {x:n for n, x in enumerate(bi_grams)}\n",
    "\n",
    "def count_uni_gram(sent):\n",
    "    lst = [0 for token in vocab]\n",
    "    for token in sent:\n",
    "        if token in vocab_dict:\n",
    "            lst[vocab_dict[token]] += 1\n",
    "    return lst\n",
    "\n",
    "def count_bi_gram(sent):\n",
    "    lst = [0 for token in bi_gram_dict]\n",
    "    for tup in zip(sent, sent[1:]):\n",
    "        if tup in bi_gram_dict:\n",
    "            lst[bi_gram_dict[tup]] += 1\n",
    "    return lst"
   ]
  },
  {
   "cell_type": "code",
   "execution_count": 148,
   "metadata": {},
   "outputs": [],
   "source": [
    "def prepare_feature_dataset(data, dataframe):\n",
    "    ts = [categories.index(cat) for cat in dataframe['category']]\n",
    "    xs = [\n",
    "        count_uni_gram(sent) + count_bi_gram(sent)\n",
    "        for sent in data\n",
    "    ]\n",
    "    \n",
    "    return np.array(xs, dtype=np.float32), np.array(ts, dtype=np.int8)\n",
    "\n",
    "def write_feature_dataset(filename, xs, ts):\n",
    "    with open(f'../data/{filename}', 'w') as f:\n",
    "        for t, x in zip(ts, xs):\n",
    "            line = categories[t] + ' ' + ' '.join([str(int(n)) for n in x])\n",
    "            print(line, file=f)"
   ]
  },
  {
   "cell_type": "code",
   "execution_count": 155,
   "metadata": {},
   "outputs": [],
   "source": [
    "train_x, train_t = prepare_feature_dataset(tokenized_train, train_df)\n",
    "valid_x, valid_t = prepare_feature_dataset(tokenized_valid, val_df)\n",
    "test_x, test_t = prepare_feature_dataset(tokenized_test, test_df)"
   ]
  },
  {
   "cell_type": "code",
   "execution_count": 157,
   "metadata": {},
   "outputs": [],
   "source": [
    "write_feature_dataset('train.feature.txt', train_x, train_t)\n",
    "write_feature_dataset('valid.feature.txt', valid_x, valid_t)\n",
    "write_feature_dataset('test.feature.txt', test_x, test_t)"
   ]
  },
  {
   "cell_type": "code",
   "execution_count": 159,
   "metadata": {},
   "outputs": [
    {
     "data": {
      "text/html": [
       "<div>\n",
       "<style scoped>\n",
       "    .dataframe tbody tr th:only-of-type {\n",
       "        vertical-align: middle;\n",
       "    }\n",
       "\n",
       "    .dataframe tbody tr th {\n",
       "        vertical-align: top;\n",
       "    }\n",
       "\n",
       "    .dataframe thead th {\n",
       "        text-align: right;\n",
       "    }\n",
       "</style>\n",
       "<table border=\"1\" class=\"dataframe\">\n",
       "  <thead>\n",
       "    <tr style=\"text-align: right;\">\n",
       "      <th></th>\n",
       "      <th>category</th>\n",
       "      <th>kardashian</th>\n",
       "      <th>;</th>\n",
       "      <th>rise</th>\n",
       "      <th>high</th>\n",
       "      <th>it</th>\n",
       "      <th>over</th>\n",
       "      <th>china</th>\n",
       "      <th>her</th>\n",
       "      <th>will</th>\n",
       "      <th>...</th>\n",
       "      <th>five year</th>\n",
       "      <th>climb a</th>\n",
       "      <th>to highest</th>\n",
       "      <th>beyoncé and</th>\n",
       "      <th>access midstream</th>\n",
       "      <th>have late</th>\n",
       "      <th>reunit in</th>\n",
       "      <th>cara delevingn</th>\n",
       "      <th>be come</th>\n",
       "      <th>fight against</th>\n",
       "    </tr>\n",
       "  </thead>\n",
       "  <tbody>\n",
       "    <tr>\n",
       "      <th>0</th>\n",
       "      <td>b</td>\n",
       "      <td>0</td>\n",
       "      <td>0</td>\n",
       "      <td>0</td>\n",
       "      <td>0</td>\n",
       "      <td>1</td>\n",
       "      <td>0</td>\n",
       "      <td>0</td>\n",
       "      <td>0</td>\n",
       "      <td>0</td>\n",
       "      <td>...</td>\n",
       "      <td>0</td>\n",
       "      <td>0</td>\n",
       "      <td>0</td>\n",
       "      <td>0</td>\n",
       "      <td>0</td>\n",
       "      <td>0</td>\n",
       "      <td>0</td>\n",
       "      <td>0</td>\n",
       "      <td>0</td>\n",
       "      <td>0</td>\n",
       "    </tr>\n",
       "    <tr>\n",
       "      <th>1</th>\n",
       "      <td>b</td>\n",
       "      <td>0</td>\n",
       "      <td>0</td>\n",
       "      <td>0</td>\n",
       "      <td>0</td>\n",
       "      <td>0</td>\n",
       "      <td>0</td>\n",
       "      <td>0</td>\n",
       "      <td>0</td>\n",
       "      <td>0</td>\n",
       "      <td>...</td>\n",
       "      <td>0</td>\n",
       "      <td>0</td>\n",
       "      <td>0</td>\n",
       "      <td>0</td>\n",
       "      <td>0</td>\n",
       "      <td>0</td>\n",
       "      <td>0</td>\n",
       "      <td>0</td>\n",
       "      <td>0</td>\n",
       "      <td>0</td>\n",
       "    </tr>\n",
       "    <tr>\n",
       "      <th>2</th>\n",
       "      <td>e</td>\n",
       "      <td>2</td>\n",
       "      <td>0</td>\n",
       "      <td>0</td>\n",
       "      <td>0</td>\n",
       "      <td>0</td>\n",
       "      <td>0</td>\n",
       "      <td>0</td>\n",
       "      <td>0</td>\n",
       "      <td>0</td>\n",
       "      <td>...</td>\n",
       "      <td>0</td>\n",
       "      <td>0</td>\n",
       "      <td>0</td>\n",
       "      <td>0</td>\n",
       "      <td>0</td>\n",
       "      <td>0</td>\n",
       "      <td>0</td>\n",
       "      <td>0</td>\n",
       "      <td>0</td>\n",
       "      <td>0</td>\n",
       "    </tr>\n",
       "    <tr>\n",
       "      <th>3</th>\n",
       "      <td>b</td>\n",
       "      <td>0</td>\n",
       "      <td>0</td>\n",
       "      <td>0</td>\n",
       "      <td>0</td>\n",
       "      <td>0</td>\n",
       "      <td>0</td>\n",
       "      <td>0</td>\n",
       "      <td>0</td>\n",
       "      <td>0</td>\n",
       "      <td>...</td>\n",
       "      <td>0</td>\n",
       "      <td>0</td>\n",
       "      <td>0</td>\n",
       "      <td>0</td>\n",
       "      <td>0</td>\n",
       "      <td>0</td>\n",
       "      <td>0</td>\n",
       "      <td>0</td>\n",
       "      <td>0</td>\n",
       "      <td>0</td>\n",
       "    </tr>\n",
       "    <tr>\n",
       "      <th>4</th>\n",
       "      <td>b</td>\n",
       "      <td>0</td>\n",
       "      <td>0</td>\n",
       "      <td>0</td>\n",
       "      <td>0</td>\n",
       "      <td>0</td>\n",
       "      <td>0</td>\n",
       "      <td>0</td>\n",
       "      <td>0</td>\n",
       "      <td>0</td>\n",
       "      <td>...</td>\n",
       "      <td>0</td>\n",
       "      <td>0</td>\n",
       "      <td>0</td>\n",
       "      <td>0</td>\n",
       "      <td>0</td>\n",
       "      <td>0</td>\n",
       "      <td>0</td>\n",
       "      <td>0</td>\n",
       "      <td>0</td>\n",
       "      <td>0</td>\n",
       "    </tr>\n",
       "    <tr>\n",
       "      <th>5</th>\n",
       "      <td>b</td>\n",
       "      <td>0</td>\n",
       "      <td>0</td>\n",
       "      <td>0</td>\n",
       "      <td>0</td>\n",
       "      <td>0</td>\n",
       "      <td>0</td>\n",
       "      <td>0</td>\n",
       "      <td>0</td>\n",
       "      <td>0</td>\n",
       "      <td>...</td>\n",
       "      <td>0</td>\n",
       "      <td>0</td>\n",
       "      <td>0</td>\n",
       "      <td>0</td>\n",
       "      <td>0</td>\n",
       "      <td>0</td>\n",
       "      <td>0</td>\n",
       "      <td>0</td>\n",
       "      <td>0</td>\n",
       "      <td>0</td>\n",
       "    </tr>\n",
       "    <tr>\n",
       "      <th>6</th>\n",
       "      <td>e</td>\n",
       "      <td>0</td>\n",
       "      <td>0</td>\n",
       "      <td>0</td>\n",
       "      <td>0</td>\n",
       "      <td>0</td>\n",
       "      <td>0</td>\n",
       "      <td>0</td>\n",
       "      <td>0</td>\n",
       "      <td>0</td>\n",
       "      <td>...</td>\n",
       "      <td>0</td>\n",
       "      <td>0</td>\n",
       "      <td>0</td>\n",
       "      <td>0</td>\n",
       "      <td>0</td>\n",
       "      <td>0</td>\n",
       "      <td>0</td>\n",
       "      <td>0</td>\n",
       "      <td>0</td>\n",
       "      <td>0</td>\n",
       "    </tr>\n",
       "    <tr>\n",
       "      <th>7</th>\n",
       "      <td>m</td>\n",
       "      <td>0</td>\n",
       "      <td>0</td>\n",
       "      <td>0</td>\n",
       "      <td>0</td>\n",
       "      <td>0</td>\n",
       "      <td>0</td>\n",
       "      <td>0</td>\n",
       "      <td>0</td>\n",
       "      <td>0</td>\n",
       "      <td>...</td>\n",
       "      <td>0</td>\n",
       "      <td>0</td>\n",
       "      <td>0</td>\n",
       "      <td>0</td>\n",
       "      <td>0</td>\n",
       "      <td>0</td>\n",
       "      <td>0</td>\n",
       "      <td>0</td>\n",
       "      <td>0</td>\n",
       "      <td>0</td>\n",
       "    </tr>\n",
       "    <tr>\n",
       "      <th>8</th>\n",
       "      <td>t</td>\n",
       "      <td>0</td>\n",
       "      <td>0</td>\n",
       "      <td>0</td>\n",
       "      <td>0</td>\n",
       "      <td>0</td>\n",
       "      <td>0</td>\n",
       "      <td>0</td>\n",
       "      <td>0</td>\n",
       "      <td>0</td>\n",
       "      <td>...</td>\n",
       "      <td>0</td>\n",
       "      <td>0</td>\n",
       "      <td>0</td>\n",
       "      <td>0</td>\n",
       "      <td>0</td>\n",
       "      <td>0</td>\n",
       "      <td>0</td>\n",
       "      <td>0</td>\n",
       "      <td>0</td>\n",
       "      <td>0</td>\n",
       "    </tr>\n",
       "    <tr>\n",
       "      <th>9</th>\n",
       "      <td>b</td>\n",
       "      <td>0</td>\n",
       "      <td>0</td>\n",
       "      <td>0</td>\n",
       "      <td>0</td>\n",
       "      <td>0</td>\n",
       "      <td>0</td>\n",
       "      <td>0</td>\n",
       "      <td>0</td>\n",
       "      <td>0</td>\n",
       "      <td>...</td>\n",
       "      <td>0</td>\n",
       "      <td>0</td>\n",
       "      <td>0</td>\n",
       "      <td>0</td>\n",
       "      <td>0</td>\n",
       "      <td>0</td>\n",
       "      <td>0</td>\n",
       "      <td>0</td>\n",
       "      <td>0</td>\n",
       "      <td>0</td>\n",
       "    </tr>\n",
       "  </tbody>\n",
       "</table>\n",
       "<p>10 rows × 7816 columns</p>\n",
       "</div>"
      ],
      "text/plain": [
       "  category kardashian  ; rise high it over china her will  ... five year  \\\n",
       "0        b          0  0    0    0  1    0     0   0    0  ...         0   \n",
       "1        b          0  0    0    0  0    0     0   0    0  ...         0   \n",
       "2        e          2  0    0    0  0    0     0   0    0  ...         0   \n",
       "3        b          0  0    0    0  0    0     0   0    0  ...         0   \n",
       "4        b          0  0    0    0  0    0     0   0    0  ...         0   \n",
       "5        b          0  0    0    0  0    0     0   0    0  ...         0   \n",
       "6        e          0  0    0    0  0    0     0   0    0  ...         0   \n",
       "7        m          0  0    0    0  0    0     0   0    0  ...         0   \n",
       "8        t          0  0    0    0  0    0     0   0    0  ...         0   \n",
       "9        b          0  0    0    0  0    0     0   0    0  ...         0   \n",
       "\n",
       "  climb a to highest beyoncé and access midstream have late reunit in  \\\n",
       "0       0          0           0                0         0         0   \n",
       "1       0          0           0                0         0         0   \n",
       "2       0          0           0                0         0         0   \n",
       "3       0          0           0                0         0         0   \n",
       "4       0          0           0                0         0         0   \n",
       "5       0          0           0                0         0         0   \n",
       "6       0          0           0                0         0         0   \n",
       "7       0          0           0                0         0         0   \n",
       "8       0          0           0                0         0         0   \n",
       "9       0          0           0                0         0         0   \n",
       "\n",
       "  cara delevingn be come fight against  \n",
       "0              0       0             0  \n",
       "1              0       0             0  \n",
       "2              0       0             0  \n",
       "3              0       0             0  \n",
       "4              0       0             0  \n",
       "5              0       0             0  \n",
       "6              0       0             0  \n",
       "7              0       0             0  \n",
       "8              0       0             0  \n",
       "9              0       0             0  \n",
       "\n",
       "[10 rows x 7816 columns]"
      ]
     },
     "execution_count": 159,
     "metadata": {},
     "output_type": "execute_result"
    }
   ],
   "source": [
    "with open('../data/train.feature.txt') as f:\n",
    "    table = [line.strip().split(' ') for _, line in zip(range(10), f)]\n",
    "pd.DataFrame(table, columns=['category'] + features)"
   ]
  },
  {
   "cell_type": "markdown",
   "metadata": {},
   "source": [
    "## 52. 学習\n",
    "\n",
    "51で構築した学習データを用いて，ロジスティック回帰モデルを学習せよ．"
   ]
  },
  {
   "cell_type": "code",
   "execution_count": 160,
   "metadata": {},
   "outputs": [],
   "source": [
    "from sklearn.linear_model import LogisticRegression"
   ]
  },
  {
   "cell_type": "code",
   "execution_count": 161,
   "metadata": {},
   "outputs": [],
   "source": [
    "lr = LogisticRegression(max_iter=1000)"
   ]
  },
  {
   "cell_type": "code",
   "execution_count": 163,
   "metadata": {},
   "outputs": [
    {
     "data": {
      "text/plain": [
       "LogisticRegression(max_iter=1000)"
      ]
     },
     "execution_count": 163,
     "metadata": {},
     "output_type": "execute_result"
    }
   ],
   "source": [
    "lr.fit(train_x, train_t)"
   ]
  },
  {
   "cell_type": "markdown",
   "metadata": {},
   "source": [
    "## 53. 予測\n",
    "\n",
    "52で学習したロジスティック回帰モデルを用い，与えられた記事見出しからカテゴリとその予測確率を計算するプログラムを実装せよ．"
   ]
  },
  {
   "cell_type": "code",
   "execution_count": 108,
   "metadata": {},
   "outputs": [],
   "source": [
    "category = {\n",
    "    'b': 'business',\n",
    "    't': 'science and technology',\n",
    "    'e': 'entertainment',\n",
    "    'm': 'medical'\n",
    "}"
   ]
  },
  {
   "cell_type": "code",
   "execution_count": 166,
   "metadata": {},
   "outputs": [],
   "source": [
    "def predict(x):\n",
    "    out = lr.predict_proba(x)\n",
    "    preds = out.argmax(axis=1)\n",
    "    probs = out.max(axis=1)\n",
    "    return preds, probs"
   ]
  },
  {
   "cell_type": "code",
   "execution_count": 170,
   "metadata": {},
   "outputs": [
    {
     "data": {
      "text/html": [
       "<div>\n",
       "<style scoped>\n",
       "    .dataframe tbody tr th:only-of-type {\n",
       "        vertical-align: middle;\n",
       "    }\n",
       "\n",
       "    .dataframe tbody tr th {\n",
       "        vertical-align: top;\n",
       "    }\n",
       "\n",
       "    .dataframe thead th {\n",
       "        text-align: right;\n",
       "    }\n",
       "</style>\n",
       "<table border=\"1\" class=\"dataframe\">\n",
       "  <thead>\n",
       "    <tr style=\"text-align: right;\">\n",
       "      <th></th>\n",
       "      <th>predict</th>\n",
       "      <th>probability</th>\n",
       "    </tr>\n",
       "  </thead>\n",
       "  <tbody>\n",
       "    <tr>\n",
       "      <th>0</th>\n",
       "      <td>business</td>\n",
       "      <td>0.998781</td>\n",
       "    </tr>\n",
       "    <tr>\n",
       "      <th>1</th>\n",
       "      <td>business</td>\n",
       "      <td>0.953200</td>\n",
       "    </tr>\n",
       "    <tr>\n",
       "      <th>2</th>\n",
       "      <td>entertainment</td>\n",
       "      <td>0.999960</td>\n",
       "    </tr>\n",
       "    <tr>\n",
       "      <th>3</th>\n",
       "      <td>business</td>\n",
       "      <td>0.784282</td>\n",
       "    </tr>\n",
       "    <tr>\n",
       "      <th>4</th>\n",
       "      <td>business</td>\n",
       "      <td>0.981578</td>\n",
       "    </tr>\n",
       "    <tr>\n",
       "      <th>...</th>\n",
       "      <td>...</td>\n",
       "      <td>...</td>\n",
       "    </tr>\n",
       "    <tr>\n",
       "      <th>10667</th>\n",
       "      <td>business</td>\n",
       "      <td>0.858622</td>\n",
       "    </tr>\n",
       "    <tr>\n",
       "      <th>10668</th>\n",
       "      <td>entertainment</td>\n",
       "      <td>0.836770</td>\n",
       "    </tr>\n",
       "    <tr>\n",
       "      <th>10669</th>\n",
       "      <td>entertainment</td>\n",
       "      <td>0.999043</td>\n",
       "    </tr>\n",
       "    <tr>\n",
       "      <th>10670</th>\n",
       "      <td>business</td>\n",
       "      <td>0.519860</td>\n",
       "    </tr>\n",
       "    <tr>\n",
       "      <th>10671</th>\n",
       "      <td>business</td>\n",
       "      <td>0.970996</td>\n",
       "    </tr>\n",
       "  </tbody>\n",
       "</table>\n",
       "<p>10672 rows × 2 columns</p>\n",
       "</div>"
      ],
      "text/plain": [
       "             predict  probability\n",
       "0           business     0.998781\n",
       "1           business     0.953200\n",
       "2      entertainment     0.999960\n",
       "3           business     0.784282\n",
       "4           business     0.981578\n",
       "...              ...          ...\n",
       "10667       business     0.858622\n",
       "10668  entertainment     0.836770\n",
       "10669  entertainment     0.999043\n",
       "10670       business     0.519860\n",
       "10671       business     0.970996\n",
       "\n",
       "[10672 rows x 2 columns]"
      ]
     },
     "execution_count": 170,
     "metadata": {},
     "output_type": "execute_result"
    }
   ],
   "source": [
    "preds, probs = predict(train_x)\n",
    "pd.DataFrame([[category[categories[y]], p] for y, p in zip(preds, probs)],\n",
    "             columns=['predict', 'probability'])"
   ]
  },
  {
   "cell_type": "code",
   "execution_count": 172,
   "metadata": {},
   "outputs": [
    {
     "data": {
      "text/html": [
       "<div>\n",
       "<style scoped>\n",
       "    .dataframe tbody tr th:only-of-type {\n",
       "        vertical-align: middle;\n",
       "    }\n",
       "\n",
       "    .dataframe tbody tr th {\n",
       "        vertical-align: top;\n",
       "    }\n",
       "\n",
       "    .dataframe thead th {\n",
       "        text-align: right;\n",
       "    }\n",
       "</style>\n",
       "<table border=\"1\" class=\"dataframe\">\n",
       "  <thead>\n",
       "    <tr style=\"text-align: right;\">\n",
       "      <th></th>\n",
       "      <th>title</th>\n",
       "      <th>category</th>\n",
       "    </tr>\n",
       "  </thead>\n",
       "  <tbody>\n",
       "    <tr>\n",
       "      <th>0</th>\n",
       "      <td>AstraZeneca weighs on Europe shares as it reje...</td>\n",
       "      <td>b</td>\n",
       "    </tr>\n",
       "    <tr>\n",
       "      <th>1</th>\n",
       "      <td>UN Officials Want Better Flight Tracking After...</td>\n",
       "      <td>b</td>\n",
       "    </tr>\n",
       "    <tr>\n",
       "      <th>2</th>\n",
       "      <td>Kim Kardashian - Kim Kardashian visits wedding...</td>\n",
       "      <td>e</td>\n",
       "    </tr>\n",
       "    <tr>\n",
       "      <th>3</th>\n",
       "      <td>UPDATE 1-Ackman asks for Allergan's stockholde...</td>\n",
       "      <td>b</td>\n",
       "    </tr>\n",
       "    <tr>\n",
       "      <th>4</th>\n",
       "      <td>European Car Sales Jump 7.6% as Price Cuts Hel...</td>\n",
       "      <td>b</td>\n",
       "    </tr>\n",
       "    <tr>\n",
       "      <th>...</th>\n",
       "      <td>...</td>\n",
       "      <td>...</td>\n",
       "    </tr>\n",
       "    <tr>\n",
       "      <th>10667</th>\n",
       "      <td>Some of the proposals for tackling student debt</td>\n",
       "      <td>b</td>\n",
       "    </tr>\n",
       "    <tr>\n",
       "      <th>10668</th>\n",
       "      <td>Fishing in TV's Deadpool: Yahoo's Risk-Averse ...</td>\n",
       "      <td>e</td>\n",
       "    </tr>\n",
       "    <tr>\n",
       "      <th>10669</th>\n",
       "      <td>Emma Stone On Gwen Stacy &amp; That 'Amazing Spide...</td>\n",
       "      <td>e</td>\n",
       "    </tr>\n",
       "    <tr>\n",
       "      <th>10670</th>\n",
       "      <td>UPDATE 2-AT&amp;T-DirecTV merger may hinge on NFL ...</td>\n",
       "      <td>t</td>\n",
       "    </tr>\n",
       "    <tr>\n",
       "      <th>10671</th>\n",
       "      <td>OECD cuts global growth outlook as developing ...</td>\n",
       "      <td>b</td>\n",
       "    </tr>\n",
       "  </tbody>\n",
       "</table>\n",
       "<p>10672 rows × 2 columns</p>\n",
       "</div>"
      ],
      "text/plain": [
       "                                                   title category\n",
       "0      AstraZeneca weighs on Europe shares as it reje...        b\n",
       "1      UN Officials Want Better Flight Tracking After...        b\n",
       "2      Kim Kardashian - Kim Kardashian visits wedding...        e\n",
       "3      UPDATE 1-Ackman asks for Allergan's stockholde...        b\n",
       "4      European Car Sales Jump 7.6% as Price Cuts Hel...        b\n",
       "...                                                  ...      ...\n",
       "10667    Some of the proposals for tackling student debt        b\n",
       "10668  Fishing in TV's Deadpool: Yahoo's Risk-Averse ...        e\n",
       "10669  Emma Stone On Gwen Stacy & That 'Amazing Spide...        e\n",
       "10670  UPDATE 2-AT&T-DirecTV merger may hinge on NFL ...        t\n",
       "10671  OECD cuts global growth outlook as developing ...        b\n",
       "\n",
       "[10672 rows x 2 columns]"
      ]
     },
     "execution_count": 172,
     "metadata": {},
     "output_type": "execute_result"
    }
   ],
   "source": [
    "train_df[['title', 'category']]"
   ]
  },
  {
   "cell_type": "code",
   "execution_count": 173,
   "metadata": {},
   "outputs": [
    {
     "data": {
      "text/html": [
       "<div>\n",
       "<style scoped>\n",
       "    .dataframe tbody tr th:only-of-type {\n",
       "        vertical-align: middle;\n",
       "    }\n",
       "\n",
       "    .dataframe tbody tr th {\n",
       "        vertical-align: top;\n",
       "    }\n",
       "\n",
       "    .dataframe thead th {\n",
       "        text-align: right;\n",
       "    }\n",
       "</style>\n",
       "<table border=\"1\" class=\"dataframe\">\n",
       "  <thead>\n",
       "    <tr style=\"text-align: right;\">\n",
       "      <th></th>\n",
       "      <th>predict</th>\n",
       "      <th>probability</th>\n",
       "    </tr>\n",
       "  </thead>\n",
       "  <tbody>\n",
       "    <tr>\n",
       "      <th>0</th>\n",
       "      <td>business</td>\n",
       "      <td>0.999732</td>\n",
       "    </tr>\n",
       "    <tr>\n",
       "      <th>1</th>\n",
       "      <td>entertainment</td>\n",
       "      <td>0.678707</td>\n",
       "    </tr>\n",
       "    <tr>\n",
       "      <th>2</th>\n",
       "      <td>entertainment</td>\n",
       "      <td>0.955720</td>\n",
       "    </tr>\n",
       "    <tr>\n",
       "      <th>3</th>\n",
       "      <td>business</td>\n",
       "      <td>0.641797</td>\n",
       "    </tr>\n",
       "    <tr>\n",
       "      <th>4</th>\n",
       "      <td>entertainment</td>\n",
       "      <td>0.999944</td>\n",
       "    </tr>\n",
       "    <tr>\n",
       "      <th>...</th>\n",
       "      <td>...</td>\n",
       "      <td>...</td>\n",
       "    </tr>\n",
       "    <tr>\n",
       "      <th>1329</th>\n",
       "      <td>entertainment</td>\n",
       "      <td>0.988147</td>\n",
       "    </tr>\n",
       "    <tr>\n",
       "      <th>1330</th>\n",
       "      <td>science and technology</td>\n",
       "      <td>0.785570</td>\n",
       "    </tr>\n",
       "    <tr>\n",
       "      <th>1331</th>\n",
       "      <td>business</td>\n",
       "      <td>0.499889</td>\n",
       "    </tr>\n",
       "    <tr>\n",
       "      <th>1332</th>\n",
       "      <td>science and technology</td>\n",
       "      <td>0.909454</td>\n",
       "    </tr>\n",
       "    <tr>\n",
       "      <th>1333</th>\n",
       "      <td>entertainment</td>\n",
       "      <td>0.951247</td>\n",
       "    </tr>\n",
       "  </tbody>\n",
       "</table>\n",
       "<p>1334 rows × 2 columns</p>\n",
       "</div>"
      ],
      "text/plain": [
       "                     predict  probability\n",
       "0                   business     0.999732\n",
       "1              entertainment     0.678707\n",
       "2              entertainment     0.955720\n",
       "3                   business     0.641797\n",
       "4              entertainment     0.999944\n",
       "...                      ...          ...\n",
       "1329           entertainment     0.988147\n",
       "1330  science and technology     0.785570\n",
       "1331                business     0.499889\n",
       "1332  science and technology     0.909454\n",
       "1333           entertainment     0.951247\n",
       "\n",
       "[1334 rows x 2 columns]"
      ]
     },
     "execution_count": 173,
     "metadata": {},
     "output_type": "execute_result"
    }
   ],
   "source": [
    "preds, probs = predict(test_x)\n",
    "pd.DataFrame([[category[categories[y]], p] for y, p in zip(preds, probs)],\n",
    "             columns=['predict', 'probability'])"
   ]
  },
  {
   "cell_type": "markdown",
   "metadata": {},
   "source": [
    "## 54. 正解率の計測\n",
    "\n",
    "52で学習したロジスティック回帰モデルの正解率を，学習データおよび評価データ上で計測せよ．"
   ]
  },
  {
   "cell_type": "code",
   "execution_count": 175,
   "metadata": {},
   "outputs": [],
   "source": [
    "from sklearn.metrics import accuracy_score"
   ]
  },
  {
   "cell_type": "code",
   "execution_count": 176,
   "metadata": {},
   "outputs": [],
   "source": [
    "train_pred = lr.predict(train_x)\n",
    "test_pred = lr.predict(test_x)"
   ]
  },
  {
   "cell_type": "code",
   "execution_count": 178,
   "metadata": {},
   "outputs": [
    {
     "name": "stdout",
     "output_type": "stream",
     "text": [
      "0.9946589205397302\n"
     ]
    }
   ],
   "source": [
    "print(accuracy_score(train_t, train_pred))"
   ]
  },
  {
   "cell_type": "code",
   "execution_count": 179,
   "metadata": {},
   "outputs": [
    {
     "name": "stdout",
     "output_type": "stream",
     "text": [
      "0.9152923538230885\n"
     ]
    }
   ],
   "source": [
    "print(accuracy_score(test_t, test_pred))"
   ]
  },
  {
   "cell_type": "markdown",
   "metadata": {},
   "source": [
    "## 55. 混同行列の作成\n",
    "\n",
    "52で学習したロジスティック回帰モデルの混同行列（confusion matrix）を，学習データおよび評価データ上で作成せよ"
   ]
  },
  {
   "cell_type": "code",
   "execution_count": 189,
   "metadata": {},
   "outputs": [
    {
     "name": "stderr",
     "output_type": "stream",
     "text": [
      "Matplotlib is building the font cache; this may take a moment.\n"
     ]
    }
   ],
   "source": [
    "from sklearn.metrics import confusion_matrix\n",
    "import seaborn as sns"
   ]
  },
  {
   "cell_type": "code",
   "execution_count": 197,
   "metadata": {},
   "outputs": [],
   "source": [
    "def show_cm(cm):\n",
    "    sns.heatmap(cm, annot=True, cmap='gist_gray_r', xticklabels=categories, yticklabels=categories)"
   ]
  },
  {
   "cell_type": "code",
   "execution_count": 202,
   "metadata": {},
   "outputs": [],
   "source": [
    "train_cm = confusion_matrix(train_t, train_pred)"
   ]
  },
  {
   "cell_type": "code",
   "execution_count": 203,
   "metadata": {},
   "outputs": [],
   "source": [
    "test_cm = confusion_matrix(test_t, test_pred)"
   ]
  },
  {
   "cell_type": "code",
   "execution_count": 204,
   "metadata": {},
   "outputs": [
    {
     "data": {
      "image/png": "[encoded data removed]",
      "text/plain": [
       "<Figure size 432x288 with 2 Axes>"
      ]
     },
     "metadata": {
      "needs_background": "light"
     },
     "output_type": "display_data"
    }
   ],
   "source": [
    "show_cm(train_cm)"
   ]
  },
  {
   "cell_type": "code",
   "execution_count": 205,
   "metadata": {},
   "outputs": [
    {
     "data": {
      "image/png": "[encoded data removed]",
      "text/plain": [
       "<Figure size 432x288 with 2 Axes>"
      ]
     },
     "metadata": {
      "needs_background": "light"
     },
     "output_type": "display_data"
    }
   ],
   "source": [
    "show_cm(test_cm)"
   ]
  },
  {
   "cell_type": "markdown",
   "metadata": {},
   "source": [
    "## 56. 適合率，再現率，F1スコアの計測\n",
    "\n",
    "52で学習したロジスティック回帰モデルの適合率，再現率，F1スコアを，評価データ上で計測せよ．カテゴリごとに適合率，再現率，F1スコアを求め，カテゴリごとの性能をマイクロ平均（micro-average）とマクロ平均（macro-average）で統合せよ．"
   ]
  },
  {
   "cell_type": "code",
   "execution_count": 242,
   "metadata": {},
   "outputs": [],
   "source": [
    "from sklearn.metrics import precision_score, recall_score, f1_score"
   ]
  },
  {
   "cell_type": "code",
   "execution_count": 243,
   "metadata": {},
   "outputs": [
    {
     "name": "stdout",
     "output_type": "stream",
     "text": [
      "[0.90125673 0.81395349 0.95583039 0.8902439 ]\n",
      "[0.95256167 0.69078947 0.9765343  0.72277228]\n",
      "[0.92619926 0.74733096 0.96607143 0.79781421]\n",
      "0.9152923538230885\n",
      "0.9152923538230885\n",
      "0.9152923538230885\n",
      "0.8903211279998021\n",
      "0.835664429192509\n",
      "0.8593539647671036\n"
     ]
    }
   ],
   "source": [
    "print(precision_score(test_t, test_pred, average=None))\n",
    "print(recall_score(test_t, test_pred, average=None))\n",
    "print(f1_score(test_t, test_pred, average=None))\n",
    "print(precision_score(test_t, test_pred, average='micro'))\n",
    "print(recall_score(test_t, test_pred, average='micro'))\n",
    "print(f1_score(test_t, test_pred, average='micro'))\n",
    "print(precision_score(test_t, test_pred, average='macro'))\n",
    "print(recall_score(test_t, test_pred, average='macro'))\n",
    "print(f1_score(test_t, test_pred, average='macro'))"
   ]
  },
  {
   "cell_type": "code",
   "execution_count": 244,
   "metadata": {},
   "outputs": [],
   "source": [
    "tp = test_cm.diagonal()"
   ]
  },
  {
   "cell_type": "code",
   "execution_count": 245,
   "metadata": {},
   "outputs": [],
   "source": [
    "fn = test_cm.sum(axis=1) - tp"
   ]
  },
  {
   "cell_type": "code",
   "execution_count": 246,
   "metadata": {},
   "outputs": [],
   "source": [
    "fp = test_cm.sum(axis=0) - tp"
   ]
  },
  {
   "cell_type": "code",
   "execution_count": 247,
   "metadata": {},
   "outputs": [],
   "source": [
    "precision = tp / (tp + fp)\n",
    "recall = tp / (tp + fn)\n",
    "f_score = 2 * precision * recall / (precision + recall)"
   ]
  },
  {
   "cell_type": "code",
   "execution_count": 248,
   "metadata": {},
   "outputs": [],
   "source": [
    "micro_precision = tp.sum() / (tp + fp).sum()\n",
    "micro_recall = tp.sum() / (tp + fn).sum()\n",
    "micro_f_score = 2 * micro_precision * micro_recall / (micro_precision + micro_recall)\n",
    "micro_average = np.array([micro_precision, micro_recall, micro_f_score])"
   ]
  },
  {
   "cell_type": "code",
   "execution_count": 249,
   "metadata": {},
   "outputs": [],
   "source": [
    "macro_precision = precision.mean()\n",
    "macro_recall = recall.mean()\n",
    "macro_f_score = 2 * macro_precision * macro_recall / (macro_precision + macro_recall)\n",
    "macro_average = np.array([macro_precision, macro_recall, macro_f_score])"
   ]
  },
  {
   "cell_type": "code",
   "execution_count": 250,
   "metadata": {},
   "outputs": [
    {
     "data": {
      "text/html": [
       "<div>\n",
       "<style scoped>\n",
       "    .dataframe tbody tr th:only-of-type {\n",
       "        vertical-align: middle;\n",
       "    }\n",
       "\n",
       "    .dataframe tbody tr th {\n",
       "        vertical-align: top;\n",
       "    }\n",
       "\n",
       "    .dataframe thead th {\n",
       "        text-align: right;\n",
       "    }\n",
       "</style>\n",
       "<table border=\"1\" class=\"dataframe\">\n",
       "  <thead>\n",
       "    <tr style=\"text-align: right;\">\n",
       "      <th></th>\n",
       "      <th>precision</th>\n",
       "      <th>recall</th>\n",
       "      <th>f1 score</th>\n",
       "    </tr>\n",
       "  </thead>\n",
       "  <tbody>\n",
       "    <tr>\n",
       "      <th>b</th>\n",
       "      <td>0.901257</td>\n",
       "      <td>0.952562</td>\n",
       "      <td>0.926199</td>\n",
       "    </tr>\n",
       "    <tr>\n",
       "      <th>t</th>\n",
       "      <td>0.813953</td>\n",
       "      <td>0.690789</td>\n",
       "      <td>0.747331</td>\n",
       "    </tr>\n",
       "    <tr>\n",
       "      <th>e</th>\n",
       "      <td>0.955830</td>\n",
       "      <td>0.976534</td>\n",
       "      <td>0.966071</td>\n",
       "    </tr>\n",
       "    <tr>\n",
       "      <th>m</th>\n",
       "      <td>0.890244</td>\n",
       "      <td>0.722772</td>\n",
       "      <td>0.797814</td>\n",
       "    </tr>\n",
       "    <tr>\n",
       "      <th>micro average</th>\n",
       "      <td>0.915292</td>\n",
       "      <td>0.915292</td>\n",
       "      <td>0.915292</td>\n",
       "    </tr>\n",
       "    <tr>\n",
       "      <th>macro average</th>\n",
       "      <td>0.890321</td>\n",
       "      <td>0.835664</td>\n",
       "      <td>0.862127</td>\n",
       "    </tr>\n",
       "  </tbody>\n",
       "</table>\n",
       "</div>"
      ],
      "text/plain": [
       "               precision    recall  f1 score\n",
       "b               0.901257  0.952562  0.926199\n",
       "t               0.813953  0.690789  0.747331\n",
       "e               0.955830  0.976534  0.966071\n",
       "m               0.890244  0.722772  0.797814\n",
       "micro average   0.915292  0.915292  0.915292\n",
       "macro average   0.890321  0.835664  0.862127"
      ]
     },
     "execution_count": 250,
     "metadata": {},
     "output_type": "execute_result"
    }
   ],
   "source": [
    "table = np.array([precision, recall, f_score]).T\n",
    "table = np.vstack([table, micro_average, macro_average])\n",
    "pd.DataFrame(\n",
    "    table,\n",
    "    index=categories + ['micro average', 'macro average'],\n",
    "    columns=['precision', 'recall', 'f1 score']\n",
    ")"
   ]
  },
  {
   "cell_type": "markdown",
   "metadata": {},
   "source": [
    "## 57. 特徴量の重みの確認\n",
    "\n",
    "52で学習したロジスティック回帰モデルの中で，重みの高い特徴量トップ10と，重みの低い特徴量トップ10を確認せよ"
   ]
  },
  {
   "cell_type": "code",
   "execution_count": 237,
   "metadata": {},
   "outputs": [],
   "source": [
    "def show_weight(directional, n):\n",
    "    for i, cat in enumerate(categories):\n",
    "        indices = lr.coef_[i].argsort()[::directional][:n]\n",
    "        best = np.array(features)[indices]\n",
    "        weight = lr.coef_[i][indices]\n",
    "        print(category[categories[i]])\n",
    "        display(pd.DataFrame([best, weight], index=['features', 'weight'], columns=np.arange(n)+1))"
   ]
  },
  {
   "cell_type": "code",
   "execution_count": 238,
   "metadata": {},
   "outputs": [
    {
     "name": "stdout",
     "output_type": "stream",
     "text": [
      "business\n"
     ]
    },
    {
     "data": {
      "text/html": [
       "<div>\n",
       "<style scoped>\n",
       "    .dataframe tbody tr th:only-of-type {\n",
       "        vertical-align: middle;\n",
       "    }\n",
       "\n",
       "    .dataframe tbody tr th {\n",
       "        vertical-align: top;\n",
       "    }\n",
       "\n",
       "    .dataframe thead th {\n",
       "        text-align: right;\n",
       "    }\n",
       "</style>\n",
       "<table border=\"1\" class=\"dataframe\">\n",
       "  <thead>\n",
       "    <tr style=\"text-align: right;\">\n",
       "      <th></th>\n",
       "      <th>1</th>\n",
       "      <th>2</th>\n",
       "      <th>3</th>\n",
       "      <th>4</th>\n",
       "      <th>5</th>\n",
       "      <th>6</th>\n",
       "      <th>7</th>\n",
       "      <th>8</th>\n",
       "      <th>9</th>\n",
       "      <th>10</th>\n",
       "    </tr>\n",
       "  </thead>\n",
       "  <tbody>\n",
       "    <tr>\n",
       "      <th>features</th>\n",
       "      <td>bank</td>\n",
       "      <td>fed</td>\n",
       "      <td>ukrain</td>\n",
       "      <td>argentina</td>\n",
       "      <td>china</td>\n",
       "      <td>obamacar</td>\n",
       "      <td>ecb</td>\n",
       "      <td>yellen</td>\n",
       "      <td>profit</td>\n",
       "      <td>ipo</td>\n",
       "    </tr>\n",
       "    <tr>\n",
       "      <th>weight</th>\n",
       "      <td>1.74466</td>\n",
       "      <td>1.57014</td>\n",
       "      <td>1.55649</td>\n",
       "      <td>1.4771</td>\n",
       "      <td>1.43283</td>\n",
       "      <td>1.42519</td>\n",
       "      <td>1.42189</td>\n",
       "      <td>1.38407</td>\n",
       "      <td>1.37153</td>\n",
       "      <td>1.28616</td>\n",
       "    </tr>\n",
       "  </tbody>\n",
       "</table>\n",
       "</div>"
      ],
      "text/plain": [
       "               1        2        3          4        5         6        7   \\\n",
       "features     bank      fed   ukrain  argentina    china  obamacar      ecb   \n",
       "weight    1.74466  1.57014  1.55649     1.4771  1.43283   1.42519  1.42189   \n",
       "\n",
       "               8        9        10  \n",
       "features   yellen   profit      ipo  \n",
       "weight    1.38407  1.37153  1.28616  "
      ]
     },
     "metadata": {},
     "output_type": "display_data"
    },
    {
     "name": "stdout",
     "output_type": "stream",
     "text": [
      "science and technology\n"
     ]
    },
    {
     "data": {
      "text/html": [
       "<div>\n",
       "<style scoped>\n",
       "    .dataframe tbody tr th:only-of-type {\n",
       "        vertical-align: middle;\n",
       "    }\n",
       "\n",
       "    .dataframe tbody tr th {\n",
       "        vertical-align: top;\n",
       "    }\n",
       "\n",
       "    .dataframe thead th {\n",
       "        text-align: right;\n",
       "    }\n",
       "</style>\n",
       "<table border=\"1\" class=\"dataframe\">\n",
       "  <thead>\n",
       "    <tr style=\"text-align: right;\">\n",
       "      <th></th>\n",
       "      <th>1</th>\n",
       "      <th>2</th>\n",
       "      <th>3</th>\n",
       "      <th>4</th>\n",
       "      <th>5</th>\n",
       "      <th>6</th>\n",
       "      <th>7</th>\n",
       "      <th>8</th>\n",
       "      <th>9</th>\n",
       "      <th>10</th>\n",
       "    </tr>\n",
       "  </thead>\n",
       "  <tbody>\n",
       "    <tr>\n",
       "      <th>features</th>\n",
       "      <td>facebook</td>\n",
       "      <td>googl</td>\n",
       "      <td>appl</td>\n",
       "      <td>microsoft</td>\n",
       "      <td>climat</td>\n",
       "      <td>tesla</td>\n",
       "      <td>nasa</td>\n",
       "      <td>heartble</td>\n",
       "      <td>gm</td>\n",
       "      <td>fcc</td>\n",
       "    </tr>\n",
       "    <tr>\n",
       "      <th>weight</th>\n",
       "      <td>2.58127</td>\n",
       "      <td>2.51863</td>\n",
       "      <td>2.42747</td>\n",
       "      <td>2.22027</td>\n",
       "      <td>2.12589</td>\n",
       "      <td>1.8463</td>\n",
       "      <td>1.79383</td>\n",
       "      <td>1.79305</td>\n",
       "      <td>1.72469</td>\n",
       "      <td>1.61085</td>\n",
       "    </tr>\n",
       "  </tbody>\n",
       "</table>\n",
       "</div>"
      ],
      "text/plain": [
       "                1        2        3          4        5       6        7   \\\n",
       "features  facebook    googl     appl  microsoft   climat   tesla     nasa   \n",
       "weight     2.58127  2.51863  2.42747    2.22027  2.12589  1.8463  1.79383   \n",
       "\n",
       "                8        9        10  \n",
       "features  heartble       gm      fcc  \n",
       "weight     1.79305  1.72469  1.61085  "
      ]
     },
     "metadata": {},
     "output_type": "display_data"
    },
    {
     "name": "stdout",
     "output_type": "stream",
     "text": [
      "entertainment\n"
     ]
    },
    {
     "data": {
      "text/html": [
       "<div>\n",
       "<style scoped>\n",
       "    .dataframe tbody tr th:only-of-type {\n",
       "        vertical-align: middle;\n",
       "    }\n",
       "\n",
       "    .dataframe tbody tr th {\n",
       "        vertical-align: top;\n",
       "    }\n",
       "\n",
       "    .dataframe thead th {\n",
       "        text-align: right;\n",
       "    }\n",
       "</style>\n",
       "<table border=\"1\" class=\"dataframe\">\n",
       "  <thead>\n",
       "    <tr style=\"text-align: right;\">\n",
       "      <th></th>\n",
       "      <th>1</th>\n",
       "      <th>2</th>\n",
       "      <th>3</th>\n",
       "      <th>4</th>\n",
       "      <th>5</th>\n",
       "      <th>6</th>\n",
       "      <th>7</th>\n",
       "      <th>8</th>\n",
       "      <th>9</th>\n",
       "      <th>10</th>\n",
       "    </tr>\n",
       "  </thead>\n",
       "  <tbody>\n",
       "    <tr>\n",
       "      <th>features</th>\n",
       "      <td>film</td>\n",
       "      <td>kardashian</td>\n",
       "      <td>chris</td>\n",
       "      <td>movi</td>\n",
       "      <td>music</td>\n",
       "      <td>paul</td>\n",
       "      <td>wed</td>\n",
       "      <td>beyonc</td>\n",
       "      <td>star</td>\n",
       "      <td>fan</td>\n",
       "    </tr>\n",
       "    <tr>\n",
       "      <th>weight</th>\n",
       "      <td>1.5638</td>\n",
       "      <td>1.45495</td>\n",
       "      <td>1.45236</td>\n",
       "      <td>1.40551</td>\n",
       "      <td>1.40533</td>\n",
       "      <td>1.37556</td>\n",
       "      <td>1.26622</td>\n",
       "      <td>1.19253</td>\n",
       "      <td>1.17549</td>\n",
       "      <td>1.16164</td>\n",
       "    </tr>\n",
       "  </tbody>\n",
       "</table>\n",
       "</div>"
      ],
      "text/plain": [
       "              1           2        3        4        5        6        7   \\\n",
       "features    film  kardashian    chris     movi    music     paul      wed   \n",
       "weight    1.5638     1.45495  1.45236  1.40551  1.40533  1.37556  1.26622   \n",
       "\n",
       "               8        9        10  \n",
       "features   beyonc     star      fan  \n",
       "weight    1.19253  1.17549  1.16164  "
      ]
     },
     "metadata": {},
     "output_type": "display_data"
    },
    {
     "name": "stdout",
     "output_type": "stream",
     "text": [
      "medical\n"
     ]
    },
    {
     "data": {
      "text/html": [
       "<div>\n",
       "<style scoped>\n",
       "    .dataframe tbody tr th:only-of-type {\n",
       "        vertical-align: middle;\n",
       "    }\n",
       "\n",
       "    .dataframe tbody tr th {\n",
       "        vertical-align: top;\n",
       "    }\n",
       "\n",
       "    .dataframe thead th {\n",
       "        text-align: right;\n",
       "    }\n",
       "</style>\n",
       "<table border=\"1\" class=\"dataframe\">\n",
       "  <thead>\n",
       "    <tr style=\"text-align: right;\">\n",
       "      <th></th>\n",
       "      <th>1</th>\n",
       "      <th>2</th>\n",
       "      <th>3</th>\n",
       "      <th>4</th>\n",
       "      <th>5</th>\n",
       "      <th>6</th>\n",
       "      <th>7</th>\n",
       "      <th>8</th>\n",
       "      <th>9</th>\n",
       "      <th>10</th>\n",
       "    </tr>\n",
       "  </thead>\n",
       "  <tbody>\n",
       "    <tr>\n",
       "      <th>features</th>\n",
       "      <td>ebola</td>\n",
       "      <td>cancer</td>\n",
       "      <td>fda</td>\n",
       "      <td>studi</td>\n",
       "      <td>drug</td>\n",
       "      <td>doctor</td>\n",
       "      <td>brain</td>\n",
       "      <td>health</td>\n",
       "      <td>mer</td>\n",
       "      <td>medic</td>\n",
       "    </tr>\n",
       "    <tr>\n",
       "      <th>weight</th>\n",
       "      <td>2.29029</td>\n",
       "      <td>2.14277</td>\n",
       "      <td>2.04471</td>\n",
       "      <td>1.85278</td>\n",
       "      <td>1.78372</td>\n",
       "      <td>1.7012</td>\n",
       "      <td>1.56464</td>\n",
       "      <td>1.56369</td>\n",
       "      <td>1.54942</td>\n",
       "      <td>1.48249</td>\n",
       "    </tr>\n",
       "  </tbody>\n",
       "</table>\n",
       "</div>"
      ],
      "text/plain": [
       "               1        2        3        4        5       6        7   \\\n",
       "features    ebola   cancer      fda    studi     drug  doctor    brain   \n",
       "weight    2.29029  2.14277  2.04471  1.85278  1.78372  1.7012  1.56464   \n",
       "\n",
       "               8        9        10  \n",
       "features   health      mer    medic  \n",
       "weight    1.56369  1.54942  1.48249  "
      ]
     },
     "metadata": {},
     "output_type": "display_data"
    }
   ],
   "source": [
    "show_weight(-1, 10)"
   ]
  },
  {
   "cell_type": "code",
   "execution_count": 239,
   "metadata": {},
   "outputs": [
    {
     "name": "stdout",
     "output_type": "stream",
     "text": [
      "business\n"
     ]
    },
    {
     "data": {
      "text/html": [
       "<div>\n",
       "<style scoped>\n",
       "    .dataframe tbody tr th:only-of-type {\n",
       "        vertical-align: middle;\n",
       "    }\n",
       "\n",
       "    .dataframe tbody tr th {\n",
       "        vertical-align: top;\n",
       "    }\n",
       "\n",
       "    .dataframe thead th {\n",
       "        text-align: right;\n",
       "    }\n",
       "</style>\n",
       "<table border=\"1\" class=\"dataframe\">\n",
       "  <thead>\n",
       "    <tr style=\"text-align: right;\">\n",
       "      <th></th>\n",
       "      <th>1</th>\n",
       "      <th>2</th>\n",
       "      <th>3</th>\n",
       "      <th>4</th>\n",
       "      <th>5</th>\n",
       "      <th>6</th>\n",
       "      <th>7</th>\n",
       "      <th>8</th>\n",
       "      <th>9</th>\n",
       "      <th>10</th>\n",
       "    </tr>\n",
       "  </thead>\n",
       "  <tbody>\n",
       "    <tr>\n",
       "      <th>features</th>\n",
       "      <td>aereo</td>\n",
       "      <td>video</td>\n",
       "      <td>activis</td>\n",
       "      <td>subscript</td>\n",
       "      <td>heartble</td>\n",
       "      <td>ebola</td>\n",
       "      <td>studi</td>\n",
       "      <td>babi</td>\n",
       "      <td>virus</td>\n",
       "      <td>tv</td>\n",
       "    </tr>\n",
       "    <tr>\n",
       "      <th>weight</th>\n",
       "      <td>-1.45964</td>\n",
       "      <td>-1.19757</td>\n",
       "      <td>-1.161</td>\n",
       "      <td>-1.09074</td>\n",
       "      <td>-1.08927</td>\n",
       "      <td>-1.01531</td>\n",
       "      <td>-0.98909</td>\n",
       "      <td>-0.9819</td>\n",
       "      <td>-0.949301</td>\n",
       "      <td>-0.909577</td>\n",
       "    </tr>\n",
       "  </tbody>\n",
       "</table>\n",
       "</div>"
      ],
      "text/plain": [
       "               1        2        3          4         5        6        7   \\\n",
       "features    aereo    video  activis  subscript  heartble    ebola    studi   \n",
       "weight   -1.45964 -1.19757   -1.161   -1.09074  -1.08927 -1.01531 -0.98909   \n",
       "\n",
       "              8         9         10  \n",
       "features    babi     virus        tv  \n",
       "weight   -0.9819 -0.949301 -0.909577  "
      ]
     },
     "metadata": {},
     "output_type": "display_data"
    },
    {
     "name": "stdout",
     "output_type": "stream",
     "text": [
      "science and technology\n"
     ]
    },
    {
     "data": {
      "text/html": [
       "<div>\n",
       "<style scoped>\n",
       "    .dataframe tbody tr th:only-of-type {\n",
       "        vertical-align: middle;\n",
       "    }\n",
       "\n",
       "    .dataframe tbody tr th {\n",
       "        vertical-align: top;\n",
       "    }\n",
       "\n",
       "    .dataframe thead th {\n",
       "        text-align: right;\n",
       "    }\n",
       "</style>\n",
       "<table border=\"1\" class=\"dataframe\">\n",
       "  <thead>\n",
       "    <tr style=\"text-align: right;\">\n",
       "      <th></th>\n",
       "      <th>1</th>\n",
       "      <th>2</th>\n",
       "      <th>3</th>\n",
       "      <th>4</th>\n",
       "      <th>5</th>\n",
       "      <th>6</th>\n",
       "      <th>7</th>\n",
       "      <th>8</th>\n",
       "      <th>9</th>\n",
       "      <th>10</th>\n",
       "    </tr>\n",
       "  </thead>\n",
       "  <tbody>\n",
       "    <tr>\n",
       "      <th>features</th>\n",
       "      <td>drug</td>\n",
       "      <td>drop</td>\n",
       "      <td>surg</td>\n",
       "      <td>mean</td>\n",
       "      <td>accus</td>\n",
       "      <td>grow</td>\n",
       "      <td>rate</td>\n",
       "      <td>us stock</td>\n",
       "      <td>acquisit</td>\n",
       "      <td>cancer</td>\n",
       "    </tr>\n",
       "    <tr>\n",
       "      <th>weight</th>\n",
       "      <td>-0.923433</td>\n",
       "      <td>-0.896985</td>\n",
       "      <td>-0.885598</td>\n",
       "      <td>-0.857227</td>\n",
       "      <td>-0.8089</td>\n",
       "      <td>-0.803811</td>\n",
       "      <td>-0.800683</td>\n",
       "      <td>-0.781684</td>\n",
       "      <td>-0.781417</td>\n",
       "      <td>-0.767713</td>\n",
       "    </tr>\n",
       "  </tbody>\n",
       "</table>\n",
       "</div>"
      ],
      "text/plain": [
       "                1         2         3         4       5         6         7   \\\n",
       "features      drug      drop      surg      mean   accus      grow      rate   \n",
       "weight   -0.923433 -0.896985 -0.885598 -0.857227 -0.8089 -0.803811 -0.800683   \n",
       "\n",
       "                8         9         10  \n",
       "features  us stock  acquisit    cancer  \n",
       "weight   -0.781684 -0.781417 -0.767713  "
      ]
     },
     "metadata": {},
     "output_type": "display_data"
    },
    {
     "name": "stdout",
     "output_type": "stream",
     "text": [
      "entertainment\n"
     ]
    },
    {
     "data": {
      "text/html": [
       "<div>\n",
       "<style scoped>\n",
       "    .dataframe tbody tr th:only-of-type {\n",
       "        vertical-align: middle;\n",
       "    }\n",
       "\n",
       "    .dataframe tbody tr th {\n",
       "        vertical-align: top;\n",
       "    }\n",
       "\n",
       "    .dataframe thead th {\n",
       "        text-align: right;\n",
       "    }\n",
       "</style>\n",
       "<table border=\"1\" class=\"dataframe\">\n",
       "  <thead>\n",
       "    <tr style=\"text-align: right;\">\n",
       "      <th></th>\n",
       "      <th>1</th>\n",
       "      <th>2</th>\n",
       "      <th>3</th>\n",
       "      <th>4</th>\n",
       "      <th>5</th>\n",
       "      <th>6</th>\n",
       "      <th>7</th>\n",
       "      <th>8</th>\n",
       "      <th>9</th>\n",
       "      <th>10</th>\n",
       "    </tr>\n",
       "  </thead>\n",
       "  <tbody>\n",
       "    <tr>\n",
       "      <th>features</th>\n",
       "      <td>googl</td>\n",
       "      <td>china</td>\n",
       "      <td>ceo</td>\n",
       "      <td>recal</td>\n",
       "      <td>scientist</td>\n",
       "      <td>facebook</td>\n",
       "      <td>oil</td>\n",
       "      <td>microsoft</td>\n",
       "      <td>gm</td>\n",
       "      <td>bln</td>\n",
       "    </tr>\n",
       "    <tr>\n",
       "      <th>weight</th>\n",
       "      <td>-1.43507</td>\n",
       "      <td>-1.28048</td>\n",
       "      <td>-1.1322</td>\n",
       "      <td>-1.1292</td>\n",
       "      <td>-1.08681</td>\n",
       "      <td>-1.07089</td>\n",
       "      <td>-1.04611</td>\n",
       "      <td>-1.02327</td>\n",
       "      <td>-1.0083</td>\n",
       "      <td>-1.00238</td>\n",
       "    </tr>\n",
       "  </tbody>\n",
       "</table>\n",
       "</div>"
      ],
      "text/plain": [
       "               1        2       3       4          5         6        7   \\\n",
       "features    googl    china     ceo   recal  scientist  facebook      oil   \n",
       "weight   -1.43507 -1.28048 -1.1322 -1.1292   -1.08681  -1.07089 -1.04611   \n",
       "\n",
       "                 8       9        10  \n",
       "features  microsoft      gm      bln  \n",
       "weight     -1.02327 -1.0083 -1.00238  "
      ]
     },
     "metadata": {},
     "output_type": "display_data"
    },
    {
     "name": "stdout",
     "output_type": "stream",
     "text": [
      "medical\n"
     ]
    },
    {
     "data": {
      "text/html": [
       "<div>\n",
       "<style scoped>\n",
       "    .dataframe tbody tr th:only-of-type {\n",
       "        vertical-align: middle;\n",
       "    }\n",
       "\n",
       "    .dataframe tbody tr th {\n",
       "        vertical-align: top;\n",
       "    }\n",
       "\n",
       "    .dataframe thead th {\n",
       "        text-align: right;\n",
       "    }\n",
       "</style>\n",
       "<table border=\"1\" class=\"dataframe\">\n",
       "  <thead>\n",
       "    <tr style=\"text-align: right;\">\n",
       "      <th></th>\n",
       "      <th>1</th>\n",
       "      <th>2</th>\n",
       "      <th>3</th>\n",
       "      <th>4</th>\n",
       "      <th>5</th>\n",
       "      <th>6</th>\n",
       "      <th>7</th>\n",
       "      <th>8</th>\n",
       "      <th>9</th>\n",
       "      <th>10</th>\n",
       "    </tr>\n",
       "  </thead>\n",
       "  <tbody>\n",
       "    <tr>\n",
       "      <th>features</th>\n",
       "      <td>gm</td>\n",
       "      <td>deal</td>\n",
       "      <td>facebook</td>\n",
       "      <td>appl</td>\n",
       "      <td>bank</td>\n",
       "      <td>hit</td>\n",
       "      <td>climat</td>\n",
       "      <td>fund</td>\n",
       "      <td>twitter</td>\n",
       "      <td>profit</td>\n",
       "    </tr>\n",
       "    <tr>\n",
       "      <th>weight</th>\n",
       "      <td>-0.852715</td>\n",
       "      <td>-0.828509</td>\n",
       "      <td>-0.781987</td>\n",
       "      <td>-0.735705</td>\n",
       "      <td>-0.708522</td>\n",
       "      <td>-0.616807</td>\n",
       "      <td>-0.614581</td>\n",
       "      <td>-0.595892</td>\n",
       "      <td>-0.591555</td>\n",
       "      <td>-0.552596</td>\n",
       "    </tr>\n",
       "  </tbody>\n",
       "</table>\n",
       "</div>"
      ],
      "text/plain": [
       "                1         2         3         4         5         6   \\\n",
       "features        gm      deal  facebook      appl      bank       hit   \n",
       "weight   -0.852715 -0.828509 -0.781987 -0.735705 -0.708522 -0.616807   \n",
       "\n",
       "                7         8         9         10  \n",
       "features    climat      fund   twitter    profit  \n",
       "weight   -0.614581 -0.595892 -0.591555 -0.552596  "
      ]
     },
     "metadata": {},
     "output_type": "display_data"
    }
   ],
   "source": [
    "show_weight(1, 10)"
   ]
  },
  {
   "cell_type": "markdown",
   "metadata": {},
   "source": [
    "## 58. 正則化パラメータの変更\n",
    "\n",
    "ロジスティック回帰モデルを学習するとき，正則化パラメータを調整することで，学習時の過学習（overfitting）の度合いを制御できる．異なる正則化パラメータでロジスティック回帰モデルを学習し，学習データ，検証データ，および評価データ上の正解率を求めよ．実験の結果は，正則化パラメータを横軸，正解率を縦軸としたグラフにまとめよ．"
   ]
  },
  {
   "cell_type": "code",
   "execution_count": 240,
   "metadata": {},
   "outputs": [],
   "source": [
    "import matplotlib.pyplot as plt\n",
    "from tqdm import tqdm"
   ]
  },
  {
   "cell_type": "code",
   "execution_count": 241,
   "metadata": {},
   "outputs": [
    {
     "name": "stderr",
     "output_type": "stream",
     "text": [
      "100%|██████████| 50/50 [13:16<00:00, 15.92s/it]\n"
     ]
    }
   ],
   "source": [
    "Cs = np.arange(0.1, 5.1, 0.1)\n",
    "lrs = [LogisticRegression(C=C, max_iter=1000).fit(train_x, train_t) for C in tqdm(Cs)]"
   ]
  },
  {
   "cell_type": "code",
   "execution_count": 252,
   "metadata": {},
   "outputs": [],
   "source": [
    "def accuracy(lr, xs, ts):\n",
    "    ys = lr.predict(xs)\n",
    "    return (ys == ts).mean()"
   ]
  },
  {
   "cell_type": "code",
   "execution_count": 253,
   "metadata": {},
   "outputs": [],
   "source": [
    "train_accs = [accuracy(lr, train_x, train_t) for lr in lrs]\n",
    "valid_accs = [accuracy(lr, valid_x, valid_t) for lr in lrs]\n",
    "test_accs = [accuracy(lr, test_x, test_t) for lr in lrs]"
   ]
  },
  {
   "cell_type": "code",
   "execution_count": 255,
   "metadata": {},
   "outputs": [
    {
     "data": {
      "text/plain": [
       "<matplotlib.legend.Legend at 0x7f6f81327a00>"
      ]
     },
     "execution_count": 255,
     "metadata": {},
     "output_type": "execute_result"
    },
    {
     "data": {
      "image/png": "[encoded data removed]",
      "text/plain": [
       "<Figure size 432x288 with 1 Axes>"
      ]
     },
     "metadata": {
      "needs_background": "light"
     },
     "output_type": "display_data"
    }
   ],
   "source": [
    "plt.plot(Cs, train_accs, label='train')\n",
    "plt.plot(Cs, valid_accs, label='valid')\n",
    "plt.plot(Cs, test_accs, label='test')\n",
    "plt.legend()"
   ]
  },
  {
   "cell_type": "markdown",
   "metadata": {},
   "source": [
    "## 59. ハイパーパラメータの探索\n",
    "\n",
    "学習アルゴリズムや学習パラメータを変えながら，カテゴリ分類モデルを学習せよ．検証データ上の正解率が最も高くなる学習アルゴリズム・パラメータを求めよ．また，その学習アルゴリズム・パラメータを用いたときの評価データ上の正解率を求めよ"
   ]
  },
  {
   "cell_type": "code",
   "execution_count": 256,
   "metadata": {},
   "outputs": [
    {
     "name": "stderr",
     "output_type": "stream",
     "text": [
      "100%|██████████| 50/50 [03:26<00:00,  4.14s/it]\n"
     ]
    }
   ],
   "source": [
    "tols = np.logspace(0, 2, 50)\n",
    "lrs = [LogisticRegression(tol=tol, max_iter=1000).fit(train_x, train_t) for tol in tqdm(tols)]"
   ]
  },
  {
   "cell_type": "code",
   "execution_count": 257,
   "metadata": {},
   "outputs": [],
   "source": [
    "train_accs = [accuracy(lr, train_x, train_t) for lr in lrs]\n",
    "valid_accs = [accuracy(lr, valid_x, valid_t) for lr in lrs]\n",
    "test_accs = [accuracy(lr, test_x, test_t) for lr in lrs]"
   ]
  },
  {
   "cell_type": "code",
   "execution_count": 258,
   "metadata": {},
   "outputs": [
    {
     "data": {
      "text/plain": [
       "<matplotlib.legend.Legend at 0x7f6f80f9d550>"
      ]
     },
     "execution_count": 258,
     "metadata": {},
     "output_type": "execute_result"
    },
    {
     "data": {
      "image/png": "[encoded data removed]",
      "text/plain": [
       "<Figure size 432x288 with 1 Axes>"
      ]
     },
     "metadata": {
      "needs_background": "light"
     },
     "output_type": "display_data"
    }
   ],
   "source": [
    "plt.plot(tols, train_accs, label = 'train')\n",
    "plt.plot(tols, valid_accs, label = 'valid')\n",
    "plt.plot(tols, test_accs, label = 'test')\n",
    "plt.xscale('log')\n",
    "plt.legend()"
   ]
  },
  {
   "cell_type": "markdown",
   "metadata": {},
   "source": [
    "### Naive Bayes"
   ]
  },
  {
   "cell_type": "code",
   "execution_count": 259,
   "metadata": {},
   "outputs": [],
   "source": [
    "from sklearn.naive_bayes import MultinomialNB"
   ]
  },
  {
   "cell_type": "code",
   "execution_count": 260,
   "metadata": {},
   "outputs": [
    {
     "data": {
      "text/plain": [
       "MultinomialNB()"
      ]
     },
     "execution_count": 260,
     "metadata": {},
     "output_type": "execute_result"
    }
   ],
   "source": [
    "nb = MultinomialNB()\n",
    "nb.fit(train_x, train_t)"
   ]
  },
  {
   "cell_type": "code",
   "execution_count": 261,
   "metadata": {},
   "outputs": [
    {
     "data": {
      "text/plain": [
       "0.943215892053973"
      ]
     },
     "execution_count": 261,
     "metadata": {},
     "output_type": "execute_result"
    }
   ],
   "source": [
    "accuracy(nb, train_x, train_t)"
   ]
  },
  {
   "cell_type": "code",
   "execution_count": 263,
   "metadata": {},
   "outputs": [
    {
     "data": {
      "text/plain": [
       "0.9175412293853074"
      ]
     },
     "execution_count": 263,
     "metadata": {},
     "output_type": "execute_result"
    }
   ],
   "source": [
    "accuracy(nb, test_x, test_t)"
   ]
  },
  {
   "cell_type": "markdown",
   "metadata": {},
   "source": [
    "### Linear SVC"
   ]
  },
  {
   "cell_type": "code",
   "execution_count": 265,
   "metadata": {},
   "outputs": [],
   "source": [
    "from sklearn.svm import LinearSVC"
   ]
  },
  {
   "cell_type": "code",
   "execution_count": 266,
   "metadata": {},
   "outputs": [
    {
     "data": {
      "text/plain": [
       "LinearSVC(C=0.1)"
      ]
     },
     "execution_count": 266,
     "metadata": {},
     "output_type": "execute_result"
    }
   ],
   "source": [
    "svc = LinearSVC(C=0.1)\n",
    "svc.fit(train_x, train_t)"
   ]
  },
  {
   "cell_type": "code",
   "execution_count": 267,
   "metadata": {},
   "outputs": [
    {
     "data": {
      "text/plain": [
       "0.9901611694152923"
      ]
     },
     "execution_count": 267,
     "metadata": {},
     "output_type": "execute_result"
    }
   ],
   "source": [
    "accuracy(svc, train_x, train_t)"
   ]
  },
  {
   "cell_type": "code",
   "execution_count": 268,
   "metadata": {},
   "outputs": [
    {
     "data": {
      "text/plain": [
       "0.9182908545727136"
      ]
     },
     "execution_count": 268,
     "metadata": {},
     "output_type": "execute_result"
    }
   ],
   "source": [
    "accuracy(svc, test_x, test_t)"
   ]
  }
 ],
 "metadata": {
  "kernelspec": {
   "display_name": "Python 3",
   "language": "python",
   "name": "python3"
  },
  "language_info": {
   "codemirror_mode": {
    "name": "ipython",
    "version": 3
   },
   "file_extension": ".py",
   "mimetype": "text/x-python",
   "name": "python",
   "nbconvert_exporter": "python",
   "pygments_lexer": "ipython3",
   "version": "3.8.3"
  }
 },
 "nbformat": 4,
 "nbformat_minor": 4
}
