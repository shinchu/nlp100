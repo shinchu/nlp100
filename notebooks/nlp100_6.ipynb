{
 "cells": [
  {
   "cell_type": "markdown",
   "metadata": {},
   "source": [
    "# Chapter 6: 機械学習"
   ]
  },
  {
   "cell_type": "markdown",
   "metadata": {},
   "source": [
    "本章では，Fabio Gasparetti氏が公開している[News Aggregator Data Set](https://archive.ics.uci.edu/ml/datasets/News+Aggregator)を用い，ニュース記事の見出しを「ビジネス」「科学技術」「エンターテイメント」「健康」のカテゴリに分類するタスク（カテゴリ分類）に取り組む．"
   ]
  },
  {
   "cell_type": "markdown",
   "metadata": {},
   "source": [
    "## 50. データの入手・整形"
   ]
  },
  {
   "cell_type": "markdown",
   "metadata": {},
   "source": [
    "News Aggregator Data Setをダウンロードし、以下の要領で学習データ（train.txt），検証データ（valid.txt），評価データ（test.txt）を作成せよ．\n",
    "\n",
    "1. ダウンロードしたzipファイルを解凍し，readme.txtの説明を読む．\n",
    "2. 情報源（publisher）が”Reuters”, “Huffington Post”, “Businessweek”, “Contactmusic.com”, “Daily Mail”の事例（記事）のみを抽出する．\n",
    "3. 抽出された事例をランダムに並び替える．\n",
    "4. 抽出された事例の80%を学習データ，残りの10%ずつを検証データと評価データに分割し，それぞれtrain.txt，valid.txt，test.txtというファイル名で保存する．ファイルには，１行に１事例を書き出すこととし，カテゴリ名と記事見出しのタブ区切り形式とせよ（このファイルは後に問題70で再利用する）．\n",
    "\n",
    "学習データと評価データを作成したら，各カテゴリの事例数を確認せよ．"
   ]
  },
  {
   "cell_type": "code",
   "execution_count": 3,
   "metadata": {},
   "outputs": [
    {
     "name": "stdout",
     "output_type": "stream",
     "text": [
      "--2020-11-01 11:38:06--  https://archive.ics.uci.edu/ml/machine-learning-databases/00359/NewsAggregatorDataset.zip\n",
      "Resolving archive.ics.uci.edu (archive.ics.uci.edu)... 128.195.10.252\n",
      "Connecting to archive.ics.uci.edu (archive.ics.uci.edu)|128.195.10.252|:443... connected.\n",
      "HTTP request sent, awaiting response... 200 OK\n",
      "Length: 29224203 (28M) [application/x-httpd-php]\n",
      "Saving to: ‘../data/NewsAggregatorDataset.zip’\n",
      "\n",
      "NewsAggregatorDatas 100%[===================>]  27.87M  11.5MB/s    in 2.4s    \n",
      "\n",
      "2020-11-01 11:38:15 (11.5 MB/s) - ‘../data/NewsAggregatorDataset.zip’ saved [29224203/29224203]\n",
      "\n"
     ]
    }
   ],
   "source": [
    "# !wget https://archive.ics.uci.edu/ml/machine-learning-databases/00359/NewsAggregatorDataset.zip -P ../data/"
   ]
  },
  {
   "cell_type": "code",
   "execution_count": 4,
   "metadata": {},
   "outputs": [
    {
     "name": "stdout",
     "output_type": "stream",
     "text": [
      "Archive:  ../data/NewsAggregatorDataset.zip\n",
      "  inflating: ../data/news_aggregator/2pageSessions.csv  \n",
      "   creating: ../data/news_aggregator/__MACOSX/\n",
      "  inflating: ../data/news_aggregator/__MACOSX/._2pageSessions.csv  \n",
      "  inflating: ../data/news_aggregator/newsCorpora.csv  \n",
      "  inflating: ../data/news_aggregator/__MACOSX/._newsCorpora.csv  \n",
      "  inflating: ../data/news_aggregator/readme.txt  \n",
      "  inflating: ../data/news_aggregator/__MACOSX/._readme.txt  \n"
     ]
    }
   ],
   "source": [
    "# !unzip ../data/NewsAggregatorDataset.zip -d ../data/news_aggregator"
   ]
  },
  {
   "cell_type": "code",
   "execution_count": 5,
   "metadata": {},
   "outputs": [
    {
     "name": "stdout",
     "output_type": "stream",
     "text": [
      "SUMMARY: Dataset of references (urls) to news web pages\n",
      "\n",
      "DESCRIPTION: Dataset of references to news web pages collected from an online aggregator in the period from March 10 to August 10 of 2014. The resources are grouped into clusters that represent pages discussing the same news story. The dataset includes also references to web pages that point (has a link to) one of the news page in the collection.\n",
      "\n",
      "TAGS: web pages, news, aggregator, classification, clustering\n",
      "\n",
      "LICENSE: Public domain - Due to restrictions on content and use of the news sources, the corpus is limited to web references (urls) to web pages and does not include any text content. The references have been retrieved from the news aggregator through traditional web browsers. \n",
      "\n",
      "FILE ENCODING: UTF-8\n",
      "\n",
      "FORMAT: Tab delimited CSV files. \n",
      "\n",
      "DATA SHAPE AND STATS: 422937 news pages and divided up into:\n",
      "\n",
      "152746 \tnews of business category\n",
      "108465 \tnews of science and technology category\n",
      "115920 \tnews of business category\n",
      " 45615 \tnews of health category\n",
      "\n",
      "2076 clusters of similar news for entertainment category\n",
      "1789 clusters of similar news for science and technology category\n",
      "2019 clusters of similar news for business category\n",
      "1347 clusters of similar news for health category\n",
      "\n",
      "References to web pages containing a link to one news included in the collection are also included. They are represented as pairs of urls corresponding to 2-page browsing sessions. The collection includes 15516 2-page browsing sessions covering 946 distinct clusters divided up into:\n",
      "\n",
      "6091 2-page sessions for business category\n",
      "9425 2-page sessions for entertainment category\n",
      "\n",
      " \n",
      "\n",
      "CONTENT\n",
      "=======\n",
      "\n",
      "FILENAME #1: newsCorpora.csv (102.297.000 bytes)\n",
      "DESCRIPTION: News pages\n",
      "FORMAT: ID \\t TITLE \\t URL \\t PUBLISHER \\t CATEGORY \\t STORY \\t HOSTNAME \\t TIMESTAMP\n",
      "\n",
      "where:\n",
      "ID\t\tNumeric ID\n",
      "TITLE\t\tNews title \n",
      "URL\t\tUrl\n",
      "PUBLISHER\tPublisher name\n",
      "CATEGORY\tNews category (b = business, t = science and technology, e = entertainment, m = health)\n",
      "STORY\t\tAlphanumeric ID of the cluster that includes news about the same story\n",
      "HOSTNAME\tUrl hostname\n",
      "TIMESTAMP \tApproximate time the news was published, as the number of milliseconds since the epoch 00:00:00 GMT, January 1, 1970\n",
      "\n",
      "\n",
      "FILENAME #2: 2pageSessions.csv (3.049.986 bytes)\n",
      "DESCRIPTION: 2-page sessions\n",
      "FORMAT: STORY \\t HOSTNAME \\t CATEGORY \\t URL\n",
      "\n",
      "where:\n",
      "STORY\t\tAlphanumeric ID of the cluster that includes news about the same story\n",
      "HOSTNAME\tUrl hostname\n",
      "CATEGORY\tNews category (b = business, t = science and technology, e = entertainment, m = health)\n",
      "URL\t\tTwo space-delimited urls representing a browsing session\n"
     ]
    }
   ],
   "source": [
    "!cat ../data/news_aggregator/readme.txt"
   ]
  },
  {
   "cell_type": "code",
   "execution_count": 6,
   "metadata": {},
   "outputs": [],
   "source": [
    "import pandas as pd"
   ]
  },
  {
   "cell_type": "code",
   "execution_count": 11,
   "metadata": {},
   "outputs": [],
   "source": [
    "df = pd.read_table('../data/news_aggregator/newsCorpora.csv', header=None)"
   ]
  },
  {
   "cell_type": "code",
   "execution_count": 13,
   "metadata": {},
   "outputs": [],
   "source": [
    "df.columns = ['id', 'title', 'url', 'publisher', 'category', 'story', 'hostname', 'timestamp']"
   ]
  },
  {
   "cell_type": "code",
   "execution_count": 16,
   "metadata": {},
   "outputs": [],
   "source": [
    "news_df = df[df['publisher'].isin(['Reuters', 'Huffington Post', 'Businessweek', 'Contactmusic.com', 'Daily Mail'])]"
   ]
  },
  {
   "cell_type": "code",
   "execution_count": 18,
   "metadata": {},
   "outputs": [],
   "source": [
    "news_df = news_df.sample(frac=1)"
   ]
  },
  {
   "cell_type": "code",
   "execution_count": 20,
   "metadata": {},
   "outputs": [],
   "source": [
    "from sklearn.model_selection import train_test_split"
   ]
  },
  {
   "cell_type": "code",
   "execution_count": 21,
   "metadata": {},
   "outputs": [],
   "source": [
    "train_df, test_df = train_test_split(news_df, test_size=.2, random_state=1)"
   ]
  },
  {
   "cell_type": "code",
   "execution_count": 26,
   "metadata": {},
   "outputs": [],
   "source": [
    "test_df, val_df = train_test_split(test_df, test_size=.5, random_state=1)"
   ]
  },
  {
   "cell_type": "code",
   "execution_count": 37,
   "metadata": {},
   "outputs": [],
   "source": [
    "train_df.to_csv('../data/news_aggregator/train.txt', sep='\\t', index=False)"
   ]
  },
  {
   "cell_type": "code",
   "execution_count": 38,
   "metadata": {},
   "outputs": [],
   "source": [
    "val_df.to_csv('../data/news_aggregator/valid.txt', sep='\\t', index=False)"
   ]
  },
  {
   "cell_type": "code",
   "execution_count": 39,
   "metadata": {},
   "outputs": [],
   "source": [
    "test_df.to_csv('../data/news_aggregator/test.txt', sep='\\t', index=False)"
   ]
  },
  {
   "cell_type": "code",
   "execution_count": 29,
   "metadata": {},
   "outputs": [
    {
     "data": {
      "text/html": [
       "<div>\n",
       "<style scoped>\n",
       "    .dataframe tbody tr th:only-of-type {\n",
       "        vertical-align: middle;\n",
       "    }\n",
       "\n",
       "    .dataframe tbody tr th {\n",
       "        vertical-align: top;\n",
       "    }\n",
       "\n",
       "    .dataframe thead th {\n",
       "        text-align: right;\n",
       "    }\n",
       "</style>\n",
       "<table border=\"1\" class=\"dataframe\">\n",
       "  <thead>\n",
       "    <tr style=\"text-align: right;\">\n",
       "      <th></th>\n",
       "      <th>id</th>\n",
       "      <th>title</th>\n",
       "      <th>url</th>\n",
       "      <th>publisher</th>\n",
       "      <th>story</th>\n",
       "      <th>hostname</th>\n",
       "      <th>timestamp</th>\n",
       "    </tr>\n",
       "    <tr>\n",
       "      <th>category</th>\n",
       "      <th></th>\n",
       "      <th></th>\n",
       "      <th></th>\n",
       "      <th></th>\n",
       "      <th></th>\n",
       "      <th></th>\n",
       "      <th></th>\n",
       "    </tr>\n",
       "  </thead>\n",
       "  <tbody>\n",
       "    <tr>\n",
       "      <th>b</th>\n",
       "      <td>4499</td>\n",
       "      <td>4499</td>\n",
       "      <td>4499</td>\n",
       "      <td>4499</td>\n",
       "      <td>4499</td>\n",
       "      <td>4499</td>\n",
       "      <td>4499</td>\n",
       "    </tr>\n",
       "    <tr>\n",
       "      <th>e</th>\n",
       "      <td>4236</td>\n",
       "      <td>4236</td>\n",
       "      <td>4236</td>\n",
       "      <td>4236</td>\n",
       "      <td>4236</td>\n",
       "      <td>4236</td>\n",
       "      <td>4236</td>\n",
       "    </tr>\n",
       "    <tr>\n",
       "      <th>m</th>\n",
       "      <td>739</td>\n",
       "      <td>739</td>\n",
       "      <td>739</td>\n",
       "      <td>739</td>\n",
       "      <td>739</td>\n",
       "      <td>739</td>\n",
       "      <td>739</td>\n",
       "    </tr>\n",
       "    <tr>\n",
       "      <th>t</th>\n",
       "      <td>1198</td>\n",
       "      <td>1198</td>\n",
       "      <td>1198</td>\n",
       "      <td>1198</td>\n",
       "      <td>1198</td>\n",
       "      <td>1198</td>\n",
       "      <td>1198</td>\n",
       "    </tr>\n",
       "  </tbody>\n",
       "</table>\n",
       "</div>"
      ],
      "text/plain": [
       "            id  title   url  publisher  story  hostname  timestamp\n",
       "category                                                          \n",
       "b         4499   4499  4499       4499   4499      4499       4499\n",
       "e         4236   4236  4236       4236   4236      4236       4236\n",
       "m          739    739   739        739    739       739        739\n",
       "t         1198   1198  1198       1198   1198      1198       1198"
      ]
     },
     "execution_count": 29,
     "metadata": {},
     "output_type": "execute_result"
    }
   ],
   "source": [
    "train_df.groupby('category').count()"
   ]
  },
  {
   "cell_type": "code",
   "execution_count": 30,
   "metadata": {},
   "outputs": [
    {
     "data": {
      "text/html": [
       "<div>\n",
       "<style scoped>\n",
       "    .dataframe tbody tr th:only-of-type {\n",
       "        vertical-align: middle;\n",
       "    }\n",
       "\n",
       "    .dataframe tbody tr th {\n",
       "        vertical-align: top;\n",
       "    }\n",
       "\n",
       "    .dataframe thead th {\n",
       "        text-align: right;\n",
       "    }\n",
       "</style>\n",
       "<table border=\"1\" class=\"dataframe\">\n",
       "  <thead>\n",
       "    <tr style=\"text-align: right;\">\n",
       "      <th></th>\n",
       "      <th>id</th>\n",
       "      <th>title</th>\n",
       "      <th>url</th>\n",
       "      <th>publisher</th>\n",
       "      <th>story</th>\n",
       "      <th>hostname</th>\n",
       "      <th>timestamp</th>\n",
       "    </tr>\n",
       "    <tr>\n",
       "      <th>category</th>\n",
       "      <th></th>\n",
       "      <th></th>\n",
       "      <th></th>\n",
       "      <th></th>\n",
       "      <th></th>\n",
       "      <th></th>\n",
       "      <th></th>\n",
       "    </tr>\n",
       "  </thead>\n",
       "  <tbody>\n",
       "    <tr>\n",
       "      <th>b</th>\n",
       "      <td>557</td>\n",
       "      <td>557</td>\n",
       "      <td>557</td>\n",
       "      <td>557</td>\n",
       "      <td>557</td>\n",
       "      <td>557</td>\n",
       "      <td>557</td>\n",
       "    </tr>\n",
       "    <tr>\n",
       "      <th>e</th>\n",
       "      <td>532</td>\n",
       "      <td>532</td>\n",
       "      <td>532</td>\n",
       "      <td>532</td>\n",
       "      <td>532</td>\n",
       "      <td>532</td>\n",
       "      <td>532</td>\n",
       "    </tr>\n",
       "    <tr>\n",
       "      <th>m</th>\n",
       "      <td>82</td>\n",
       "      <td>82</td>\n",
       "      <td>82</td>\n",
       "      <td>82</td>\n",
       "      <td>82</td>\n",
       "      <td>82</td>\n",
       "      <td>82</td>\n",
       "    </tr>\n",
       "    <tr>\n",
       "      <th>t</th>\n",
       "      <td>163</td>\n",
       "      <td>163</td>\n",
       "      <td>163</td>\n",
       "      <td>163</td>\n",
       "      <td>163</td>\n",
       "      <td>163</td>\n",
       "      <td>163</td>\n",
       "    </tr>\n",
       "  </tbody>\n",
       "</table>\n",
       "</div>"
      ],
      "text/plain": [
       "           id  title  url  publisher  story  hostname  timestamp\n",
       "category                                                        \n",
       "b         557    557  557        557    557       557        557\n",
       "e         532    532  532        532    532       532        532\n",
       "m          82     82   82         82     82        82         82\n",
       "t         163    163  163        163    163       163        163"
      ]
     },
     "execution_count": 30,
     "metadata": {},
     "output_type": "execute_result"
    }
   ],
   "source": [
    "test_df.groupby('category').count()"
   ]
  },
  {
   "cell_type": "code",
   "execution_count": 31,
   "metadata": {},
   "outputs": [
    {
     "data": {
      "text/html": [
       "<div>\n",
       "<style scoped>\n",
       "    .dataframe tbody tr th:only-of-type {\n",
       "        vertical-align: middle;\n",
       "    }\n",
       "\n",
       "    .dataframe tbody tr th {\n",
       "        vertical-align: top;\n",
       "    }\n",
       "\n",
       "    .dataframe thead th {\n",
       "        text-align: right;\n",
       "    }\n",
       "</style>\n",
       "<table border=\"1\" class=\"dataframe\">\n",
       "  <thead>\n",
       "    <tr style=\"text-align: right;\">\n",
       "      <th></th>\n",
       "      <th>id</th>\n",
       "      <th>title</th>\n",
       "      <th>url</th>\n",
       "      <th>publisher</th>\n",
       "      <th>story</th>\n",
       "      <th>hostname</th>\n",
       "      <th>timestamp</th>\n",
       "    </tr>\n",
       "    <tr>\n",
       "      <th>category</th>\n",
       "      <th></th>\n",
       "      <th></th>\n",
       "      <th></th>\n",
       "      <th></th>\n",
       "      <th></th>\n",
       "      <th></th>\n",
       "      <th></th>\n",
       "    </tr>\n",
       "  </thead>\n",
       "  <tbody>\n",
       "    <tr>\n",
       "      <th>b</th>\n",
       "      <td>571</td>\n",
       "      <td>571</td>\n",
       "      <td>571</td>\n",
       "      <td>571</td>\n",
       "      <td>571</td>\n",
       "      <td>571</td>\n",
       "      <td>571</td>\n",
       "    </tr>\n",
       "    <tr>\n",
       "      <th>e</th>\n",
       "      <td>511</td>\n",
       "      <td>511</td>\n",
       "      <td>511</td>\n",
       "      <td>511</td>\n",
       "      <td>511</td>\n",
       "      <td>511</td>\n",
       "      <td>511</td>\n",
       "    </tr>\n",
       "    <tr>\n",
       "      <th>m</th>\n",
       "      <td>89</td>\n",
       "      <td>89</td>\n",
       "      <td>89</td>\n",
       "      <td>89</td>\n",
       "      <td>89</td>\n",
       "      <td>89</td>\n",
       "      <td>89</td>\n",
       "    </tr>\n",
       "    <tr>\n",
       "      <th>t</th>\n",
       "      <td>163</td>\n",
       "      <td>163</td>\n",
       "      <td>163</td>\n",
       "      <td>163</td>\n",
       "      <td>163</td>\n",
       "      <td>163</td>\n",
       "      <td>163</td>\n",
       "    </tr>\n",
       "  </tbody>\n",
       "</table>\n",
       "</div>"
      ],
      "text/plain": [
       "           id  title  url  publisher  story  hostname  timestamp\n",
       "category                                                        \n",
       "b         571    571  571        571    571       571        571\n",
       "e         511    511  511        511    511       511        511\n",
       "m          89     89   89         89     89        89         89\n",
       "t         163    163  163        163    163       163        163"
      ]
     },
     "execution_count": 31,
     "metadata": {},
     "output_type": "execute_result"
    }
   ],
   "source": [
    "val_df.groupby('category').count()"
   ]
  },
  {
   "cell_type": "markdown",
   "metadata": {},
   "source": [
    "## 51. 特徴量抽出"
   ]
  },
  {
   "cell_type": "code",
   "execution_count": 43,
   "metadata": {},
   "outputs": [],
   "source": [
    "train_df = pd.read_table('../data/news_aggregator/train.txt')"
   ]
  },
  {
   "cell_type": "code",
   "execution_count": 42,
   "metadata": {},
   "outputs": [],
   "source": [
    "val_df = pd.read_table('../data/news_aggregator/valid.txt')"
   ]
  },
  {
   "cell_type": "code",
   "execution_count": 40,
   "metadata": {},
   "outputs": [],
   "source": [
    "test_df = pd.read_table('../data/news_aggregator/test.txt')"
   ]
  },
  {
   "cell_type": "code",
   "execution_count": 45,
   "metadata": {},
   "outputs": [
    {
     "data": {
      "text/html": [
       "<div>\n",
       "<style scoped>\n",
       "    .dataframe tbody tr th:only-of-type {\n",
       "        vertical-align: middle;\n",
       "    }\n",
       "\n",
       "    .dataframe tbody tr th {\n",
       "        vertical-align: top;\n",
       "    }\n",
       "\n",
       "    .dataframe thead th {\n",
       "        text-align: right;\n",
       "    }\n",
       "</style>\n",
       "<table border=\"1\" class=\"dataframe\">\n",
       "  <thead>\n",
       "    <tr style=\"text-align: right;\">\n",
       "      <th></th>\n",
       "      <th>id</th>\n",
       "      <th>title</th>\n",
       "      <th>url</th>\n",
       "      <th>publisher</th>\n",
       "      <th>category</th>\n",
       "      <th>story</th>\n",
       "      <th>hostname</th>\n",
       "      <th>timestamp</th>\n",
       "    </tr>\n",
       "  </thead>\n",
       "  <tbody>\n",
       "    <tr>\n",
       "      <th>0</th>\n",
       "      <td>192681</td>\n",
       "      <td>Banks are managing lower liquidity on their ow...</td>\n",
       "      <td>http://www.reuters.com/article/2014/05/08/ecb-...</td>\n",
       "      <td>Reuters</td>\n",
       "      <td>b</td>\n",
       "      <td>dj2gaJQ71DfKWyMRvKbZUWIkrAKLM</td>\n",
       "      <td>www.reuters.com</td>\n",
       "      <td>1399562324095</td>\n",
       "    </tr>\n",
       "    <tr>\n",
       "      <th>1</th>\n",
       "      <td>19596</td>\n",
       "      <td>Miley Cyrus caught on video rapping the saucy ...</td>\n",
       "      <td>http://www.dailymail.co.uk/tvshowbiz/article-2...</td>\n",
       "      <td>Daily Mail</td>\n",
       "      <td>e</td>\n",
       "      <td>dl3DxJI4HM7nbaM0Ly9r0fp5LXOzM</td>\n",
       "      <td>www.dailymail.co.uk</td>\n",
       "      <td>1395166785128</td>\n",
       "    </tr>\n",
       "    <tr>\n",
       "      <th>2</th>\n",
       "      <td>27098</td>\n",
       "      <td>27 Things You Need To Know About Happiness</td>\n",
       "      <td>http://www.huffingtonpost.com/2014/03/20/facts...</td>\n",
       "      <td>Huffington Post</td>\n",
       "      <td>e</td>\n",
       "      <td>dVdCQOMmrtem5KMPas9xyT4xvni7M</td>\n",
       "      <td>www.huffingtonpost.com</td>\n",
       "      <td>1395331102743</td>\n",
       "    </tr>\n",
       "    <tr>\n",
       "      <th>3</th>\n",
       "      <td>57111</td>\n",
       "      <td>UPDATE 1-Euro zone private sector loans contra...</td>\n",
       "      <td>http://in.reuters.com/article/2014/03/27/euroz...</td>\n",
       "      <td>Reuters</td>\n",
       "      <td>b</td>\n",
       "      <td>d_yCfTJxDUFGs_MQrL1DnBRuBd_eM</td>\n",
       "      <td>in.reuters.com</td>\n",
       "      <td>1396014023049</td>\n",
       "    </tr>\n",
       "    <tr>\n",
       "      <th>4</th>\n",
       "      <td>152453</td>\n",
       "      <td>Boeing's quarterly revenue rises 8 pct</td>\n",
       "      <td>http://in.reuters.com/article/2014/04/23/boein...</td>\n",
       "      <td>Reuters</td>\n",
       "      <td>b</td>\n",
       "      <td>d2aJePDim3-pgUMy9UuD2mMkzof7M</td>\n",
       "      <td>in.reuters.com</td>\n",
       "      <td>1398272238506</td>\n",
       "    </tr>\n",
       "    <tr>\n",
       "      <th>...</th>\n",
       "      <td>...</td>\n",
       "      <td>...</td>\n",
       "      <td>...</td>\n",
       "      <td>...</td>\n",
       "      <td>...</td>\n",
       "      <td>...</td>\n",
       "      <td>...</td>\n",
       "      <td>...</td>\n",
       "    </tr>\n",
       "    <tr>\n",
       "      <th>1329</th>\n",
       "      <td>210173</td>\n",
       "      <td>Miley Cyrus shares bizarre painted face selfie...</td>\n",
       "      <td>http://www.dailymail.co.uk/tvshowbiz/article-2...</td>\n",
       "      <td>Daily Mail</td>\n",
       "      <td>e</td>\n",
       "      <td>denr4gBnqVUfO1MzvZYchw966BhmM</td>\n",
       "      <td>www.dailymail.co.uk</td>\n",
       "      <td>1399981311319</td>\n",
       "    </tr>\n",
       "    <tr>\n",
       "      <th>1330</th>\n",
       "      <td>169152</td>\n",
       "      <td>Forget 'Batman vs Superman', This Is Amazon vs...</td>\n",
       "      <td>http://www.contactmusic.com/article/netflix-am...</td>\n",
       "      <td>Contactmusic.com</td>\n",
       "      <td>e</td>\n",
       "      <td>dr3jk0vLDaSHQyMw4tJ2lufUc-AgM</td>\n",
       "      <td>www.contactmusic.com</td>\n",
       "      <td>1398794555702</td>\n",
       "    </tr>\n",
       "    <tr>\n",
       "      <th>1331</th>\n",
       "      <td>349240</td>\n",
       "      <td>CNH Tracker-Offshore yuan deposits to pick up ...</td>\n",
       "      <td>http://in.reuters.com/article/2014/07/03/marke...</td>\n",
       "      <td>Reuters</td>\n",
       "      <td>b</td>\n",
       "      <td>dkpRSIMBCMKcw0MGAdthwBjOXNMEM</td>\n",
       "      <td>in.reuters.com</td>\n",
       "      <td>1404381641486</td>\n",
       "    </tr>\n",
       "    <tr>\n",
       "      <th>1332</th>\n",
       "      <td>196225</td>\n",
       "      <td>Fed Proposes Rule Limiting Financial Firms' Co...</td>\n",
       "      <td>http://www.businessweek.com/news/2014-05-08/fe...</td>\n",
       "      <td>Businessweek</td>\n",
       "      <td>b</td>\n",
       "      <td>dQpUvgVmlSoB-sMIAoWv66Nmc4BdM</td>\n",
       "      <td>www.businessweek.com</td>\n",
       "      <td>1399621743515</td>\n",
       "    </tr>\n",
       "    <tr>\n",
       "      <th>1333</th>\n",
       "      <td>282220</td>\n",
       "      <td>Bulgarian Debt Rating Cut by S&amp;P on 'Volatile'...</td>\n",
       "      <td>http://www.businessweek.com/news/2014-06-13/bu...</td>\n",
       "      <td>Businessweek</td>\n",
       "      <td>b</td>\n",
       "      <td>d0Ec0yzweWkyCXMIVNVz8ytPEeE9M</td>\n",
       "      <td>www.businessweek.com</td>\n",
       "      <td>1402734370677</td>\n",
       "    </tr>\n",
       "  </tbody>\n",
       "</table>\n",
       "<p>1334 rows × 8 columns</p>\n",
       "</div>"
      ],
      "text/plain": [
       "          id                                              title  \\\n",
       "0     192681  Banks are managing lower liquidity on their ow...   \n",
       "1      19596  Miley Cyrus caught on video rapping the saucy ...   \n",
       "2      27098         27 Things You Need To Know About Happiness   \n",
       "3      57111  UPDATE 1-Euro zone private sector loans contra...   \n",
       "4     152453             Boeing's quarterly revenue rises 8 pct   \n",
       "...      ...                                                ...   \n",
       "1329  210173  Miley Cyrus shares bizarre painted face selfie...   \n",
       "1330  169152  Forget 'Batman vs Superman', This Is Amazon vs...   \n",
       "1331  349240  CNH Tracker-Offshore yuan deposits to pick up ...   \n",
       "1332  196225  Fed Proposes Rule Limiting Financial Firms' Co...   \n",
       "1333  282220  Bulgarian Debt Rating Cut by S&P on 'Volatile'...   \n",
       "\n",
       "                                                    url         publisher  \\\n",
       "0     http://www.reuters.com/article/2014/05/08/ecb-...           Reuters   \n",
       "1     http://www.dailymail.co.uk/tvshowbiz/article-2...        Daily Mail   \n",
       "2     http://www.huffingtonpost.com/2014/03/20/facts...   Huffington Post   \n",
       "3     http://in.reuters.com/article/2014/03/27/euroz...           Reuters   \n",
       "4     http://in.reuters.com/article/2014/04/23/boein...           Reuters   \n",
       "...                                                 ...               ...   \n",
       "1329  http://www.dailymail.co.uk/tvshowbiz/article-2...        Daily Mail   \n",
       "1330  http://www.contactmusic.com/article/netflix-am...  Contactmusic.com   \n",
       "1331  http://in.reuters.com/article/2014/07/03/marke...           Reuters   \n",
       "1332  http://www.businessweek.com/news/2014-05-08/fe...      Businessweek   \n",
       "1333  http://www.businessweek.com/news/2014-06-13/bu...      Businessweek   \n",
       "\n",
       "     category                          story                hostname  \\\n",
       "0           b  dj2gaJQ71DfKWyMRvKbZUWIkrAKLM         www.reuters.com   \n",
       "1           e  dl3DxJI4HM7nbaM0Ly9r0fp5LXOzM     www.dailymail.co.uk   \n",
       "2           e  dVdCQOMmrtem5KMPas9xyT4xvni7M  www.huffingtonpost.com   \n",
       "3           b  d_yCfTJxDUFGs_MQrL1DnBRuBd_eM          in.reuters.com   \n",
       "4           b  d2aJePDim3-pgUMy9UuD2mMkzof7M          in.reuters.com   \n",
       "...       ...                            ...                     ...   \n",
       "1329        e  denr4gBnqVUfO1MzvZYchw966BhmM     www.dailymail.co.uk   \n",
       "1330        e  dr3jk0vLDaSHQyMw4tJ2lufUc-AgM    www.contactmusic.com   \n",
       "1331        b  dkpRSIMBCMKcw0MGAdthwBjOXNMEM          in.reuters.com   \n",
       "1332        b  dQpUvgVmlSoB-sMIAoWv66Nmc4BdM    www.businessweek.com   \n",
       "1333        b  d0Ec0yzweWkyCXMIVNVz8ytPEeE9M    www.businessweek.com   \n",
       "\n",
       "          timestamp  \n",
       "0     1399562324095  \n",
       "1     1395166785128  \n",
       "2     1395331102743  \n",
       "3     1396014023049  \n",
       "4     1398272238506  \n",
       "...             ...  \n",
       "1329  1399981311319  \n",
       "1330  1398794555702  \n",
       "1331  1404381641486  \n",
       "1332  1399621743515  \n",
       "1333  1402734370677  \n",
       "\n",
       "[1334 rows x 8 columns]"
      ]
     },
     "execution_count": 45,
     "metadata": {},
     "output_type": "execute_result"
    }
   ],
   "source": [
    "import re"
   ]
  }
 ],
 "metadata": {
  "kernelspec": {
   "display_name": "Python 3",
   "language": "python",
   "name": "python3"
  },
  "language_info": {
   "codemirror_mode": {
    "name": "ipython",
    "version": 3
   },
   "file_extension": ".py",
   "mimetype": "text/x-python",
   "name": "python",
   "nbconvert_exporter": "python",
   "pygments_lexer": "ipython3",
   "version": "3.8.2"
  }
 },
 "nbformat": 4,
 "nbformat_minor": 4
}
